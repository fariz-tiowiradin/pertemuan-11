{
 "cells": [
  {
   "cell_type": "markdown",
   "metadata": {},
   "source": [
    "data : https://www.kaggle.com/blastchar/telco-customer-churn"
   ]
  },
  {
   "cell_type": "code",
   "execution_count": 1,
   "metadata": {
    "ExecuteTime": {
     "end_time": "2021-08-09T08:14:05.009833Z",
     "start_time": "2021-08-09T08:14:02.015189Z"
    }
   },
   "outputs": [],
   "source": [
    "import pandas as pd\n",
    "import numpy as np\n",
    "import matplotlib.pyplot as plt\n",
    "import seaborn as sns\n",
    "\n",
    "from sklearn.preprocessing import OneHotEncoder\n",
    "from sklearn.compose import ColumnTransformer\n",
    "import category_encoders as ce\n",
    "\n",
    "from sklearn.model_selection import train_test_split\n",
    "\n",
    "from sklearn.linear_model import LogisticRegression\n",
    "from sklearn.neighbors import KNeighborsClassifier\n",
    "from sklearn.tree import DecisionTreeClassifier\n",
    "from sklearn.ensemble import RandomForestClassifier\n",
    "\n",
    "from sklearn.model_selection import cross_val_score, StratifiedKFold, GridSearchCV\n",
    "from sklearn.metrics import confusion_matrix, recall_score, precision_score, classification_report, f1_score\n",
    "\n",
    "from sklearn.metrics import accuracy_score\n",
    "from sklearn.pipeline import Pipeline\n",
    "\n",
    "from sklearn.ensemble import VotingClassifier\n",
    "\n",
    "from sklearn.ensemble import AdaBoostClassifier, GradientBoostingClassifier\n",
    "from xgboost.sklearn import XGBClassifier"
   ]
  },
  {
   "cell_type": "markdown",
   "metadata": {},
   "source": [
    "# Data"
   ]
  },
  {
   "cell_type": "code",
   "execution_count": 2,
   "metadata": {
    "ExecuteTime": {
     "end_time": "2021-08-09T08:14:05.056442Z",
     "start_time": "2021-08-09T08:14:05.013559Z"
    },
    "scrolled": true
   },
   "outputs": [],
   "source": [
    "telco=pd.read_csv('WA_Fn-UseC_-Telco-Customer-Churn.csv')"
   ]
  },
  {
   "cell_type": "code",
   "execution_count": 3,
   "metadata": {
    "ExecuteTime": {
     "end_time": "2021-08-09T08:14:05.120447Z",
     "start_time": "2021-08-09T08:14:05.062444Z"
    }
   },
   "outputs": [
    {
     "data": {
      "text/html": [
       "<div>\n",
       "<style scoped>\n",
       "    .dataframe tbody tr th:only-of-type {\n",
       "        vertical-align: middle;\n",
       "    }\n",
       "\n",
       "    .dataframe tbody tr th {\n",
       "        vertical-align: top;\n",
       "    }\n",
       "\n",
       "    .dataframe thead th {\n",
       "        text-align: right;\n",
       "    }\n",
       "</style>\n",
       "<table border=\"1\" class=\"dataframe\">\n",
       "  <thead>\n",
       "    <tr style=\"text-align: right;\">\n",
       "      <th></th>\n",
       "      <th>customerID</th>\n",
       "      <th>gender</th>\n",
       "      <th>SeniorCitizen</th>\n",
       "      <th>Partner</th>\n",
       "      <th>Dependents</th>\n",
       "      <th>tenure</th>\n",
       "      <th>PhoneService</th>\n",
       "      <th>MultipleLines</th>\n",
       "      <th>InternetService</th>\n",
       "      <th>OnlineSecurity</th>\n",
       "      <th>...</th>\n",
       "      <th>DeviceProtection</th>\n",
       "      <th>TechSupport</th>\n",
       "      <th>StreamingTV</th>\n",
       "      <th>StreamingMovies</th>\n",
       "      <th>Contract</th>\n",
       "      <th>PaperlessBilling</th>\n",
       "      <th>PaymentMethod</th>\n",
       "      <th>MonthlyCharges</th>\n",
       "      <th>TotalCharges</th>\n",
       "      <th>Churn</th>\n",
       "    </tr>\n",
       "  </thead>\n",
       "  <tbody>\n",
       "    <tr>\n",
       "      <th>0</th>\n",
       "      <td>7590-VHVEG</td>\n",
       "      <td>Female</td>\n",
       "      <td>0</td>\n",
       "      <td>Yes</td>\n",
       "      <td>No</td>\n",
       "      <td>1</td>\n",
       "      <td>No</td>\n",
       "      <td>No phone service</td>\n",
       "      <td>DSL</td>\n",
       "      <td>No</td>\n",
       "      <td>...</td>\n",
       "      <td>No</td>\n",
       "      <td>No</td>\n",
       "      <td>No</td>\n",
       "      <td>No</td>\n",
       "      <td>Month-to-month</td>\n",
       "      <td>Yes</td>\n",
       "      <td>Electronic check</td>\n",
       "      <td>29.85</td>\n",
       "      <td>29.85</td>\n",
       "      <td>No</td>\n",
       "    </tr>\n",
       "    <tr>\n",
       "      <th>1</th>\n",
       "      <td>5575-GNVDE</td>\n",
       "      <td>Male</td>\n",
       "      <td>0</td>\n",
       "      <td>No</td>\n",
       "      <td>No</td>\n",
       "      <td>34</td>\n",
       "      <td>Yes</td>\n",
       "      <td>No</td>\n",
       "      <td>DSL</td>\n",
       "      <td>Yes</td>\n",
       "      <td>...</td>\n",
       "      <td>Yes</td>\n",
       "      <td>No</td>\n",
       "      <td>No</td>\n",
       "      <td>No</td>\n",
       "      <td>One year</td>\n",
       "      <td>No</td>\n",
       "      <td>Mailed check</td>\n",
       "      <td>56.95</td>\n",
       "      <td>1889.5</td>\n",
       "      <td>No</td>\n",
       "    </tr>\n",
       "    <tr>\n",
       "      <th>2</th>\n",
       "      <td>3668-QPYBK</td>\n",
       "      <td>Male</td>\n",
       "      <td>0</td>\n",
       "      <td>No</td>\n",
       "      <td>No</td>\n",
       "      <td>2</td>\n",
       "      <td>Yes</td>\n",
       "      <td>No</td>\n",
       "      <td>DSL</td>\n",
       "      <td>Yes</td>\n",
       "      <td>...</td>\n",
       "      <td>No</td>\n",
       "      <td>No</td>\n",
       "      <td>No</td>\n",
       "      <td>No</td>\n",
       "      <td>Month-to-month</td>\n",
       "      <td>Yes</td>\n",
       "      <td>Mailed check</td>\n",
       "      <td>53.85</td>\n",
       "      <td>108.15</td>\n",
       "      <td>Yes</td>\n",
       "    </tr>\n",
       "    <tr>\n",
       "      <th>3</th>\n",
       "      <td>7795-CFOCW</td>\n",
       "      <td>Male</td>\n",
       "      <td>0</td>\n",
       "      <td>No</td>\n",
       "      <td>No</td>\n",
       "      <td>45</td>\n",
       "      <td>No</td>\n",
       "      <td>No phone service</td>\n",
       "      <td>DSL</td>\n",
       "      <td>Yes</td>\n",
       "      <td>...</td>\n",
       "      <td>Yes</td>\n",
       "      <td>Yes</td>\n",
       "      <td>No</td>\n",
       "      <td>No</td>\n",
       "      <td>One year</td>\n",
       "      <td>No</td>\n",
       "      <td>Bank transfer (automatic)</td>\n",
       "      <td>42.30</td>\n",
       "      <td>1840.75</td>\n",
       "      <td>No</td>\n",
       "    </tr>\n",
       "    <tr>\n",
       "      <th>4</th>\n",
       "      <td>9237-HQITU</td>\n",
       "      <td>Female</td>\n",
       "      <td>0</td>\n",
       "      <td>No</td>\n",
       "      <td>No</td>\n",
       "      <td>2</td>\n",
       "      <td>Yes</td>\n",
       "      <td>No</td>\n",
       "      <td>Fiber optic</td>\n",
       "      <td>No</td>\n",
       "      <td>...</td>\n",
       "      <td>No</td>\n",
       "      <td>No</td>\n",
       "      <td>No</td>\n",
       "      <td>No</td>\n",
       "      <td>Month-to-month</td>\n",
       "      <td>Yes</td>\n",
       "      <td>Electronic check</td>\n",
       "      <td>70.70</td>\n",
       "      <td>151.65</td>\n",
       "      <td>Yes</td>\n",
       "    </tr>\n",
       "    <tr>\n",
       "      <th>...</th>\n",
       "      <td>...</td>\n",
       "      <td>...</td>\n",
       "      <td>...</td>\n",
       "      <td>...</td>\n",
       "      <td>...</td>\n",
       "      <td>...</td>\n",
       "      <td>...</td>\n",
       "      <td>...</td>\n",
       "      <td>...</td>\n",
       "      <td>...</td>\n",
       "      <td>...</td>\n",
       "      <td>...</td>\n",
       "      <td>...</td>\n",
       "      <td>...</td>\n",
       "      <td>...</td>\n",
       "      <td>...</td>\n",
       "      <td>...</td>\n",
       "      <td>...</td>\n",
       "      <td>...</td>\n",
       "      <td>...</td>\n",
       "      <td>...</td>\n",
       "    </tr>\n",
       "    <tr>\n",
       "      <th>7038</th>\n",
       "      <td>6840-RESVB</td>\n",
       "      <td>Male</td>\n",
       "      <td>0</td>\n",
       "      <td>Yes</td>\n",
       "      <td>Yes</td>\n",
       "      <td>24</td>\n",
       "      <td>Yes</td>\n",
       "      <td>Yes</td>\n",
       "      <td>DSL</td>\n",
       "      <td>Yes</td>\n",
       "      <td>...</td>\n",
       "      <td>Yes</td>\n",
       "      <td>Yes</td>\n",
       "      <td>Yes</td>\n",
       "      <td>Yes</td>\n",
       "      <td>One year</td>\n",
       "      <td>Yes</td>\n",
       "      <td>Mailed check</td>\n",
       "      <td>84.80</td>\n",
       "      <td>1990.5</td>\n",
       "      <td>No</td>\n",
       "    </tr>\n",
       "    <tr>\n",
       "      <th>7039</th>\n",
       "      <td>2234-XADUH</td>\n",
       "      <td>Female</td>\n",
       "      <td>0</td>\n",
       "      <td>Yes</td>\n",
       "      <td>Yes</td>\n",
       "      <td>72</td>\n",
       "      <td>Yes</td>\n",
       "      <td>Yes</td>\n",
       "      <td>Fiber optic</td>\n",
       "      <td>No</td>\n",
       "      <td>...</td>\n",
       "      <td>Yes</td>\n",
       "      <td>No</td>\n",
       "      <td>Yes</td>\n",
       "      <td>Yes</td>\n",
       "      <td>One year</td>\n",
       "      <td>Yes</td>\n",
       "      <td>Credit card (automatic)</td>\n",
       "      <td>103.20</td>\n",
       "      <td>7362.9</td>\n",
       "      <td>No</td>\n",
       "    </tr>\n",
       "    <tr>\n",
       "      <th>7040</th>\n",
       "      <td>4801-JZAZL</td>\n",
       "      <td>Female</td>\n",
       "      <td>0</td>\n",
       "      <td>Yes</td>\n",
       "      <td>Yes</td>\n",
       "      <td>11</td>\n",
       "      <td>No</td>\n",
       "      <td>No phone service</td>\n",
       "      <td>DSL</td>\n",
       "      <td>Yes</td>\n",
       "      <td>...</td>\n",
       "      <td>No</td>\n",
       "      <td>No</td>\n",
       "      <td>No</td>\n",
       "      <td>No</td>\n",
       "      <td>Month-to-month</td>\n",
       "      <td>Yes</td>\n",
       "      <td>Electronic check</td>\n",
       "      <td>29.60</td>\n",
       "      <td>346.45</td>\n",
       "      <td>No</td>\n",
       "    </tr>\n",
       "    <tr>\n",
       "      <th>7041</th>\n",
       "      <td>8361-LTMKD</td>\n",
       "      <td>Male</td>\n",
       "      <td>1</td>\n",
       "      <td>Yes</td>\n",
       "      <td>No</td>\n",
       "      <td>4</td>\n",
       "      <td>Yes</td>\n",
       "      <td>Yes</td>\n",
       "      <td>Fiber optic</td>\n",
       "      <td>No</td>\n",
       "      <td>...</td>\n",
       "      <td>No</td>\n",
       "      <td>No</td>\n",
       "      <td>No</td>\n",
       "      <td>No</td>\n",
       "      <td>Month-to-month</td>\n",
       "      <td>Yes</td>\n",
       "      <td>Mailed check</td>\n",
       "      <td>74.40</td>\n",
       "      <td>306.6</td>\n",
       "      <td>Yes</td>\n",
       "    </tr>\n",
       "    <tr>\n",
       "      <th>7042</th>\n",
       "      <td>3186-AJIEK</td>\n",
       "      <td>Male</td>\n",
       "      <td>0</td>\n",
       "      <td>No</td>\n",
       "      <td>No</td>\n",
       "      <td>66</td>\n",
       "      <td>Yes</td>\n",
       "      <td>No</td>\n",
       "      <td>Fiber optic</td>\n",
       "      <td>Yes</td>\n",
       "      <td>...</td>\n",
       "      <td>Yes</td>\n",
       "      <td>Yes</td>\n",
       "      <td>Yes</td>\n",
       "      <td>Yes</td>\n",
       "      <td>Two year</td>\n",
       "      <td>Yes</td>\n",
       "      <td>Bank transfer (automatic)</td>\n",
       "      <td>105.65</td>\n",
       "      <td>6844.5</td>\n",
       "      <td>No</td>\n",
       "    </tr>\n",
       "  </tbody>\n",
       "</table>\n",
       "<p>7043 rows × 21 columns</p>\n",
       "</div>"
      ],
      "text/plain": [
       "      customerID  gender  SeniorCitizen Partner Dependents  tenure  \\\n",
       "0     7590-VHVEG  Female              0     Yes         No       1   \n",
       "1     5575-GNVDE    Male              0      No         No      34   \n",
       "2     3668-QPYBK    Male              0      No         No       2   \n",
       "3     7795-CFOCW    Male              0      No         No      45   \n",
       "4     9237-HQITU  Female              0      No         No       2   \n",
       "...          ...     ...            ...     ...        ...     ...   \n",
       "7038  6840-RESVB    Male              0     Yes        Yes      24   \n",
       "7039  2234-XADUH  Female              0     Yes        Yes      72   \n",
       "7040  4801-JZAZL  Female              0     Yes        Yes      11   \n",
       "7041  8361-LTMKD    Male              1     Yes         No       4   \n",
       "7042  3186-AJIEK    Male              0      No         No      66   \n",
       "\n",
       "     PhoneService     MultipleLines InternetService OnlineSecurity  ...  \\\n",
       "0              No  No phone service             DSL             No  ...   \n",
       "1             Yes                No             DSL            Yes  ...   \n",
       "2             Yes                No             DSL            Yes  ...   \n",
       "3              No  No phone service             DSL            Yes  ...   \n",
       "4             Yes                No     Fiber optic             No  ...   \n",
       "...           ...               ...             ...            ...  ...   \n",
       "7038          Yes               Yes             DSL            Yes  ...   \n",
       "7039          Yes               Yes     Fiber optic             No  ...   \n",
       "7040           No  No phone service             DSL            Yes  ...   \n",
       "7041          Yes               Yes     Fiber optic             No  ...   \n",
       "7042          Yes                No     Fiber optic            Yes  ...   \n",
       "\n",
       "     DeviceProtection TechSupport StreamingTV StreamingMovies        Contract  \\\n",
       "0                  No          No          No              No  Month-to-month   \n",
       "1                 Yes          No          No              No        One year   \n",
       "2                  No          No          No              No  Month-to-month   \n",
       "3                 Yes         Yes          No              No        One year   \n",
       "4                  No          No          No              No  Month-to-month   \n",
       "...               ...         ...         ...             ...             ...   \n",
       "7038              Yes         Yes         Yes             Yes        One year   \n",
       "7039              Yes          No         Yes             Yes        One year   \n",
       "7040               No          No          No              No  Month-to-month   \n",
       "7041               No          No          No              No  Month-to-month   \n",
       "7042              Yes         Yes         Yes             Yes        Two year   \n",
       "\n",
       "     PaperlessBilling              PaymentMethod MonthlyCharges  TotalCharges  \\\n",
       "0                 Yes           Electronic check          29.85         29.85   \n",
       "1                  No               Mailed check          56.95        1889.5   \n",
       "2                 Yes               Mailed check          53.85        108.15   \n",
       "3                  No  Bank transfer (automatic)          42.30       1840.75   \n",
       "4                 Yes           Electronic check          70.70        151.65   \n",
       "...               ...                        ...            ...           ...   \n",
       "7038              Yes               Mailed check          84.80        1990.5   \n",
       "7039              Yes    Credit card (automatic)         103.20        7362.9   \n",
       "7040              Yes           Electronic check          29.60        346.45   \n",
       "7041              Yes               Mailed check          74.40         306.6   \n",
       "7042              Yes  Bank transfer (automatic)         105.65        6844.5   \n",
       "\n",
       "     Churn  \n",
       "0       No  \n",
       "1       No  \n",
       "2      Yes  \n",
       "3       No  \n",
       "4      Yes  \n",
       "...    ...  \n",
       "7038    No  \n",
       "7039    No  \n",
       "7040    No  \n",
       "7041   Yes  \n",
       "7042    No  \n",
       "\n",
       "[7043 rows x 21 columns]"
      ]
     },
     "execution_count": 3,
     "metadata": {},
     "output_type": "execute_result"
    }
   ],
   "source": [
    "pd.set_option('display.max_colwidth', None)\n",
    "telco"
   ]
  },
  {
   "cell_type": "markdown",
   "metadata": {},
   "source": [
    "* customerID = Customer ID\n",
    "\n",
    "* gender = Whether the customer is a male or a female\n",
    "\n",
    "* SeniorCitizen = Whether the customer is a senior citizen or not (1, 0)\n",
    "\n",
    "* Partner = Whether the customer has a partner or not (Yes, No)\n",
    "\n",
    "* Dependents = Whether the customer has dependents or not (Yes, No)\n",
    "\n",
    "* tenure = Number of months the customer has stayed with the company\n",
    "\n",
    "* PhoneService = Whether the customer has a phone service or not (Yes, No)\n",
    "\n",
    "* MultipleLines = Whether the customer has multiple lines or not (Yes, No, No phone service)\n",
    "\n",
    "* InternetService = Customer’s internet service provider (DSL, Fiber optic, No)\n",
    "\n",
    "* OnlineSecurity = Whether the customer has online security or not (Yes, No, No internet service)"
   ]
  },
  {
   "cell_type": "code",
   "execution_count": 4,
   "metadata": {
    "ExecuteTime": {
     "end_time": "2021-08-09T08:14:05.151450Z",
     "start_time": "2021-08-09T08:14:05.122448Z"
    }
   },
   "outputs": [
    {
     "data": {
      "text/plain": [
       "customerID          0\n",
       "gender              0\n",
       "SeniorCitizen       0\n",
       "Partner             0\n",
       "Dependents          0\n",
       "tenure              0\n",
       "PhoneService        0\n",
       "MultipleLines       0\n",
       "InternetService     0\n",
       "OnlineSecurity      0\n",
       "OnlineBackup        0\n",
       "DeviceProtection    0\n",
       "TechSupport         0\n",
       "StreamingTV         0\n",
       "StreamingMovies     0\n",
       "Contract            0\n",
       "PaperlessBilling    0\n",
       "PaymentMethod       0\n",
       "MonthlyCharges      0\n",
       "TotalCharges        0\n",
       "Churn               0\n",
       "dtype: int64"
      ]
     },
     "execution_count": 4,
     "metadata": {},
     "output_type": "execute_result"
    }
   ],
   "source": [
    "telco.isna().sum()"
   ]
  },
  {
   "cell_type": "code",
   "execution_count": 5,
   "metadata": {
    "ExecuteTime": {
     "end_time": "2021-08-09T08:14:05.198656Z",
     "start_time": "2021-08-09T08:14:05.153673Z"
    }
   },
   "outputs": [
    {
     "name": "stdout",
     "output_type": "stream",
     "text": [
      "<class 'pandas.core.frame.DataFrame'>\n",
      "RangeIndex: 7043 entries, 0 to 7042\n",
      "Data columns (total 21 columns):\n",
      " #   Column            Non-Null Count  Dtype  \n",
      "---  ------            --------------  -----  \n",
      " 0   customerID        7043 non-null   object \n",
      " 1   gender            7043 non-null   object \n",
      " 2   SeniorCitizen     7043 non-null   int64  \n",
      " 3   Partner           7043 non-null   object \n",
      " 4   Dependents        7043 non-null   object \n",
      " 5   tenure            7043 non-null   int64  \n",
      " 6   PhoneService      7043 non-null   object \n",
      " 7   MultipleLines     7043 non-null   object \n",
      " 8   InternetService   7043 non-null   object \n",
      " 9   OnlineSecurity    7043 non-null   object \n",
      " 10  OnlineBackup      7043 non-null   object \n",
      " 11  DeviceProtection  7043 non-null   object \n",
      " 12  TechSupport       7043 non-null   object \n",
      " 13  StreamingTV       7043 non-null   object \n",
      " 14  StreamingMovies   7043 non-null   object \n",
      " 15  Contract          7043 non-null   object \n",
      " 16  PaperlessBilling  7043 non-null   object \n",
      " 17  PaymentMethod     7043 non-null   object \n",
      " 18  MonthlyCharges    7043 non-null   float64\n",
      " 19  TotalCharges      7043 non-null   object \n",
      " 20  Churn             7043 non-null   object \n",
      "dtypes: float64(1), int64(2), object(18)\n",
      "memory usage: 1.1+ MB\n"
     ]
    }
   ],
   "source": [
    "telco.info()"
   ]
  },
  {
   "cell_type": "code",
   "execution_count": 6,
   "metadata": {
    "ExecuteTime": {
     "end_time": "2021-08-09T08:14:05.214159Z",
     "start_time": "2021-08-09T08:14:05.203020Z"
    }
   },
   "outputs": [],
   "source": [
    "telco.drop(columns=('customerID'),axis=1, inplace=True)"
   ]
  },
  {
   "cell_type": "code",
   "execution_count": 7,
   "metadata": {
    "ExecuteTime": {
     "end_time": "2021-08-09T08:14:05.245182Z",
     "start_time": "2021-08-09T08:14:05.217012Z"
    }
   },
   "outputs": [
    {
     "data": {
      "text/plain": [
       "          11\n",
       "20.2      11\n",
       "19.75      9\n",
       "19.9       8\n",
       "19.65      8\n",
       "          ..\n",
       "740.8      1\n",
       "189.1      1\n",
       "3865.6     1\n",
       "604.7      1\n",
       "79.1       1\n",
       "Name: TotalCharges, Length: 6531, dtype: int64"
      ]
     },
     "execution_count": 7,
     "metadata": {},
     "output_type": "execute_result"
    }
   ],
   "source": [
    "telco['TotalCharges'].value_counts()"
   ]
  },
  {
   "cell_type": "markdown",
   "metadata": {},
   "source": [
    "ini ternyata ada yg missing value, tapi kayanya karna itu spasi jadi dianggap ada isi datanya pas di value_counts. jadi ini bakal direplace aja diisi jadi 0. trus format TotalCharge diubah jadi float"
   ]
  },
  {
   "cell_type": "code",
   "execution_count": 8,
   "metadata": {
    "ExecuteTime": {
     "end_time": "2021-08-09T08:14:05.261181Z",
     "start_time": "2021-08-09T08:14:05.247179Z"
    }
   },
   "outputs": [],
   "source": [
    "telco['TotalCharges'] = telco['TotalCharges'].replace(' ', 0)"
   ]
  },
  {
   "cell_type": "code",
   "execution_count": 9,
   "metadata": {
    "ExecuteTime": {
     "end_time": "2021-08-09T08:14:05.276730Z",
     "start_time": "2021-08-09T08:14:05.263899Z"
    }
   },
   "outputs": [],
   "source": [
    "telco['TotalCharges']=pd.to_numeric(telco['TotalCharges'])"
   ]
  },
  {
   "cell_type": "code",
   "execution_count": 10,
   "metadata": {
    "ExecuteTime": {
     "end_time": "2021-08-09T08:14:05.308491Z",
     "start_time": "2021-08-09T08:14:05.278733Z"
    }
   },
   "outputs": [
    {
     "name": "stdout",
     "output_type": "stream",
     "text": [
      "<class 'pandas.core.frame.DataFrame'>\n",
      "RangeIndex: 7043 entries, 0 to 7042\n",
      "Data columns (total 20 columns):\n",
      " #   Column            Non-Null Count  Dtype  \n",
      "---  ------            --------------  -----  \n",
      " 0   gender            7043 non-null   object \n",
      " 1   SeniorCitizen     7043 non-null   int64  \n",
      " 2   Partner           7043 non-null   object \n",
      " 3   Dependents        7043 non-null   object \n",
      " 4   tenure            7043 non-null   int64  \n",
      " 5   PhoneService      7043 non-null   object \n",
      " 6   MultipleLines     7043 non-null   object \n",
      " 7   InternetService   7043 non-null   object \n",
      " 8   OnlineSecurity    7043 non-null   object \n",
      " 9   OnlineBackup      7043 non-null   object \n",
      " 10  DeviceProtection  7043 non-null   object \n",
      " 11  TechSupport       7043 non-null   object \n",
      " 12  StreamingTV       7043 non-null   object \n",
      " 13  StreamingMovies   7043 non-null   object \n",
      " 14  Contract          7043 non-null   object \n",
      " 15  PaperlessBilling  7043 non-null   object \n",
      " 16  PaymentMethod     7043 non-null   object \n",
      " 17  MonthlyCharges    7043 non-null   float64\n",
      " 18  TotalCharges      7043 non-null   float64\n",
      " 19  Churn             7043 non-null   object \n",
      "dtypes: float64(2), int64(2), object(16)\n",
      "memory usage: 1.1+ MB\n"
     ]
    }
   ],
   "source": [
    "telco.info()"
   ]
  },
  {
   "cell_type": "markdown",
   "metadata": {
    "ExecuteTime": {
     "end_time": "2021-08-08T05:35:34.348666Z",
     "start_time": "2021-08-08T05:35:34.337668Z"
    }
   },
   "source": [
    "# EDA sederhana tiap Feature"
   ]
  },
  {
   "cell_type": "code",
   "execution_count": 11,
   "metadata": {
    "ExecuteTime": {
     "end_time": "2021-08-09T08:14:05.525751Z",
     "start_time": "2021-08-09T08:14:05.311492Z"
    },
    "scrolled": true
   },
   "outputs": [
    {
     "data": {
      "image/png": "[encoded data removed]",
      "text/plain": [
       "<Figure size 432x288 with 1 Axes>"
      ]
     },
     "metadata": {
      "needs_background": "light"
     },
     "output_type": "display_data"
    }
   ],
   "source": [
    "sns.countplot(data=telco, x='Churn')\n",
    "plt.show()"
   ]
  },
  {
   "cell_type": "code",
   "execution_count": 12,
   "metadata": {
    "ExecuteTime": {
     "end_time": "2021-08-09T08:14:05.557225Z",
     "start_time": "2021-08-09T08:14:05.527748Z"
    },
    "scrolled": true
   },
   "outputs": [
    {
     "data": {
      "text/plain": [
       "No     73.463013\n",
       "Yes    26.536987\n",
       "Name: Churn, dtype: float64"
      ]
     },
     "execution_count": 12,
     "metadata": {},
     "output_type": "execute_result"
    }
   ],
   "source": [
    "telco['Churn'].value_counts()/telco['Churn'].value_counts().sum()*100"
   ]
  },
  {
   "cell_type": "markdown",
   "metadata": {
    "ExecuteTime": {
     "end_time": "2021-08-08T10:40:29.407136Z",
     "start_time": "2021-08-08T10:40:29.388283Z"
    }
   },
   "source": [
    "Target: Churn\n",
    "* Pengguna yg Churn berkisar 26.54% dari keseluruhan data\n",
    "* Pengguna yg tidak Churn berkisar 73.46% dari keseluruhan data"
   ]
  },
  {
   "cell_type": "markdown",
   "metadata": {},
   "source": [
    "## by Gender"
   ]
  },
  {
   "cell_type": "code",
   "execution_count": 13,
   "metadata": {
    "ExecuteTime": {
     "end_time": "2021-08-09T08:14:05.760462Z",
     "start_time": "2021-08-09T08:14:05.560227Z"
    },
    "scrolled": true
   },
   "outputs": [
    {
     "data": {
      "image/png": "[encoded data removed]",
      "text/plain": [
       "<Figure size 432x288 with 1 Axes>"
      ]
     },
     "metadata": {
      "needs_background": "light"
     },
     "output_type": "display_data"
    }
   ],
   "source": [
    "sns.countplot(data=telco, x='gender')\n",
    "plt.show()"
   ]
  },
  {
   "cell_type": "code",
   "execution_count": 14,
   "metadata": {
    "ExecuteTime": {
     "end_time": "2021-08-09T08:14:05.776240Z",
     "start_time": "2021-08-09T08:14:05.764362Z"
    }
   },
   "outputs": [
    {
     "data": {
      "text/plain": [
       "Male      50.47565\n",
       "Female    49.52435\n",
       "Name: gender, dtype: float64"
      ]
     },
     "execution_count": 14,
     "metadata": {},
     "output_type": "execute_result"
    }
   ],
   "source": [
    "telco['gender'].value_counts()/telco['Churn'].value_counts().sum()*100"
   ]
  },
  {
   "cell_type": "code",
   "execution_count": 15,
   "metadata": {
    "ExecuteTime": {
     "end_time": "2021-08-09T08:14:06.092589Z",
     "start_time": "2021-08-09T08:14:05.781240Z"
    },
    "scrolled": true
   },
   "outputs": [
    {
     "data": {
      "image/png": "[encoded data removed]",
      "text/plain": [
       "<Figure size 432x288 with 1 Axes>"
      ]
     },
     "metadata": {
      "needs_background": "light"
     },
     "output_type": "display_data"
    }
   ],
   "source": [
    "sns.countplot(data=telco, x='gender', hue='Churn')\n",
    "plt.show()"
   ]
  },
  {
   "cell_type": "code",
   "execution_count": 16,
   "metadata": {
    "ExecuteTime": {
     "end_time": "2021-08-09T08:14:06.123966Z",
     "start_time": "2021-08-09T08:14:06.094589Z"
    }
   },
   "outputs": [
    {
     "data": {
      "text/plain": [
       "gender  Churn\n",
       "Male    No       2625\n",
       "Female  No       2549\n",
       "        Yes       939\n",
       "Male    Yes       930\n",
       "dtype: int64"
      ]
     },
     "execution_count": 16,
     "metadata": {},
     "output_type": "execute_result"
    }
   ],
   "source": [
    "telco[['gender','Churn']].value_counts()"
   ]
  },
  {
   "cell_type": "code",
   "execution_count": 17,
   "metadata": {
    "ExecuteTime": {
     "end_time": "2021-08-09T08:14:06.155381Z",
     "start_time": "2021-08-09T08:14:06.126898Z"
    }
   },
   "outputs": [
    {
     "data": {
      "text/plain": [
       "26.920871559633024"
      ]
     },
     "execution_count": 17,
     "metadata": {},
     "output_type": "execute_result"
    }
   ],
   "source": [
    "(telco[['gender','Churn']].value_counts()[2]/(telco[['gender','Churn']].value_counts()[1]+telco[['gender','Churn']].value_counts()[2]))*100"
   ]
  },
  {
   "cell_type": "code",
   "execution_count": 18,
   "metadata": {
    "ExecuteTime": {
     "end_time": "2021-08-09T08:14:06.186383Z",
     "start_time": "2021-08-09T08:14:06.157381Z"
    }
   },
   "outputs": [
    {
     "data": {
      "text/plain": [
       "26.160337552742618"
      ]
     },
     "execution_count": 18,
     "metadata": {},
     "output_type": "execute_result"
    }
   ],
   "source": [
    "(telco[['gender','Churn']].value_counts()[3]/(telco[['gender','Churn']].value_counts()[0]+telco[['gender','Churn']].value_counts()[3]))*100"
   ]
  },
  {
   "cell_type": "markdown",
   "metadata": {},
   "source": [
    "* Pengguna dengan `gender Male` sekitar 50.47% dari data keseluruhan, dan sekitar 26.16% nya adalah pengguna yg Churn.\n",
    "\n",
    "* Pengguna dengan `gender Female` sekitar 49.52% dari data, dan sekitar 26.92% nya adalah pengguna yg Churn.\n",
    "\n",
    "* Perbandingan gender overall dan perbandingan gender yg Churn atau tidak ratenya hampir saling sama.\n",
    "\n",
    "Dapat dikatakan `gender` sepertinya **tidak terlalu memengaruhi** Churn suatu konsumen."
   ]
  },
  {
   "cell_type": "markdown",
   "metadata": {},
   "source": [
    "## by SeniorCitizen"
   ]
  },
  {
   "cell_type": "code",
   "execution_count": 19,
   "metadata": {
    "ExecuteTime": {
     "end_time": "2021-08-09T08:14:06.455685Z",
     "start_time": "2021-08-09T08:14:06.189385Z"
    },
    "scrolled": false
   },
   "outputs": [
    {
     "data": {
      "image/png": "[encoded data removed]",
      "text/plain": [
       "<Figure size 432x288 with 1 Axes>"
      ]
     },
     "metadata": {
      "needs_background": "light"
     },
     "output_type": "display_data"
    }
   ],
   "source": [
    "sns.countplot(data=telco, x='SeniorCitizen')\n",
    "plt.show()"
   ]
  },
  {
   "cell_type": "code",
   "execution_count": 20,
   "metadata": {
    "ExecuteTime": {
     "end_time": "2021-08-09T08:14:06.471690Z",
     "start_time": "2021-08-09T08:14:06.458687Z"
    }
   },
   "outputs": [
    {
     "data": {
      "text/plain": [
       "0    83.785319\n",
       "1    16.214681\n",
       "Name: SeniorCitizen, dtype: float64"
      ]
     },
     "execution_count": 20,
     "metadata": {},
     "output_type": "execute_result"
    }
   ],
   "source": [
    "telco['SeniorCitizen'].value_counts()/telco['SeniorCitizen'].value_counts().sum()*100"
   ]
  },
  {
   "cell_type": "code",
   "execution_count": 21,
   "metadata": {
    "ExecuteTime": {
     "end_time": "2021-08-09T08:14:06.738523Z",
     "start_time": "2021-08-09T08:14:06.481694Z"
    },
    "scrolled": false
   },
   "outputs": [
    {
     "data": {
      "image/png": "[encoded data removed]",
      "text/plain": [
       "<Figure size 432x288 with 1 Axes>"
      ]
     },
     "metadata": {
      "needs_background": "light"
     },
     "output_type": "display_data"
    }
   ],
   "source": [
    "sns.countplot(data=telco, x='SeniorCitizen', hue='Churn')\n",
    "plt.show()"
   ]
  },
  {
   "cell_type": "code",
   "execution_count": 22,
   "metadata": {
    "ExecuteTime": {
     "end_time": "2021-08-09T08:14:07.649994Z",
     "start_time": "2021-08-09T08:14:06.742526Z"
    }
   },
   "outputs": [
    {
     "data": {
      "image/png": "[encoded data removed]",
      "text/plain": [
       "<Figure size 432x216 with 2 Axes>"
      ]
     },
     "metadata": {
      "needs_background": "light"
     },
     "output_type": "display_data"
    }
   ],
   "source": [
    "telco['churn_rate'] = np.where(telco['Churn']=='Yes',1,0)\n",
    "grid = sns.FacetGrid(telco, col='SeniorCitizen')\n",
    "ax = grid.map(sns.barplot, 'gender', 'churn_rate', order= ['Female', 'Male'])"
   ]
  },
  {
   "cell_type": "code",
   "execution_count": 23,
   "metadata": {
    "ExecuteTime": {
     "end_time": "2021-08-09T08:14:07.681669Z",
     "start_time": "2021-08-09T08:14:07.652689Z"
    }
   },
   "outputs": [
    {
     "data": {
      "text/plain": [
       "SeniorCitizen  Churn\n",
       "0              No       4508\n",
       "               Yes      1393\n",
       "1              No        666\n",
       "               Yes       476\n",
       "dtype: int64"
      ]
     },
     "execution_count": 23,
     "metadata": {},
     "output_type": "execute_result"
    }
   ],
   "source": [
    "telco[['SeniorCitizen','Churn']].value_counts()"
   ]
  },
  {
   "cell_type": "code",
   "execution_count": 24,
   "metadata": {
    "ExecuteTime": {
     "end_time": "2021-08-09T08:14:07.729673Z",
     "start_time": "2021-08-09T08:14:07.684672Z"
    }
   },
   "outputs": [
    {
     "data": {
      "text/plain": [
       "41.68126094570928"
      ]
     },
     "execution_count": 24,
     "metadata": {},
     "output_type": "execute_result"
    }
   ],
   "source": [
    "(telco[['SeniorCitizen','Churn']].value_counts()[1][1]/(telco[['SeniorCitizen','Churn']].value_counts()[1][0]+telco[['SeniorCitizen','Churn']].value_counts()[1][1]))*100"
   ]
  },
  {
   "cell_type": "code",
   "execution_count": 25,
   "metadata": {
    "ExecuteTime": {
     "end_time": "2021-08-09T08:14:07.777189Z",
     "start_time": "2021-08-09T08:14:07.732675Z"
    }
   },
   "outputs": [
    {
     "data": {
      "text/plain": [
       "23.606168446026096"
      ]
     },
     "execution_count": 25,
     "metadata": {},
     "output_type": "execute_result"
    }
   ],
   "source": [
    "(telco[['SeniorCitizen','Churn']].value_counts()[0][1]/(telco[['SeniorCitizen','Churn']].value_counts()[0][0]+telco[['SeniorCitizen','Churn']].value_counts()[0][1]))*100"
   ]
  },
  {
   "cell_type": "markdown",
   "metadata": {
    "ExecuteTime": {
     "end_time": "2021-08-08T06:22:00.013428Z",
     "start_time": "2021-08-08T06:21:59.993770Z"
    }
   },
   "source": [
    "* Pengguna yg `bukan merupakan SeniorCitizen` sekitar 83.78% dari data keseluruhan, dan sekitar 23.6% nya adalah pengguna yg Churn. \n",
    "\n",
    "* Pengguna yg `merupakan SeniorCitizen` sekitar 16.21% dari data keseluruhan, dan sekitar 41.7% nya adalah pengguna yg Churn.\n",
    "\n",
    "Dapat dikatakan `SeniorCitizen` **jauh lebih memungkinkan** untuk Churn dibanding non SeniorCitizen"
   ]
  },
  {
   "cell_type": "markdown",
   "metadata": {
    "ExecuteTime": {
     "end_time": "2021-08-08T06:29:18.025777Z",
     "start_time": "2021-08-08T06:29:18.015776Z"
    }
   },
   "source": [
    "## by Partner"
   ]
  },
  {
   "cell_type": "code",
   "execution_count": 26,
   "metadata": {
    "ExecuteTime": {
     "end_time": "2021-08-09T08:14:08.014430Z",
     "start_time": "2021-08-09T08:14:07.782190Z"
    },
    "scrolled": false
   },
   "outputs": [
    {
     "data": {
      "image/png": "[encoded data removed]",
      "text/plain": [
       "<Figure size 432x288 with 1 Axes>"
      ]
     },
     "metadata": {
      "needs_background": "light"
     },
     "output_type": "display_data"
    }
   ],
   "source": [
    "sns.countplot(data=telco, x='Partner')\n",
    "plt.show()"
   ]
  },
  {
   "cell_type": "code",
   "execution_count": 27,
   "metadata": {
    "ExecuteTime": {
     "end_time": "2021-08-09T08:14:08.045129Z",
     "start_time": "2021-08-09T08:14:08.017757Z"
    }
   },
   "outputs": [
    {
     "data": {
      "text/plain": [
       "No     51.69672\n",
       "Yes    48.30328\n",
       "Name: Partner, dtype: float64"
      ]
     },
     "execution_count": 27,
     "metadata": {},
     "output_type": "execute_result"
    }
   ],
   "source": [
    "telco['Partner'].value_counts()/telco['Partner'].value_counts().sum()*100"
   ]
  },
  {
   "cell_type": "code",
   "execution_count": 28,
   "metadata": {
    "ExecuteTime": {
     "end_time": "2021-08-09T08:14:08.375784Z",
     "start_time": "2021-08-09T08:14:08.047127Z"
    }
   },
   "outputs": [
    {
     "data": {
      "image/png": "[encoded data removed]",
      "text/plain": [
       "<Figure size 432x288 with 1 Axes>"
      ]
     },
     "metadata": {
      "needs_background": "light"
     },
     "output_type": "display_data"
    }
   ],
   "source": [
    "sns.countplot(data=telco, x='Partner', hue='Churn')\n",
    "plt.show()"
   ]
  },
  {
   "cell_type": "code",
   "execution_count": 29,
   "metadata": {
    "ExecuteTime": {
     "end_time": "2021-08-09T08:14:08.407829Z",
     "start_time": "2021-08-09T08:14:08.377784Z"
    }
   },
   "outputs": [
    {
     "data": {
      "text/plain": [
       "Partner  Churn\n",
       "Yes      No       2733\n",
       "No       No       2441\n",
       "         Yes      1200\n",
       "Yes      Yes       669\n",
       "dtype: int64"
      ]
     },
     "execution_count": 29,
     "metadata": {},
     "output_type": "execute_result"
    }
   ],
   "source": [
    "telco[['Partner','Churn']].value_counts()"
   ]
  },
  {
   "cell_type": "code",
   "execution_count": 30,
   "metadata": {
    "ExecuteTime": {
     "end_time": "2021-08-09T08:14:08.455754Z",
     "start_time": "2021-08-09T08:14:08.410832Z"
    }
   },
   "outputs": [
    {
     "data": {
      "text/plain": [
       "32.95797857731392"
      ]
     },
     "execution_count": 30,
     "metadata": {},
     "output_type": "execute_result"
    }
   ],
   "source": [
    "(telco[['Partner','Churn']].value_counts()[2]/(telco[['Partner','Churn']].value_counts()[1]+telco[['Partner','Churn']].value_counts()[2]))*100"
   ]
  },
  {
   "cell_type": "code",
   "execution_count": 31,
   "metadata": {
    "ExecuteTime": {
     "end_time": "2021-08-09T08:14:08.487090Z",
     "start_time": "2021-08-09T08:14:08.458755Z"
    }
   },
   "outputs": [
    {
     "data": {
      "text/plain": [
       "19.66490299823633"
      ]
     },
     "execution_count": 31,
     "metadata": {},
     "output_type": "execute_result"
    }
   ],
   "source": [
    "(telco[['Partner','Churn']].value_counts()[3]/(telco[['Partner','Churn']].value_counts()[0]+telco[['Partner','Churn']].value_counts()[3]))*100"
   ]
  },
  {
   "cell_type": "markdown",
   "metadata": {
    "ExecuteTime": {
     "end_time": "2021-08-08T06:22:00.013428Z",
     "start_time": "2021-08-08T06:21:59.993770Z"
    }
   },
   "source": [
    "* Pengguna yg `tidak memiliki Partner` sekitar 51.69% dari data keseluruhan, dan sekitar 32.96% nya adalah pengguna yg Churn.\n",
    "* Pengguna yg `memiliki Partner` sekitar 48.30% dari data keseluruhan, dan sekitar 19.66% nya adalah pengguna yg Churn.\n",
    "\n",
    "Dapat dikatakan `Pengguna yg tidak memiliki partner` **lebih memungkinkan** untuk Churn dibanding Pengguna yg memiliki partner."
   ]
  },
  {
   "cell_type": "markdown",
   "metadata": {
    "ExecuteTime": {
     "end_time": "2021-08-08T06:29:18.025777Z",
     "start_time": "2021-08-08T06:29:18.015776Z"
    }
   },
   "source": [
    "## by Dependents"
   ]
  },
  {
   "cell_type": "code",
   "execution_count": 32,
   "metadata": {
    "ExecuteTime": {
     "end_time": "2021-08-09T08:14:08.708847Z",
     "start_time": "2021-08-09T08:14:08.489089Z"
    },
    "scrolled": false
   },
   "outputs": [
    {
     "data": {
      "image/png": "[encoded data removed]",
      "text/plain": [
       "<Figure size 432x288 with 1 Axes>"
      ]
     },
     "metadata": {
      "needs_background": "light"
     },
     "output_type": "display_data"
    }
   ],
   "source": [
    "sns.countplot(data=telco, x='Dependents')\n",
    "plt.show()"
   ]
  },
  {
   "cell_type": "code",
   "execution_count": 33,
   "metadata": {
    "ExecuteTime": {
     "end_time": "2021-08-09T08:14:08.724264Z",
     "start_time": "2021-08-09T08:14:08.710717Z"
    }
   },
   "outputs": [
    {
     "data": {
      "text/plain": [
       "No     70.041176\n",
       "Yes    29.958824\n",
       "Name: Dependents, dtype: float64"
      ]
     },
     "execution_count": 33,
     "metadata": {},
     "output_type": "execute_result"
    }
   ],
   "source": [
    "telco['Dependents'].value_counts()/telco['Dependents'].value_counts().sum()*100"
   ]
  },
  {
   "cell_type": "code",
   "execution_count": 34,
   "metadata": {
    "ExecuteTime": {
     "end_time": "2021-08-09T08:14:09.085804Z",
     "start_time": "2021-08-09T08:14:08.727077Z"
    }
   },
   "outputs": [
    {
     "data": {
      "image/png": "[encoded data removed]",
      "text/plain": [
       "<Figure size 432x288 with 1 Axes>"
      ]
     },
     "metadata": {
      "needs_background": "light"
     },
     "output_type": "display_data"
    }
   ],
   "source": [
    "sns.countplot(data=telco, x='Dependents', hue='Churn')\n",
    "plt.show()"
   ]
  },
  {
   "cell_type": "code",
   "execution_count": 35,
   "metadata": {
    "ExecuteTime": {
     "end_time": "2021-08-09T08:14:09.101805Z",
     "start_time": "2021-08-09T08:14:09.087804Z"
    }
   },
   "outputs": [
    {
     "data": {
      "text/plain": [
       "Dependents  Churn\n",
       "No          No       3390\n",
       "Yes         No       1784\n",
       "No          Yes      1543\n",
       "Yes         Yes       326\n",
       "dtype: int64"
      ]
     },
     "execution_count": 35,
     "metadata": {},
     "output_type": "execute_result"
    }
   ],
   "source": [
    "telco[['Dependents','Churn']].value_counts()"
   ]
  },
  {
   "cell_type": "code",
   "execution_count": 36,
   "metadata": {
    "ExecuteTime": {
     "end_time": "2021-08-09T08:14:09.149808Z",
     "start_time": "2021-08-09T08:14:09.104808Z"
    }
   },
   "outputs": [
    {
     "data": {
      "text/plain": [
       "31.279140482465028"
      ]
     },
     "execution_count": 36,
     "metadata": {},
     "output_type": "execute_result"
    }
   ],
   "source": [
    "(telco[['Dependents','Churn']].value_counts()[2]/(telco[['Dependents','Churn']].value_counts()[0]+telco[['Dependents','Churn']].value_counts()[2]))*100"
   ]
  },
  {
   "cell_type": "code",
   "execution_count": 37,
   "metadata": {
    "ExecuteTime": {
     "end_time": "2021-08-09T08:14:09.196813Z",
     "start_time": "2021-08-09T08:14:09.151810Z"
    }
   },
   "outputs": [
    {
     "data": {
      "text/plain": [
       "15.450236966824646"
      ]
     },
     "execution_count": 37,
     "metadata": {},
     "output_type": "execute_result"
    }
   ],
   "source": [
    "(telco[['Dependents','Churn']].value_counts()[3]/(telco[['Dependents','Churn']].value_counts()[1]+telco[['Dependents','Churn']].value_counts()[3]))*100"
   ]
  },
  {
   "cell_type": "markdown",
   "metadata": {
    "ExecuteTime": {
     "end_time": "2021-08-08T06:22:00.013428Z",
     "start_time": "2021-08-08T06:21:59.993770Z"
    }
   },
   "source": [
    "* Pengguna yg `tidak memiliki Dependents` sekitar 70.04% dari data keseluruhan, dan sekitar 31.28% nya adalah pengguna yg Churn.\n",
    "* Pengguna yg `memiliki Dependents` sekitar 29.96% dari data keseluruhan, dan sekitar 15.45% nya adalah pengguna yg Churn.\n",
    "\n",
    "Dapat dikatakan `Pengguna yg tidak memiliki Dependents` **lebih memungkinkan** untuk Churn dibanding Pengguna yg memiliki Dependents."
   ]
  },
  {
   "cell_type": "markdown",
   "metadata": {
    "ExecuteTime": {
     "end_time": "2021-08-08T06:29:18.025777Z",
     "start_time": "2021-08-08T06:29:18.015776Z"
    }
   },
   "source": [
    "## by PhoneService"
   ]
  },
  {
   "cell_type": "code",
   "execution_count": 38,
   "metadata": {
    "ExecuteTime": {
     "end_time": "2021-08-09T08:14:09.418613Z",
     "start_time": "2021-08-09T08:14:09.199813Z"
    },
    "scrolled": false
   },
   "outputs": [
    {
     "data": {
      "image/png": "[encoded data removed]",
      "text/plain": [
       "<Figure size 432x288 with 1 Axes>"
      ]
     },
     "metadata": {
      "needs_background": "light"
     },
     "output_type": "display_data"
    }
   ],
   "source": [
    "sns.countplot(data=telco, x='PhoneService')\n",
    "plt.show()"
   ]
  },
  {
   "cell_type": "code",
   "execution_count": 39,
   "metadata": {
    "ExecuteTime": {
     "end_time": "2021-08-09T08:14:09.449637Z",
     "start_time": "2021-08-09T08:14:09.420909Z"
    }
   },
   "outputs": [
    {
     "data": {
      "text/plain": [
       "Yes    90.316626\n",
       "No      9.683374\n",
       "Name: PhoneService, dtype: float64"
      ]
     },
     "execution_count": 39,
     "metadata": {},
     "output_type": "execute_result"
    }
   ],
   "source": [
    "telco['PhoneService'].value_counts()/telco['PhoneService'].value_counts().sum()*100"
   ]
  },
  {
   "cell_type": "code",
   "execution_count": 40,
   "metadata": {
    "ExecuteTime": {
     "end_time": "2021-08-09T08:14:09.732948Z",
     "start_time": "2021-08-09T08:14:09.452639Z"
    }
   },
   "outputs": [
    {
     "data": {
      "image/png": "[encoded data removed]",
      "text/plain": [
       "<Figure size 432x288 with 1 Axes>"
      ]
     },
     "metadata": {
      "needs_background": "light"
     },
     "output_type": "display_data"
    }
   ],
   "source": [
    "sns.countplot(data=telco, x='PhoneService', hue='Churn')\n",
    "plt.show()"
   ]
  },
  {
   "cell_type": "code",
   "execution_count": 41,
   "metadata": {
    "ExecuteTime": {
     "end_time": "2021-08-09T08:14:09.763916Z",
     "start_time": "2021-08-09T08:14:09.734913Z"
    }
   },
   "outputs": [
    {
     "data": {
      "text/plain": [
       "PhoneService  Churn\n",
       "Yes           No       4662\n",
       "              Yes      1699\n",
       "No            No        512\n",
       "              Yes       170\n",
       "dtype: int64"
      ]
     },
     "execution_count": 41,
     "metadata": {},
     "output_type": "execute_result"
    }
   ],
   "source": [
    "telco[['PhoneService','Churn']].value_counts()"
   ]
  },
  {
   "cell_type": "code",
   "execution_count": 42,
   "metadata": {
    "ExecuteTime": {
     "end_time": "2021-08-09T08:14:09.796004Z",
     "start_time": "2021-08-09T08:14:09.765919Z"
    }
   },
   "outputs": [
    {
     "data": {
      "text/plain": [
       "26.70963684955196"
      ]
     },
     "execution_count": 42,
     "metadata": {},
     "output_type": "execute_result"
    }
   ],
   "source": [
    "(telco[['PhoneService','Churn']].value_counts()[1]/(telco[['PhoneService','Churn']].value_counts()[0]+telco[['PhoneService','Churn']].value_counts()[1]))*100"
   ]
  },
  {
   "cell_type": "code",
   "execution_count": 43,
   "metadata": {
    "ExecuteTime": {
     "end_time": "2021-08-09T08:14:09.827616Z",
     "start_time": "2021-08-09T08:14:09.799006Z"
    }
   },
   "outputs": [
    {
     "data": {
      "text/plain": [
       "24.926686217008797"
      ]
     },
     "execution_count": 43,
     "metadata": {},
     "output_type": "execute_result"
    }
   ],
   "source": [
    "(telco[['PhoneService','Churn']].value_counts()[3]/(telco[['PhoneService','Churn']].value_counts()[2]+telco[['PhoneService','Churn']].value_counts()[3]))*100"
   ]
  },
  {
   "cell_type": "markdown",
   "metadata": {
    "ExecuteTime": {
     "end_time": "2021-08-08T06:22:00.013428Z",
     "start_time": "2021-08-08T06:21:59.993770Z"
    }
   },
   "source": [
    "* Pengguna yg `memiliki PhoneService` sekitar 90.32% dari data keseluruhan, dan sekitar 26.7% nya adalah pengguna yg Churn.\n",
    "* Pengguna yg `tidak memiliki PhoneService` sekitar 9.68% dari data keseluruhan, dan sekitar 26.93% nya adalah pengguna yg Churn.\n",
    "\n",
    "Dapat dikatakan pengguna lebih menyukai fitur dengan PhoneService, sedangkan di sisi lain `PhoneService` sepertinya **tidak terlalu memengaruhi** Churn suatu konsumen."
   ]
  },
  {
   "cell_type": "markdown",
   "metadata": {
    "ExecuteTime": {
     "end_time": "2021-08-08T06:29:18.025777Z",
     "start_time": "2021-08-08T06:29:18.015776Z"
    }
   },
   "source": [
    "## by MultipleLines"
   ]
  },
  {
   "cell_type": "code",
   "execution_count": 44,
   "metadata": {
    "ExecuteTime": {
     "end_time": "2021-08-09T08:14:10.064637Z",
     "start_time": "2021-08-09T08:14:09.830618Z"
    },
    "scrolled": false
   },
   "outputs": [
    {
     "data": {
      "image/png": "[encoded data removed]",
      "text/plain": [
       "<Figure size 432x288 with 1 Axes>"
      ]
     },
     "metadata": {
      "needs_background": "light"
     },
     "output_type": "display_data"
    }
   ],
   "source": [
    "sns.countplot(data=telco, x='MultipleLines')\n",
    "plt.show()"
   ]
  },
  {
   "cell_type": "code",
   "execution_count": 45,
   "metadata": {
    "ExecuteTime": {
     "end_time": "2021-08-09T08:14:10.096750Z",
     "start_time": "2021-08-09T08:14:10.067638Z"
    }
   },
   "outputs": [
    {
     "data": {
      "text/plain": [
       "No                  48.132898\n",
       "Yes                 42.183729\n",
       "No phone service     9.683374\n",
       "Name: MultipleLines, dtype: float64"
      ]
     },
     "execution_count": 45,
     "metadata": {},
     "output_type": "execute_result"
    }
   ],
   "source": [
    "telco['MultipleLines'].value_counts()/telco['MultipleLines'].value_counts().sum()*100"
   ]
  },
  {
   "cell_type": "code",
   "execution_count": 46,
   "metadata": {
    "ExecuteTime": {
     "end_time": "2021-08-09T08:14:10.428849Z",
     "start_time": "2021-08-09T08:14:10.099750Z"
    }
   },
   "outputs": [
    {
     "data": {
      "image/png": "[encoded data removed]",
      "text/plain": [
       "<Figure size 432x288 with 1 Axes>"
      ]
     },
     "metadata": {
      "needs_background": "light"
     },
     "output_type": "display_data"
    }
   ],
   "source": [
    "sns.countplot(data=telco, x='MultipleLines', hue='Churn')\n",
    "plt.show()"
   ]
  },
  {
   "cell_type": "code",
   "execution_count": 47,
   "metadata": {
    "ExecuteTime": {
     "end_time": "2021-08-09T08:14:10.460578Z",
     "start_time": "2021-08-09T08:14:10.431855Z"
    }
   },
   "outputs": [
    {
     "data": {
      "text/plain": [
       "MultipleLines     Churn\n",
       "No                No       2541\n",
       "Yes               No       2121\n",
       "                  Yes       850\n",
       "No                Yes       849\n",
       "No phone service  No        512\n",
       "                  Yes       170\n",
       "dtype: int64"
      ]
     },
     "execution_count": 47,
     "metadata": {},
     "output_type": "execute_result"
    }
   ],
   "source": [
    "telco[['MultipleLines','Churn']].value_counts()"
   ]
  },
  {
   "cell_type": "code",
   "execution_count": 48,
   "metadata": {
    "ExecuteTime": {
     "end_time": "2021-08-09T08:14:10.492583Z",
     "start_time": "2021-08-09T08:14:10.463580Z"
    }
   },
   "outputs": [
    {
     "data": {
      "text/plain": [
       "25.04424778761062"
      ]
     },
     "execution_count": 48,
     "metadata": {},
     "output_type": "execute_result"
    }
   ],
   "source": [
    "(telco[['MultipleLines','Churn']].value_counts()[3]/(telco[['MultipleLines','Churn']].value_counts()[0]+telco[['MultipleLines','Churn']].value_counts()[3]))*100"
   ]
  },
  {
   "cell_type": "code",
   "execution_count": 49,
   "metadata": {
    "ExecuteTime": {
     "end_time": "2021-08-09T08:14:10.524171Z",
     "start_time": "2021-08-09T08:14:10.495582Z"
    }
   },
   "outputs": [
    {
     "data": {
      "text/plain": [
       "28.6098956580276"
      ]
     },
     "execution_count": 49,
     "metadata": {},
     "output_type": "execute_result"
    }
   ],
   "source": [
    "(telco[['MultipleLines','Churn']].value_counts()[2]/(telco[['MultipleLines','Churn']].value_counts()[1]+telco[['MultipleLines','Churn']].value_counts()[2]))*100"
   ]
  },
  {
   "cell_type": "code",
   "execution_count": 50,
   "metadata": {
    "ExecuteTime": {
     "end_time": "2021-08-09T08:14:10.555796Z",
     "start_time": "2021-08-09T08:14:10.526070Z"
    }
   },
   "outputs": [
    {
     "data": {
      "text/plain": [
       "24.926686217008797"
      ]
     },
     "execution_count": 50,
     "metadata": {},
     "output_type": "execute_result"
    }
   ],
   "source": [
    "(telco[['MultipleLines','Churn']].value_counts()[5]/(telco[['MultipleLines','Churn']].value_counts()[4]+telco[['MultipleLines','Churn']].value_counts()[5]))*100"
   ]
  },
  {
   "cell_type": "markdown",
   "metadata": {
    "ExecuteTime": {
     "end_time": "2021-08-08T06:22:00.013428Z",
     "start_time": "2021-08-08T06:21:59.993770Z"
    }
   },
   "source": [
    "* Pengguna yg `tidak memiliki MultipleLines` sekitar 48.13% dari data keseluruhan, dan sekitar 25.04% nya dalah pengguna yg Churn.\n",
    "* Pengguna yg `memiliki MultipleLines` sekitar 42.18% dari data keseluruhan, dan sekitar 28.6% nya dalah pengguna yg Churn.\n",
    "* Pengguna yg `no phone service` sekitar 9.68% dari data keseluruhan, dan sekitar 24.93% nya dalah pengguna yg Churn.\n",
    "\n",
    "Dapat dikatakan pengguna lebih menyukai fitur tanpa MultipleLines, sedangkan di sisi lain  `Pengguna yg memiliki MultipleLines` **sedikit lebih memungkinkan** untuk Churn dibanding pengguna lainnya."
   ]
  },
  {
   "cell_type": "markdown",
   "metadata": {
    "ExecuteTime": {
     "end_time": "2021-08-08T06:29:18.025777Z",
     "start_time": "2021-08-08T06:29:18.015776Z"
    }
   },
   "source": [
    "## by InternetService"
   ]
  },
  {
   "cell_type": "code",
   "execution_count": 51,
   "metadata": {
    "ExecuteTime": {
     "end_time": "2021-08-09T08:14:10.854339Z",
     "start_time": "2021-08-09T08:14:10.557797Z"
    },
    "scrolled": false
   },
   "outputs": [
    {
     "data": {
      "image/png": "[encoded data removed]",
      "text/plain": [
       "<Figure size 432x288 with 1 Axes>"
      ]
     },
     "metadata": {
      "needs_background": "light"
     },
     "output_type": "display_data"
    }
   ],
   "source": [
    "sns.countplot(data=telco, x='InternetService')\n",
    "plt.show()"
   ]
  },
  {
   "cell_type": "code",
   "execution_count": 52,
   "metadata": {
    "ExecuteTime": {
     "end_time": "2021-08-09T08:14:10.885302Z",
     "start_time": "2021-08-09T08:14:10.857262Z"
    }
   },
   "outputs": [
    {
     "data": {
      "text/plain": [
       "Fiber optic    43.958540\n",
       "DSL            34.374556\n",
       "No             21.666903\n",
       "Name: InternetService, dtype: float64"
      ]
     },
     "execution_count": 52,
     "metadata": {},
     "output_type": "execute_result"
    }
   ],
   "source": [
    "telco['InternetService'].value_counts()/telco['InternetService'].value_counts().sum()*100"
   ]
  },
  {
   "cell_type": "code",
   "execution_count": 53,
   "metadata": {
    "ExecuteTime": {
     "end_time": "2021-08-09T08:14:11.249039Z",
     "start_time": "2021-08-09T08:14:10.888304Z"
    }
   },
   "outputs": [
    {
     "data": {
      "image/png": "[encoded data removed]",
      "text/plain": [
       "<Figure size 432x288 with 1 Axes>"
      ]
     },
     "metadata": {
      "needs_background": "light"
     },
     "output_type": "display_data"
    }
   ],
   "source": [
    "sns.countplot(data=telco, x='InternetService', hue='Churn')\n",
    "plt.show()"
   ]
  },
  {
   "cell_type": "code",
   "execution_count": 54,
   "metadata": {
    "ExecuteTime": {
     "end_time": "2021-08-09T08:14:11.280460Z",
     "start_time": "2021-08-09T08:14:11.252035Z"
    }
   },
   "outputs": [
    {
     "data": {
      "text/plain": [
       "InternetService  Churn\n",
       "DSL              No       1962\n",
       "Fiber optic      No       1799\n",
       "No               No       1413\n",
       "Fiber optic      Yes      1297\n",
       "DSL              Yes       459\n",
       "No               Yes       113\n",
       "dtype: int64"
      ]
     },
     "execution_count": 54,
     "metadata": {},
     "output_type": "execute_result"
    }
   ],
   "source": [
    "telco[['InternetService','Churn']].value_counts()"
   ]
  },
  {
   "cell_type": "code",
   "execution_count": 55,
   "metadata": {
    "ExecuteTime": {
     "end_time": "2021-08-09T08:14:11.326842Z",
     "start_time": "2021-08-09T08:14:11.283466Z"
    }
   },
   "outputs": [
    {
     "data": {
      "text/plain": [
       "41.89276485788114"
      ]
     },
     "execution_count": 55,
     "metadata": {},
     "output_type": "execute_result"
    }
   ],
   "source": [
    "(telco[['InternetService','Churn']].value_counts()[3]/(telco[['InternetService','Churn']].value_counts()[1]+telco[['InternetService','Churn']].value_counts()[3]))*100"
   ]
  },
  {
   "cell_type": "code",
   "execution_count": 56,
   "metadata": {
    "ExecuteTime": {
     "end_time": "2021-08-09T08:14:11.358385Z",
     "start_time": "2021-08-09T08:14:11.329844Z"
    }
   },
   "outputs": [
    {
     "data": {
      "text/plain": [
       "18.95910780669145"
      ]
     },
     "execution_count": 56,
     "metadata": {},
     "output_type": "execute_result"
    }
   ],
   "source": [
    "(telco[['InternetService','Churn']].value_counts()[4]/(telco[['InternetService','Churn']].value_counts()[0]+telco[['InternetService','Churn']].value_counts()[4]))*100"
   ]
  },
  {
   "cell_type": "code",
   "execution_count": 57,
   "metadata": {
    "ExecuteTime": {
     "end_time": "2021-08-09T08:14:11.389385Z",
     "start_time": "2021-08-09T08:14:11.361387Z"
    }
   },
   "outputs": [
    {
     "data": {
      "text/plain": [
       "7.404980340760157"
      ]
     },
     "execution_count": 57,
     "metadata": {},
     "output_type": "execute_result"
    }
   ],
   "source": [
    "(telco[['InternetService','Churn']].value_counts()[5]/(telco[['InternetService','Churn']].value_counts()[2]+telco[['InternetService','Churn']].value_counts()[5]))*100"
   ]
  },
  {
   "cell_type": "markdown",
   "metadata": {
    "ExecuteTime": {
     "end_time": "2021-08-08T06:22:00.013428Z",
     "start_time": "2021-08-08T06:21:59.993770Z"
    }
   },
   "source": [
    "* Pengguna yg `InternetService menggunakan Fiber Optic` sekitar 43.96% dari data keseluruhan, dan sekitar 41.89% nya dalah pengguna yg Churn.\n",
    "* Pengguna yg `InternetService menggunakan DSL` sekitar 34.37% dari data keseluruhan, dan sekitar 18.96% nya dalah pengguna yg Churn.\n",
    "* Pengguna yg `tanpa InternetService` sekitar 21.67% dari data keseluruhan, dan sekitar 7.4% nya dalah pengguna yg Churn.\n",
    "\n",
    "Dapat dikatakan pengguna lebih menyukai InternetService menggunakan Fiber Optic, sedangkan di sisi lain  `Pengguna yg memiliki InternetService dengan Fiber Optic` **sangat jauh lebih memungkinkan** untuk Churn dibanding pengguna lainnya."
   ]
  },
  {
   "cell_type": "markdown",
   "metadata": {
    "ExecuteTime": {
     "end_time": "2021-08-08T06:29:18.025777Z",
     "start_time": "2021-08-08T06:29:18.015776Z"
    }
   },
   "source": [
    "## by OnlineSecurity"
   ]
  },
  {
   "cell_type": "code",
   "execution_count": 58,
   "metadata": {
    "ExecuteTime": {
     "end_time": "2021-08-09T08:14:11.719685Z",
     "start_time": "2021-08-09T08:14:11.391387Z"
    },
    "scrolled": false
   },
   "outputs": [
    {
     "data": {
      "image/png": "[encoded data removed]",
      "text/plain": [
       "<Figure size 432x288 with 1 Axes>"
      ]
     },
     "metadata": {
      "needs_background": "light"
     },
     "output_type": "display_data"
    }
   ],
   "source": [
    "sns.countplot(data=telco, x='OnlineSecurity')\n",
    "plt.show()"
   ]
  },
  {
   "cell_type": "code",
   "execution_count": 59,
   "metadata": {
    "ExecuteTime": {
     "end_time": "2021-08-09T08:14:11.735610Z",
     "start_time": "2021-08-09T08:14:11.721683Z"
    }
   },
   "outputs": [
    {
     "data": {
      "text/plain": [
       "No                     49.666335\n",
       "Yes                    28.666761\n",
       "No internet service    21.666903\n",
       "Name: OnlineSecurity, dtype: float64"
      ]
     },
     "execution_count": 59,
     "metadata": {},
     "output_type": "execute_result"
    }
   ],
   "source": [
    "telco['OnlineSecurity'].value_counts()/telco['OnlineSecurity'].value_counts().sum()*100"
   ]
  },
  {
   "cell_type": "code",
   "execution_count": 60,
   "metadata": {
    "ExecuteTime": {
     "end_time": "2021-08-09T08:14:12.100628Z",
     "start_time": "2021-08-09T08:14:11.738610Z"
    }
   },
   "outputs": [
    {
     "data": {
      "image/png": "[encoded data removed]",
      "text/plain": [
       "<Figure size 432x288 with 1 Axes>"
      ]
     },
     "metadata": {
      "needs_background": "light"
     },
     "output_type": "display_data"
    }
   ],
   "source": [
    "sns.countplot(data=telco, x='OnlineSecurity', hue='Churn')\n",
    "plt.show()"
   ]
  },
  {
   "cell_type": "code",
   "execution_count": 61,
   "metadata": {
    "ExecuteTime": {
     "end_time": "2021-08-09T08:14:12.132633Z",
     "start_time": "2021-08-09T08:14:12.103628Z"
    }
   },
   "outputs": [
    {
     "data": {
      "text/plain": [
       "OnlineSecurity       Churn\n",
       "No                   No       2037\n",
       "Yes                  No       1724\n",
       "No                   Yes      1461\n",
       "No internet service  No       1413\n",
       "Yes                  Yes       295\n",
       "No internet service  Yes       113\n",
       "dtype: int64"
      ]
     },
     "execution_count": 61,
     "metadata": {},
     "output_type": "execute_result"
    }
   ],
   "source": [
    "telco[['OnlineSecurity','Churn']].value_counts()"
   ]
  },
  {
   "cell_type": "code",
   "execution_count": 62,
   "metadata": {
    "ExecuteTime": {
     "end_time": "2021-08-09T08:14:12.163715Z",
     "start_time": "2021-08-09T08:14:12.135631Z"
    }
   },
   "outputs": [
    {
     "data": {
      "text/plain": [
       "14.611193660227837"
      ]
     },
     "execution_count": 62,
     "metadata": {},
     "output_type": "execute_result"
    }
   ],
   "source": [
    "(telco[['OnlineSecurity','Churn']].value_counts()[4]/(telco[['OnlineSecurity','Churn']].value_counts()[1]+telco[['OnlineSecurity','Churn']].value_counts()[4]))*100"
   ]
  },
  {
   "cell_type": "code",
   "execution_count": 63,
   "metadata": {
    "ExecuteTime": {
     "end_time": "2021-08-09T08:14:12.211657Z",
     "start_time": "2021-08-09T08:14:12.166654Z"
    }
   },
   "outputs": [
    {
     "data": {
      "text/plain": [
       "41.76672384219554"
      ]
     },
     "execution_count": 63,
     "metadata": {},
     "output_type": "execute_result"
    }
   ],
   "source": [
    "(telco[['OnlineSecurity','Churn']].value_counts()[2]/(telco[['OnlineSecurity','Churn']].value_counts()[0]+telco[['OnlineSecurity','Churn']].value_counts()[2]))*100"
   ]
  },
  {
   "cell_type": "code",
   "execution_count": 64,
   "metadata": {
    "ExecuteTime": {
     "end_time": "2021-08-09T08:14:12.259660Z",
     "start_time": "2021-08-09T08:14:12.214664Z"
    }
   },
   "outputs": [
    {
     "data": {
      "text/plain": [
       "7.404980340760157"
      ]
     },
     "execution_count": 64,
     "metadata": {},
     "output_type": "execute_result"
    }
   ],
   "source": [
    "(telco[['OnlineSecurity','Churn']].value_counts()[5]/(telco[['OnlineSecurity','Churn']].value_counts()[3]+telco[['OnlineSecurity','Churn']].value_counts()[5]))*100"
   ]
  },
  {
   "cell_type": "markdown",
   "metadata": {
    "ExecuteTime": {
     "end_time": "2021-08-08T06:22:00.013428Z",
     "start_time": "2021-08-08T06:21:59.993770Z"
    }
   },
   "source": [
    "* Pengguna yg `tidak memiliki OnlineSecurity` sekitar 49.67% dari data keseluruhan, dan sekitar 14.61% nya adalah pengguna yg Churn.\n",
    "* Pengguna yg `memiliki OnlineSecurity` sekitar 28.67% dari data keseluruhan, dan sekitar 41.77% nya adalah pengguna yg Churn.\n",
    "* Pengguna yg `no internet service` sekitar 21.67% dari data keseluruhan, dan sekitar 7.4% nya adalah pengguna yg Churn.\n",
    "\n",
    "Dapat dikatakan pengguna lebih menyukai fitur tanpa OnlineSecurity, sedangkan di sisi lain `Pengguna yg memiliki OnlineSecurity` **sangat jauh lebih memungkinkan** untuk Churn dibanding pengguna lainnya."
   ]
  },
  {
   "cell_type": "markdown",
   "metadata": {
    "ExecuteTime": {
     "end_time": "2021-08-08T06:29:18.025777Z",
     "start_time": "2021-08-08T06:29:18.015776Z"
    }
   },
   "source": [
    "## by OnlineBackup"
   ]
  },
  {
   "cell_type": "code",
   "execution_count": 65,
   "metadata": {
    "ExecuteTime": {
     "end_time": "2021-08-09T08:14:12.527516Z",
     "start_time": "2021-08-09T08:14:12.262663Z"
    },
    "scrolled": false
   },
   "outputs": [
    {
     "data": {
      "image/png": "[encoded data removed]",
      "text/plain": [
       "<Figure size 432x288 with 1 Axes>"
      ]
     },
     "metadata": {
      "needs_background": "light"
     },
     "output_type": "display_data"
    }
   ],
   "source": [
    "sns.countplot(data=telco, x='OnlineBackup')\n",
    "plt.show()"
   ]
  },
  {
   "cell_type": "code",
   "execution_count": 66,
   "metadata": {
    "ExecuteTime": {
     "end_time": "2021-08-09T08:14:12.574346Z",
     "start_time": "2021-08-09T08:14:12.549519Z"
    }
   },
   "outputs": [
    {
     "data": {
      "text/plain": [
       "No                     43.844952\n",
       "Yes                    34.488144\n",
       "No internet service    21.666903\n",
       "Name: OnlineBackup, dtype: float64"
      ]
     },
     "execution_count": 66,
     "metadata": {},
     "output_type": "execute_result"
    }
   ],
   "source": [
    "telco['OnlineBackup'].value_counts()/telco['OnlineBackup'].value_counts().sum()*100"
   ]
  },
  {
   "cell_type": "code",
   "execution_count": 67,
   "metadata": {
    "ExecuteTime": {
     "end_time": "2021-08-09T08:14:13.011269Z",
     "start_time": "2021-08-09T08:14:12.585962Z"
    }
   },
   "outputs": [
    {
     "data": {
      "image/png": "[encoded data removed]",
      "text/plain": [
       "<Figure size 432x288 with 1 Axes>"
      ]
     },
     "metadata": {
      "needs_background": "light"
     },
     "output_type": "display_data"
    }
   ],
   "source": [
    "sns.countplot(data=telco, x='OnlineBackup', hue='Churn')\n",
    "plt.show()"
   ]
  },
  {
   "cell_type": "code",
   "execution_count": 68,
   "metadata": {
    "ExecuteTime": {
     "end_time": "2021-08-09T08:14:13.041877Z",
     "start_time": "2021-08-09T08:14:13.014991Z"
    }
   },
   "outputs": [
    {
     "data": {
      "text/plain": [
       "OnlineBackup         Churn\n",
       "Yes                  No       1906\n",
       "No                   No       1855\n",
       "No internet service  No       1413\n",
       "No                   Yes      1233\n",
       "Yes                  Yes       523\n",
       "No internet service  Yes       113\n",
       "dtype: int64"
      ]
     },
     "execution_count": 68,
     "metadata": {},
     "output_type": "execute_result"
    }
   ],
   "source": [
    "telco[['OnlineBackup','Churn']].value_counts()"
   ]
  },
  {
   "cell_type": "code",
   "execution_count": 69,
   "metadata": {
    "ExecuteTime": {
     "end_time": "2021-08-09T08:14:13.088467Z",
     "start_time": "2021-08-09T08:14:13.044454Z"
    }
   },
   "outputs": [
    {
     "data": {
      "text/plain": [
       "21.531494442157268"
      ]
     },
     "execution_count": 69,
     "metadata": {},
     "output_type": "execute_result"
    }
   ],
   "source": [
    "(telco[['OnlineBackup','Churn']].value_counts()[4]/(telco[['OnlineBackup','Churn']].value_counts()[0]+telco[['OnlineBackup','Churn']].value_counts()[4]))*100"
   ]
  },
  {
   "cell_type": "code",
   "execution_count": 70,
   "metadata": {
    "ExecuteTime": {
     "end_time": "2021-08-09T08:14:13.120469Z",
     "start_time": "2021-08-09T08:14:13.091469Z"
    }
   },
   "outputs": [
    {
     "data": {
      "text/plain": [
       "39.92875647668394"
      ]
     },
     "execution_count": 70,
     "metadata": {},
     "output_type": "execute_result"
    }
   ],
   "source": [
    "(telco[['OnlineBackup','Churn']].value_counts()[3]/(telco[['OnlineBackup','Churn']].value_counts()[1]+telco[['OnlineBackup','Churn']].value_counts()[3]))*100"
   ]
  },
  {
   "cell_type": "code",
   "execution_count": 71,
   "metadata": {
    "ExecuteTime": {
     "end_time": "2021-08-09T08:14:13.168442Z",
     "start_time": "2021-08-09T08:14:13.122471Z"
    }
   },
   "outputs": [
    {
     "data": {
      "text/plain": [
       "7.404980340760157"
      ]
     },
     "execution_count": 71,
     "metadata": {},
     "output_type": "execute_result"
    }
   ],
   "source": [
    "(telco[['OnlineBackup','Churn']].value_counts()[5]/(telco[['OnlineBackup','Churn']].value_counts()[2]+telco[['OnlineBackup','Churn']].value_counts()[5]))*100"
   ]
  },
  {
   "cell_type": "markdown",
   "metadata": {
    "ExecuteTime": {
     "end_time": "2021-08-08T06:22:00.013428Z",
     "start_time": "2021-08-08T06:21:59.993770Z"
    }
   },
   "source": [
    "* Pengguna yg `tidak memiliki OnlineBackup` sekitar 43.84% dari data keseluruhan, dan sekitar 21.53% nya adalah pengguna yg Churn.\n",
    "* Pengguna yg `memiliki OnlineBackup` sekitar 34.49% dari data keseluruhan, dan sekitar 39.93% nya adalah pengguna yg Churn.\n",
    "* Pengguna yg `no internet service` sekitar 21.67% dari data keseluruhan, dan sekitar 7.4% nya adalah pengguna yg Churn.\n",
    "\n",
    "Dapat dikatakan pengguna lebih menyukai fitur tanpa OnlineBackup, sedangkan di sisi lain `Pengguna yg memiliki OnlineBackup` **jauh lebih memungkinkan** untuk Churn dibanding pengguna lainnya."
   ]
  },
  {
   "cell_type": "markdown",
   "metadata": {
    "ExecuteTime": {
     "end_time": "2021-08-08T06:29:18.025777Z",
     "start_time": "2021-08-08T06:29:18.015776Z"
    }
   },
   "source": [
    "## by DeviceProtection"
   ]
  },
  {
   "cell_type": "code",
   "execution_count": 72,
   "metadata": {
    "ExecuteTime": {
     "end_time": "2021-08-09T08:14:13.389579Z",
     "start_time": "2021-08-09T08:14:13.170443Z"
    },
    "scrolled": false
   },
   "outputs": [
    {
     "data": {
      "image/png": "[encoded data removed]",
      "text/plain": [
       "<Figure size 432x288 with 1 Axes>"
      ]
     },
     "metadata": {
      "needs_background": "light"
     },
     "output_type": "display_data"
    }
   ],
   "source": [
    "sns.countplot(data=telco, x='DeviceProtection')\n",
    "plt.show()"
   ]
  },
  {
   "cell_type": "code",
   "execution_count": 73,
   "metadata": {
    "ExecuteTime": {
     "end_time": "2021-08-09T08:14:13.421057Z",
     "start_time": "2021-08-09T08:14:13.392794Z"
    }
   },
   "outputs": [
    {
     "data": {
      "text/plain": [
       "No                     43.944342\n",
       "Yes                    34.388755\n",
       "No internet service    21.666903\n",
       "Name: DeviceProtection, dtype: float64"
      ]
     },
     "execution_count": 73,
     "metadata": {},
     "output_type": "execute_result"
    }
   ],
   "source": [
    "telco['DeviceProtection'].value_counts()/telco['DeviceProtection'].value_counts().sum()*100"
   ]
  },
  {
   "cell_type": "code",
   "execution_count": 74,
   "metadata": {
    "ExecuteTime": {
     "end_time": "2021-08-09T08:14:13.797585Z",
     "start_time": "2021-08-09T08:14:13.424604Z"
    }
   },
   "outputs": [
    {
     "data": {
      "image/png": "[encoded data removed]",
      "text/plain": [
       "<Figure size 432x288 with 1 Axes>"
      ]
     },
     "metadata": {
      "needs_background": "light"
     },
     "output_type": "display_data"
    }
   ],
   "source": [
    "sns.countplot(data=telco, x='DeviceProtection', hue='Churn')\n",
    "plt.show()"
   ]
  },
  {
   "cell_type": "code",
   "execution_count": 75,
   "metadata": {
    "ExecuteTime": {
     "end_time": "2021-08-09T08:14:13.828595Z",
     "start_time": "2021-08-09T08:14:13.800587Z"
    }
   },
   "outputs": [
    {
     "data": {
      "text/plain": [
       "DeviceProtection     Churn\n",
       "No                   No       1884\n",
       "Yes                  No       1877\n",
       "No internet service  No       1413\n",
       "No                   Yes      1211\n",
       "Yes                  Yes       545\n",
       "No internet service  Yes       113\n",
       "dtype: int64"
      ]
     },
     "execution_count": 75,
     "metadata": {},
     "output_type": "execute_result"
    }
   ],
   "source": [
    "telco[['DeviceProtection','Churn']].value_counts()"
   ]
  },
  {
   "cell_type": "code",
   "execution_count": 76,
   "metadata": {
    "ExecuteTime": {
     "end_time": "2021-08-09T08:14:13.875597Z",
     "start_time": "2021-08-09T08:14:13.831597Z"
    }
   },
   "outputs": [
    {
     "data": {
      "text/plain": [
       "22.50206440957886"
      ]
     },
     "execution_count": 76,
     "metadata": {},
     "output_type": "execute_result"
    }
   ],
   "source": [
    "(telco[['DeviceProtection','Churn']].value_counts()[4]/(telco[['DeviceProtection','Churn']].value_counts()[1]+telco[['DeviceProtection','Churn']].value_counts()[4]))*100"
   ]
  },
  {
   "cell_type": "code",
   "execution_count": 77,
   "metadata": {
    "ExecuteTime": {
     "end_time": "2021-08-09T08:14:13.907602Z",
     "start_time": "2021-08-09T08:14:13.877597Z"
    }
   },
   "outputs": [
    {
     "data": {
      "text/plain": [
       "39.127625201938606"
      ]
     },
     "execution_count": 77,
     "metadata": {},
     "output_type": "execute_result"
    }
   ],
   "source": [
    "(telco[['DeviceProtection','Churn']].value_counts()[3]/(telco[['DeviceProtection','Churn']].value_counts()[0]+telco[['DeviceProtection','Churn']].value_counts()[3]))*100"
   ]
  },
  {
   "cell_type": "code",
   "execution_count": 78,
   "metadata": {
    "ExecuteTime": {
     "end_time": "2021-08-09T08:14:13.939605Z",
     "start_time": "2021-08-09T08:14:13.910603Z"
    }
   },
   "outputs": [
    {
     "data": {
      "text/plain": [
       "7.404980340760157"
      ]
     },
     "execution_count": 78,
     "metadata": {},
     "output_type": "execute_result"
    }
   ],
   "source": [
    "(telco[['DeviceProtection','Churn']].value_counts()[5]/(telco[['DeviceProtection','Churn']].value_counts()[2]+telco[['DeviceProtection','Churn']].value_counts()[5]))*100"
   ]
  },
  {
   "cell_type": "markdown",
   "metadata": {
    "ExecuteTime": {
     "end_time": "2021-08-08T06:22:00.013428Z",
     "start_time": "2021-08-08T06:21:59.993770Z"
    }
   },
   "source": [
    "* Pengguna yg `tidak memiliki DeviceProtection` sekitar 43.94% dari data keseluruhan, dan sekitar 22.5% nya adalah pengguna yg Churn.\n",
    "* Pengguna yg `memiliki DeviceProtection` sekitar 34.39% dari data keseluruhan, dan sekitar 39.13% nya adalah pengguna yg Churn.\n",
    "* Pengguna yg `no internet service` sekitar 21.67% dari data keseluruhan, dan sekitar 7.4% nya adalah pengguna yg Churn.\n",
    "\n",
    "Dapat dikatakan pengguna lebih menyukai fitur tanpa DeviceProtection, sedangkan di sisi lain `Pengguna yg memiliki DeviceProtection` **jauh lebih memungkinkan** untuk Churn dibanding pengguna lainnya."
   ]
  },
  {
   "cell_type": "markdown",
   "metadata": {
    "ExecuteTime": {
     "end_time": "2021-08-08T06:29:18.025777Z",
     "start_time": "2021-08-08T06:29:18.015776Z"
    }
   },
   "source": [
    "## by TechSupport"
   ]
  },
  {
   "cell_type": "code",
   "execution_count": 79,
   "metadata": {
    "ExecuteTime": {
     "end_time": "2021-08-09T08:14:14.205704Z",
     "start_time": "2021-08-09T08:14:13.941605Z"
    },
    "scrolled": false
   },
   "outputs": [
    {
     "data": {
      "image/png": "[encoded data removed]",
      "text/plain": [
       "<Figure size 432x288 with 1 Axes>"
      ]
     },
     "metadata": {
      "needs_background": "light"
     },
     "output_type": "display_data"
    }
   ],
   "source": [
    "sns.countplot(data=telco, x='TechSupport')\n",
    "plt.show()"
   ]
  },
  {
   "cell_type": "code",
   "execution_count": 80,
   "metadata": {
    "ExecuteTime": {
     "end_time": "2021-08-09T08:14:14.221825Z",
     "start_time": "2021-08-09T08:14:14.208706Z"
    }
   },
   "outputs": [
    {
     "data": {
      "text/plain": [
       "No                     49.311373\n",
       "Yes                    29.021724\n",
       "No internet service    21.666903\n",
       "Name: TechSupport, dtype: float64"
      ]
     },
     "execution_count": 80,
     "metadata": {},
     "output_type": "execute_result"
    }
   ],
   "source": [
    "telco['TechSupport'].value_counts()/telco['TechSupport'].value_counts().sum()*100"
   ]
  },
  {
   "cell_type": "code",
   "execution_count": 81,
   "metadata": {
    "ExecuteTime": {
     "end_time": "2021-08-09T08:14:14.601506Z",
     "start_time": "2021-08-09T08:14:14.225840Z"
    }
   },
   "outputs": [
    {
     "data": {
      "image/png": "[encoded data removed]",
      "text/plain": [
       "<Figure size 432x288 with 1 Axes>"
      ]
     },
     "metadata": {
      "needs_background": "light"
     },
     "output_type": "display_data"
    }
   ],
   "source": [
    "sns.countplot(data=telco, x='TechSupport', hue='Churn')\n",
    "plt.show()"
   ]
  },
  {
   "cell_type": "code",
   "execution_count": 82,
   "metadata": {
    "ExecuteTime": {
     "end_time": "2021-08-09T08:14:14.617509Z",
     "start_time": "2021-08-09T08:14:14.604552Z"
    }
   },
   "outputs": [
    {
     "data": {
      "text/plain": [
       "TechSupport          Churn\n",
       "No                   No       2027\n",
       "Yes                  No       1734\n",
       "No                   Yes      1446\n",
       "No internet service  No       1413\n",
       "Yes                  Yes       310\n",
       "No internet service  Yes       113\n",
       "dtype: int64"
      ]
     },
     "execution_count": 82,
     "metadata": {},
     "output_type": "execute_result"
    }
   ],
   "source": [
    "telco[['TechSupport','Churn']].value_counts()"
   ]
  },
  {
   "cell_type": "code",
   "execution_count": 83,
   "metadata": {
    "ExecuteTime": {
     "end_time": "2021-08-09T08:14:14.649103Z",
     "start_time": "2021-08-09T08:14:14.621509Z"
    }
   },
   "outputs": [
    {
     "data": {
      "text/plain": [
       "15.166340508806261"
      ]
     },
     "execution_count": 83,
     "metadata": {},
     "output_type": "execute_result"
    }
   ],
   "source": [
    "(telco[['TechSupport','Churn']].value_counts()[4]/(telco[['TechSupport','Churn']].value_counts()[1]+telco[['TechSupport','Churn']].value_counts()[4]))*100"
   ]
  },
  {
   "cell_type": "code",
   "execution_count": 84,
   "metadata": {
    "ExecuteTime": {
     "end_time": "2021-08-09T08:14:14.681125Z",
     "start_time": "2021-08-09T08:14:14.653100Z"
    }
   },
   "outputs": [
    {
     "data": {
      "text/plain": [
       "41.63547365390153"
      ]
     },
     "execution_count": 84,
     "metadata": {},
     "output_type": "execute_result"
    }
   ],
   "source": [
    "(telco[['TechSupport','Churn']].value_counts()[2]/(telco[['TechSupport','Churn']].value_counts()[0]+telco[['TechSupport','Churn']].value_counts()[2]))*100"
   ]
  },
  {
   "cell_type": "code",
   "execution_count": 85,
   "metadata": {
    "ExecuteTime": {
     "end_time": "2021-08-09T08:14:14.728512Z",
     "start_time": "2021-08-09T08:14:14.684512Z"
    }
   },
   "outputs": [
    {
     "data": {
      "text/plain": [
       "7.404980340760157"
      ]
     },
     "execution_count": 85,
     "metadata": {},
     "output_type": "execute_result"
    }
   ],
   "source": [
    "(telco[['TechSupport','Churn']].value_counts()[5]/(telco[['TechSupport','Churn']].value_counts()[3]+telco[['TechSupport','Churn']].value_counts()[5]))*100"
   ]
  },
  {
   "cell_type": "markdown",
   "metadata": {
    "ExecuteTime": {
     "end_time": "2021-08-08T06:22:00.013428Z",
     "start_time": "2021-08-08T06:21:59.993770Z"
    }
   },
   "source": [
    "* Pengguna yg `tidak memiliki TechSupport` sekitar 49.31% dari data keseluruhan, dan sekitar 15.16% nya adalah pengguna yg Churn.\n",
    "* Pengguna yg `memiliki TechSupport` sekitar 29.02% dari data keseluruhan, dan sekitar 41.63% nya adalah pengguna yg Churn.\n",
    "* Pengguna yg `no internet service` sekitar 21.67% dari data keseluruhan, dan sekitar 7.4% nya adalah pengguna yg Churn.\n",
    "\n",
    "Dapat dikatakan pengguna lebih menyukai fitur tanpa TechSupport, sedangkan di sisi lain `Pengguna yg memiliki TechSupport` **sangat jauh lebih memungkinkan** untuk Churn dibanding Pengguna yg tidak memiliki TechSupport ataupun Pengguna yg TechSupport no internet service."
   ]
  },
  {
   "cell_type": "markdown",
   "metadata": {
    "ExecuteTime": {
     "end_time": "2021-08-08T06:29:18.025777Z",
     "start_time": "2021-08-08T06:29:18.015776Z"
    }
   },
   "source": [
    "## by StreamingTV"
   ]
  },
  {
   "cell_type": "code",
   "execution_count": 86,
   "metadata": {
    "ExecuteTime": {
     "end_time": "2021-08-09T08:14:14.963954Z",
     "start_time": "2021-08-09T08:14:14.731515Z"
    },
    "scrolled": false
   },
   "outputs": [
    {
     "data": {
      "image/png": "[encoded data removed]",
      "text/plain": [
       "<Figure size 432x288 with 1 Axes>"
      ]
     },
     "metadata": {
      "needs_background": "light"
     },
     "output_type": "display_data"
    }
   ],
   "source": [
    "sns.countplot(data=telco, x='StreamingTV')\n",
    "plt.show()"
   ]
  },
  {
   "cell_type": "code",
   "execution_count": 87,
   "metadata": {
    "ExecuteTime": {
     "end_time": "2021-08-09T08:14:14.995205Z",
     "start_time": "2021-08-09T08:14:14.966816Z"
    }
   },
   "outputs": [
    {
     "data": {
      "text/plain": [
       "No                     39.897771\n",
       "Yes                    38.435326\n",
       "No internet service    21.666903\n",
       "Name: StreamingTV, dtype: float64"
      ]
     },
     "execution_count": 87,
     "metadata": {},
     "output_type": "execute_result"
    }
   ],
   "source": [
    "telco['StreamingTV'].value_counts()/telco['StreamingTV'].value_counts().sum()*100"
   ]
  },
  {
   "cell_type": "code",
   "execution_count": 88,
   "metadata": {
    "ExecuteTime": {
     "end_time": "2021-08-09T08:14:15.310479Z",
     "start_time": "2021-08-09T08:14:14.998206Z"
    }
   },
   "outputs": [
    {
     "data": {
      "image/png": "[encoded data removed]",
      "text/plain": [
       "<Figure size 432x288 with 1 Axes>"
      ]
     },
     "metadata": {
      "needs_background": "light"
     },
     "output_type": "display_data"
    }
   ],
   "source": [
    "sns.countplot(data=telco, x='StreamingTV', hue='Churn')\n",
    "plt.show()"
   ]
  },
  {
   "cell_type": "code",
   "execution_count": 89,
   "metadata": {
    "ExecuteTime": {
     "end_time": "2021-08-09T08:14:15.342587Z",
     "start_time": "2021-08-09T08:14:15.314027Z"
    }
   },
   "outputs": [
    {
     "data": {
      "text/plain": [
       "StreamingTV          Churn\n",
       "Yes                  No       1893\n",
       "No                   No       1868\n",
       "No internet service  No       1413\n",
       "No                   Yes       942\n",
       "Yes                  Yes       814\n",
       "No internet service  Yes       113\n",
       "dtype: int64"
      ]
     },
     "execution_count": 89,
     "metadata": {},
     "output_type": "execute_result"
    }
   ],
   "source": [
    "telco[['StreamingTV','Churn']].value_counts()"
   ]
  },
  {
   "cell_type": "code",
   "execution_count": 90,
   "metadata": {
    "ExecuteTime": {
     "end_time": "2021-08-09T08:14:15.374207Z",
     "start_time": "2021-08-09T08:14:15.344285Z"
    }
   },
   "outputs": [
    {
     "data": {
      "text/plain": [
       "30.070188400443293"
      ]
     },
     "execution_count": 90,
     "metadata": {},
     "output_type": "execute_result"
    }
   ],
   "source": [
    "(telco[['StreamingTV','Churn']].value_counts()[4]/(telco[['StreamingTV','Churn']].value_counts()[0]+telco[['StreamingTV','Churn']].value_counts()[4]))*100"
   ]
  },
  {
   "cell_type": "code",
   "execution_count": 91,
   "metadata": {
    "ExecuteTime": {
     "end_time": "2021-08-09T08:14:15.405509Z",
     "start_time": "2021-08-09T08:14:15.377207Z"
    }
   },
   "outputs": [
    {
     "data": {
      "text/plain": [
       "33.52313167259787"
      ]
     },
     "execution_count": 91,
     "metadata": {},
     "output_type": "execute_result"
    }
   ],
   "source": [
    "(telco[['StreamingTV','Churn']].value_counts()[3]/(telco[['StreamingTV','Churn']].value_counts()[1]+telco[['StreamingTV','Churn']].value_counts()[3]))*100"
   ]
  },
  {
   "cell_type": "code",
   "execution_count": 92,
   "metadata": {
    "ExecuteTime": {
     "end_time": "2021-08-09T08:14:15.453262Z",
     "start_time": "2021-08-09T08:14:15.408515Z"
    }
   },
   "outputs": [
    {
     "data": {
      "text/plain": [
       "7.404980340760157"
      ]
     },
     "execution_count": 92,
     "metadata": {},
     "output_type": "execute_result"
    }
   ],
   "source": [
    "(telco[['StreamingTV','Churn']].value_counts()[5]/(telco[['StreamingTV','Churn']].value_counts()[2]+telco[['StreamingTV','Churn']].value_counts()[5]))*100"
   ]
  },
  {
   "cell_type": "markdown",
   "metadata": {
    "ExecuteTime": {
     "end_time": "2021-08-08T06:22:00.013428Z",
     "start_time": "2021-08-08T06:21:59.993770Z"
    }
   },
   "source": [
    "* Pengguna yg `tidak memiliki StreamingTV` sekitar 39.89% dari data keseluruhan, dan sekitar 30.07% nya adalah pengguna yg Churn.\n",
    "* Pengguna yg `memiliki StreamingTV` sekitar 38.43% dari data keseluruhan, dan sekitar 33.52% nya adalah pengguna yg Churn.\n",
    "* Pengguna yg `no internet service` sekitar 21.67% dari data keseluruhan, dan sekitar 7.4% nya adalah pengguna yg Churn.\n",
    "\n",
    "Dapat dikatakan Fitur StreamingTV cukup berimbang antara pengguna yg memilikinya dengan pengguna yg tidak memilikinya, sedangkan di sisi lain `Pengguna yg memiliki StreamingTV` **sedikit lebih memungkinkan** untuk Churn dibanding pengguna lainnya."
   ]
  },
  {
   "cell_type": "markdown",
   "metadata": {
    "ExecuteTime": {
     "end_time": "2021-08-08T06:29:18.025777Z",
     "start_time": "2021-08-08T06:29:18.015776Z"
    }
   },
   "source": [
    "## by StreamingMovies"
   ]
  },
  {
   "cell_type": "code",
   "execution_count": 93,
   "metadata": {
    "ExecuteTime": {
     "end_time": "2021-08-09T08:14:15.659687Z",
     "start_time": "2021-08-09T08:14:15.456205Z"
    },
    "scrolled": false
   },
   "outputs": [
    {
     "data": {
      "image/png": "[encoded data removed]",
      "text/plain": [
       "<Figure size 432x288 with 1 Axes>"
      ]
     },
     "metadata": {
      "needs_background": "light"
     },
     "output_type": "display_data"
    }
   ],
   "source": [
    "sns.countplot(data=telco, x='StreamingMovies')\n",
    "plt.show()"
   ]
  },
  {
   "cell_type": "code",
   "execution_count": 94,
   "metadata": {
    "ExecuteTime": {
     "end_time": "2021-08-09T08:14:15.675693Z",
     "start_time": "2021-08-09T08:14:15.662689Z"
    }
   },
   "outputs": [
    {
     "data": {
      "text/plain": [
       "No                     39.542808\n",
       "Yes                    38.790288\n",
       "No internet service    21.666903\n",
       "Name: StreamingMovies, dtype: float64"
      ]
     },
     "execution_count": 94,
     "metadata": {},
     "output_type": "execute_result"
    }
   ],
   "source": [
    "telco['StreamingMovies'].value_counts()/telco['StreamingMovies'].value_counts().sum()*100"
   ]
  },
  {
   "cell_type": "code",
   "execution_count": 95,
   "metadata": {
    "ExecuteTime": {
     "end_time": "2021-08-09T08:14:16.004217Z",
     "start_time": "2021-08-09T08:14:15.677688Z"
    }
   },
   "outputs": [
    {
     "data": {
      "image/png": "[encoded data removed]",
      "text/plain": [
       "<Figure size 432x288 with 1 Axes>"
      ]
     },
     "metadata": {
      "needs_background": "light"
     },
     "output_type": "display_data"
    }
   ],
   "source": [
    "sns.countplot(data=telco, x='StreamingMovies', hue='Churn')\n",
    "plt.show()"
   ]
  },
  {
   "cell_type": "code",
   "execution_count": 96,
   "metadata": {
    "ExecuteTime": {
     "end_time": "2021-08-09T08:14:16.035457Z",
     "start_time": "2021-08-09T08:14:16.007094Z"
    }
   },
   "outputs": [
    {
     "data": {
      "text/plain": [
       "StreamingMovies      Churn\n",
       "Yes                  No       1914\n",
       "No                   No       1847\n",
       "No internet service  No       1413\n",
       "No                   Yes       938\n",
       "Yes                  Yes       818\n",
       "No internet service  Yes       113\n",
       "dtype: int64"
      ]
     },
     "execution_count": 96,
     "metadata": {},
     "output_type": "execute_result"
    }
   ],
   "source": [
    "telco[['StreamingMovies','Churn']].value_counts()"
   ]
  },
  {
   "cell_type": "code",
   "execution_count": 97,
   "metadata": {
    "ExecuteTime": {
     "end_time": "2021-08-09T08:14:16.083215Z",
     "start_time": "2021-08-09T08:14:16.039457Z"
    }
   },
   "outputs": [
    {
     "data": {
      "text/plain": [
       "29.941434846266475"
      ]
     },
     "execution_count": 97,
     "metadata": {},
     "output_type": "execute_result"
    }
   ],
   "source": [
    "(telco[['StreamingMovies','Churn']].value_counts()[4]/(telco[['StreamingMovies','Churn']].value_counts()[0]+telco[['StreamingMovies','Churn']].value_counts()[4]))*100"
   ]
  },
  {
   "cell_type": "code",
   "execution_count": 98,
   "metadata": {
    "ExecuteTime": {
     "end_time": "2021-08-09T08:14:16.115031Z",
     "start_time": "2021-08-09T08:14:16.085184Z"
    }
   },
   "outputs": [
    {
     "data": {
      "text/plain": [
       "33.680430879712745"
      ]
     },
     "execution_count": 98,
     "metadata": {},
     "output_type": "execute_result"
    }
   ],
   "source": [
    "(telco[['StreamingMovies','Churn']].value_counts()[3]/(telco[['StreamingMovies','Churn']].value_counts()[1]+telco[['StreamingMovies','Churn']].value_counts()[3]))*100"
   ]
  },
  {
   "cell_type": "code",
   "execution_count": 99,
   "metadata": {
    "ExecuteTime": {
     "end_time": "2021-08-09T08:14:16.146597Z",
     "start_time": "2021-08-09T08:14:16.117031Z"
    }
   },
   "outputs": [
    {
     "data": {
      "text/plain": [
       "7.404980340760157"
      ]
     },
     "execution_count": 99,
     "metadata": {},
     "output_type": "execute_result"
    }
   ],
   "source": [
    "(telco[['StreamingMovies','Churn']].value_counts()[5]/(telco[['StreamingMovies','Churn']].value_counts()[2]+telco[['StreamingMovies','Churn']].value_counts()[5]))*100"
   ]
  },
  {
   "cell_type": "markdown",
   "metadata": {
    "ExecuteTime": {
     "end_time": "2021-08-08T06:22:00.013428Z",
     "start_time": "2021-08-08T06:21:59.993770Z"
    }
   },
   "source": [
    "* Pengguna yg `tidak memiliki StreamingMovies` sekitar 39.54% dari data keseluruhan, dan sekitar 29.94% nya adalah pengguna yg Churn.\n",
    "* Pengguna yg `memiliki StreamingMovies` sekitar 38.79% dari data keseluruhan, dan sekitar 33.68% nya adalah pengguna yg Churn.\n",
    "* Pengguna yg `no internet service` sekitar 21.67% dari data keseluruhan, dan sekitar 7.4% nya adalah pengguna yg Churn.\n",
    "\n",
    "Dapat dikatakan Fitur StreamingMovies cukup berimbang antara pengguna yg memiliki dengan pengguna yg tidak memiliki, sedangkan di sisi lain `Pengguna yg memiliki StreamingMovies` **sedikit lebih memungkinkan** untuk Churn dibanding pengguna lainnya."
   ]
  },
  {
   "cell_type": "markdown",
   "metadata": {
    "ExecuteTime": {
     "end_time": "2021-08-08T06:29:18.025777Z",
     "start_time": "2021-08-08T06:29:18.015776Z"
    }
   },
   "source": [
    "## by Contract"
   ]
  },
  {
   "cell_type": "code",
   "execution_count": 100,
   "metadata": {
    "ExecuteTime": {
     "end_time": "2021-08-09T08:14:16.400675Z",
     "start_time": "2021-08-09T08:14:16.148599Z"
    },
    "scrolled": false
   },
   "outputs": [
    {
     "data": {
      "image/png": "[encoded data removed]",
      "text/plain": [
       "<Figure size 432x288 with 1 Axes>"
      ]
     },
     "metadata": {
      "needs_background": "light"
     },
     "output_type": "display_data"
    }
   ],
   "source": [
    "sns.countplot(data=telco, x='Contract')\n",
    "plt.show()"
   ]
  },
  {
   "cell_type": "code",
   "execution_count": 101,
   "metadata": {
    "ExecuteTime": {
     "end_time": "2021-08-09T08:14:16.432677Z",
     "start_time": "2021-08-09T08:14:16.403678Z"
    }
   },
   "outputs": [
    {
     "data": {
      "text/plain": [
       "Month-to-month    55.019168\n",
       "Two year          24.066449\n",
       "One year          20.914383\n",
       "Name: Contract, dtype: float64"
      ]
     },
     "execution_count": 101,
     "metadata": {},
     "output_type": "execute_result"
    }
   ],
   "source": [
    "telco['Contract'].value_counts()/telco['Contract'].value_counts().sum()*100"
   ]
  },
  {
   "cell_type": "code",
   "execution_count": 102,
   "metadata": {
    "ExecuteTime": {
     "end_time": "2021-08-09T08:14:16.844567Z",
     "start_time": "2021-08-09T08:14:16.436682Z"
    }
   },
   "outputs": [
    {
     "data": {
      "image/png": "[encoded data removed]",
      "text/plain": [
       "<Figure size 432x288 with 1 Axes>"
      ]
     },
     "metadata": {
      "needs_background": "light"
     },
     "output_type": "display_data"
    }
   ],
   "source": [
    "sns.countplot(data=telco, x='Contract', hue='Churn')\n",
    "plt.show()"
   ]
  },
  {
   "cell_type": "code",
   "execution_count": 103,
   "metadata": {
    "ExecuteTime": {
     "end_time": "2021-08-09T08:14:16.875099Z",
     "start_time": "2021-08-09T08:14:16.846569Z"
    }
   },
   "outputs": [
    {
     "data": {
      "text/plain": [
       "Contract        Churn\n",
       "Month-to-month  No       2220\n",
       "                Yes      1655\n",
       "Two year        No       1647\n",
       "One year        No       1307\n",
       "                Yes       166\n",
       "Two year        Yes        48\n",
       "dtype: int64"
      ]
     },
     "execution_count": 103,
     "metadata": {},
     "output_type": "execute_result"
    }
   ],
   "source": [
    "telco[['Contract','Churn']].value_counts()"
   ]
  },
  {
   "cell_type": "code",
   "execution_count": 104,
   "metadata": {
    "ExecuteTime": {
     "end_time": "2021-08-09T08:14:16.922417Z",
     "start_time": "2021-08-09T08:14:16.878101Z"
    }
   },
   "outputs": [
    {
     "data": {
      "text/plain": [
       "42.70967741935484"
      ]
     },
     "execution_count": 104,
     "metadata": {},
     "output_type": "execute_result"
    }
   ],
   "source": [
    "(telco[['Contract','Churn']].value_counts()[1]/(telco[['Contract','Churn']].value_counts()[0]+telco[['Contract','Churn']].value_counts()[1]))*100"
   ]
  },
  {
   "cell_type": "code",
   "execution_count": 105,
   "metadata": {
    "ExecuteTime": {
     "end_time": "2021-08-09T08:14:16.969653Z",
     "start_time": "2021-08-09T08:14:16.926017Z"
    }
   },
   "outputs": [
    {
     "data": {
      "text/plain": [
       "11.269517990495586"
      ]
     },
     "execution_count": 105,
     "metadata": {},
     "output_type": "execute_result"
    }
   ],
   "source": [
    "(telco[['Contract','Churn']].value_counts()[4]/(telco[['Contract','Churn']].value_counts()[3]+telco[['Contract','Churn']].value_counts()[4]))*100"
   ]
  },
  {
   "cell_type": "code",
   "execution_count": 106,
   "metadata": {
    "ExecuteTime": {
     "end_time": "2021-08-09T08:14:17.017657Z",
     "start_time": "2021-08-09T08:14:16.972655Z"
    }
   },
   "outputs": [
    {
     "data": {
      "text/plain": [
       "2.831858407079646"
      ]
     },
     "execution_count": 106,
     "metadata": {},
     "output_type": "execute_result"
    }
   ],
   "source": [
    "(telco[['Contract','Churn']].value_counts()[5]/(telco[['Contract','Churn']].value_counts()[2]+telco[['Contract','Churn']].value_counts()[5]))*100"
   ]
  },
  {
   "cell_type": "markdown",
   "metadata": {
    "ExecuteTime": {
     "end_time": "2021-08-08T06:22:00.013428Z",
     "start_time": "2021-08-08T06:21:59.993770Z"
    }
   },
   "source": [
    "* Pengguna dengan `masa kontrak Month-to-month` sekitar 55.02% dari data keseluruhan, dan sekitar 42.71% nya adalah pengguna yg Churn.\n",
    "* Pengguna dengan `masa kontrak Two year` sekitar 24.07% dari data keseluruhan, dan sekitar 11.27% nya adalah pengguna yg Churn.\n",
    "* Pengguna dengan `masa kontrak One year` sekitar 20.91% dari data keseluruhan, dan sekitar 2.83% nya adalah pengguna yg Churn.\n",
    "\n",
    "Dapat dikatakan pengguna lebih menyukai fitur masa kontrak Month-to-month, sedangkan di sisi lain pengguna dengan `masa kontrak Month-to-month` **sangat jauh lebih memungkinkan** untuk Churn dibanding pengguna dengan opsi masa kontrak lainnya."
   ]
  },
  {
   "cell_type": "markdown",
   "metadata": {
    "ExecuteTime": {
     "end_time": "2021-08-08T06:29:18.025777Z",
     "start_time": "2021-08-08T06:29:18.015776Z"
    }
   },
   "source": [
    "## by PaperlessBilling"
   ]
  },
  {
   "cell_type": "code",
   "execution_count": 107,
   "metadata": {
    "ExecuteTime": {
     "end_time": "2021-08-09T08:14:17.286446Z",
     "start_time": "2021-08-09T08:14:17.021658Z"
    },
    "scrolled": false
   },
   "outputs": [
    {
     "data": {
      "image/png": "[encoded data removed]",
      "text/plain": [
       "<Figure size 432x288 with 1 Axes>"
      ]
     },
     "metadata": {
      "needs_background": "light"
     },
     "output_type": "display_data"
    }
   ],
   "source": [
    "sns.countplot(data=telco, x='PaperlessBilling')\n",
    "plt.show()"
   ]
  },
  {
   "cell_type": "code",
   "execution_count": 108,
   "metadata": {
    "ExecuteTime": {
     "end_time": "2021-08-09T08:14:17.318388Z",
     "start_time": "2021-08-09T08:14:17.290381Z"
    }
   },
   "outputs": [
    {
     "data": {
      "text/plain": [
       "Yes    59.221922\n",
       "No     40.778078\n",
       "Name: PaperlessBilling, dtype: float64"
      ]
     },
     "execution_count": 108,
     "metadata": {},
     "output_type": "execute_result"
    }
   ],
   "source": [
    "telco['PaperlessBilling'].value_counts()/telco['PaperlessBilling'].value_counts().sum()*100"
   ]
  },
  {
   "cell_type": "code",
   "execution_count": 109,
   "metadata": {
    "ExecuteTime": {
     "end_time": "2021-08-09T08:14:17.651515Z",
     "start_time": "2021-08-09T08:14:17.323641Z"
    },
    "scrolled": false
   },
   "outputs": [
    {
     "data": {
      "image/png": "[encoded data removed]",
      "text/plain": [
       "<Figure size 432x288 with 1 Axes>"
      ]
     },
     "metadata": {
      "needs_background": "light"
     },
     "output_type": "display_data"
    }
   ],
   "source": [
    "sns.countplot(data=telco, x='PaperlessBilling', hue='Churn')\n",
    "plt.show()"
   ]
  },
  {
   "cell_type": "code",
   "execution_count": 110,
   "metadata": {
    "ExecuteTime": {
     "end_time": "2021-08-09T08:14:17.682516Z",
     "start_time": "2021-08-09T08:14:17.656518Z"
    }
   },
   "outputs": [
    {
     "data": {
      "text/plain": [
       "PaperlessBilling  Churn\n",
       "Yes               No       2771\n",
       "No                No       2403\n",
       "Yes               Yes      1400\n",
       "No                Yes       469\n",
       "dtype: int64"
      ]
     },
     "execution_count": 110,
     "metadata": {},
     "output_type": "execute_result"
    }
   ],
   "source": [
    "telco[['PaperlessBilling','Churn']].value_counts()"
   ]
  },
  {
   "cell_type": "code",
   "execution_count": 111,
   "metadata": {
    "ExecuteTime": {
     "end_time": "2021-08-09T08:14:17.713257Z",
     "start_time": "2021-08-09T08:14:17.685519Z"
    }
   },
   "outputs": [
    {
     "data": {
      "text/plain": [
       "33.565092304003834"
      ]
     },
     "execution_count": 111,
     "metadata": {},
     "output_type": "execute_result"
    }
   ],
   "source": [
    "(telco[['PaperlessBilling','Churn']].value_counts()[2]/(telco[['PaperlessBilling','Churn']].value_counts()[0]+telco[['PaperlessBilling','Churn']].value_counts()[2]))*100"
   ]
  },
  {
   "cell_type": "code",
   "execution_count": 112,
   "metadata": {
    "ExecuteTime": {
     "end_time": "2021-08-09T08:14:17.759783Z",
     "start_time": "2021-08-09T08:14:17.715177Z"
    }
   },
   "outputs": [
    {
     "data": {
      "text/plain": [
       "25.0936329588015"
      ]
     },
     "execution_count": 112,
     "metadata": {},
     "output_type": "execute_result"
    }
   ],
   "source": [
    "(telco[['PaperlessBilling','Churn']].value_counts()[3]/(telco[['PaperlessBilling','Churn']].value_counts()[2]+telco[['PaperlessBilling','Churn']].value_counts()[3]))*100"
   ]
  },
  {
   "cell_type": "markdown",
   "metadata": {
    "ExecuteTime": {
     "end_time": "2021-08-08T06:22:00.013428Z",
     "start_time": "2021-08-08T06:21:59.993770Z"
    }
   },
   "source": [
    "* Pengguna yg `dengan PaperlessBilling` sekitar 59.22% dari data keseluruhan, dan sekitar 33.56% nya adalah pengguna yg Churn.\n",
    "* Pengguna yg `bukan dengan PaperlessBilling` sekitar 40.78% dari data keseluruhan, dan sekitar 25.09% nya adalah pengguna yg Churn.\n",
    "\n",
    "Dapat dikatakan pengguna lebih menyukai fitur dengan PaperlessBilling, sedangkan di sisi lain metode `dengan PaperlessBilling` **lebih memungkinkan** untuk Churn dibanding pengguna lainnya."
   ]
  },
  {
   "cell_type": "markdown",
   "metadata": {
    "ExecuteTime": {
     "end_time": "2021-08-08T06:29:18.025777Z",
     "start_time": "2021-08-08T06:29:18.015776Z"
    }
   },
   "source": [
    "## by PaymentMethod"
   ]
  },
  {
   "cell_type": "code",
   "execution_count": 113,
   "metadata": {
    "ExecuteTime": {
     "end_time": "2021-08-09T08:14:18.009604Z",
     "start_time": "2021-08-09T08:14:17.762785Z"
    },
    "scrolled": false
   },
   "outputs": [
    {
     "data": {
      "image/png": "[encoded data removed]",
      "text/plain": [
       "<Figure size 720x288 with 1 Axes>"
      ]
     },
     "metadata": {
      "needs_background": "light"
     },
     "output_type": "display_data"
    }
   ],
   "source": [
    "plt.figure(figsize=(10,4))\n",
    "sns.countplot(data=telco, x='PaymentMethod')\n",
    "plt.show()"
   ]
  },
  {
   "cell_type": "code",
   "execution_count": 114,
   "metadata": {
    "ExecuteTime": {
     "end_time": "2021-08-09T08:14:18.039681Z",
     "start_time": "2021-08-09T08:14:18.013709Z"
    }
   },
   "outputs": [
    {
     "data": {
      "text/plain": [
       "Electronic check             33.579441\n",
       "Mailed check                 22.887974\n",
       "Bank transfer (automatic)    21.922476\n",
       "Credit card (automatic)      21.610109\n",
       "Name: PaymentMethod, dtype: float64"
      ]
     },
     "execution_count": 114,
     "metadata": {},
     "output_type": "execute_result"
    }
   ],
   "source": [
    "telco['PaymentMethod'].value_counts()/telco['PaymentMethod'].value_counts().sum()*100"
   ]
  },
  {
   "cell_type": "code",
   "execution_count": 115,
   "metadata": {
    "ExecuteTime": {
     "end_time": "2021-08-09T08:14:18.402516Z",
     "start_time": "2021-08-09T08:14:18.042684Z"
    }
   },
   "outputs": [
    {
     "data": {
      "image/png": "[encoded data removed]",
      "text/plain": [
       "<Figure size 720x288 with 1 Axes>"
      ]
     },
     "metadata": {
      "needs_background": "light"
     },
     "output_type": "display_data"
    }
   ],
   "source": [
    "plt.figure(figsize=(10,4))\n",
    "sns.countplot(data=telco, x='PaymentMethod', hue='Churn')\n",
    "plt.show()"
   ]
  },
  {
   "cell_type": "code",
   "execution_count": 116,
   "metadata": {
    "ExecuteTime": {
     "end_time": "2021-08-09T08:14:18.433695Z",
     "start_time": "2021-08-09T08:14:18.405520Z"
    },
    "scrolled": true
   },
   "outputs": [
    {
     "data": {
      "text/plain": [
       "PaymentMethod              Churn\n",
       "Mailed check               No       1304\n",
       "Electronic check           No       1294\n",
       "Credit card (automatic)    No       1290\n",
       "Bank transfer (automatic)  No       1286\n",
       "Electronic check           Yes      1071\n",
       "Mailed check               Yes       308\n",
       "Bank transfer (automatic)  Yes       258\n",
       "Credit card (automatic)    Yes       232\n",
       "dtype: int64"
      ]
     },
     "execution_count": 116,
     "metadata": {},
     "output_type": "execute_result"
    }
   ],
   "source": [
    "telco[['PaymentMethod','Churn']].value_counts()"
   ]
  },
  {
   "cell_type": "code",
   "execution_count": 117,
   "metadata": {
    "ExecuteTime": {
     "end_time": "2021-08-09T08:14:18.463818Z",
     "start_time": "2021-08-09T08:14:18.435656Z"
    }
   },
   "outputs": [
    {
     "data": {
      "text/plain": [
       "45.28541226215645"
      ]
     },
     "execution_count": 117,
     "metadata": {},
     "output_type": "execute_result"
    }
   ],
   "source": [
    "(telco[['PaymentMethod','Churn']].value_counts()[4]/(telco[['PaymentMethod','Churn']].value_counts()[1]+telco[['PaymentMethod','Churn']].value_counts()[4]))*100"
   ]
  },
  {
   "cell_type": "code",
   "execution_count": 118,
   "metadata": {
    "ExecuteTime": {
     "end_time": "2021-08-09T08:14:18.511662Z",
     "start_time": "2021-08-09T08:14:18.465660Z"
    }
   },
   "outputs": [
    {
     "data": {
      "text/plain": [
       "19.106699751861044"
      ]
     },
     "execution_count": 118,
     "metadata": {},
     "output_type": "execute_result"
    }
   ],
   "source": [
    "(telco[['PaymentMethod','Churn']].value_counts()[5]/(telco[['PaymentMethod','Churn']].value_counts()[0]+telco[['PaymentMethod','Churn']].value_counts()[5]))*100"
   ]
  },
  {
   "cell_type": "code",
   "execution_count": 119,
   "metadata": {
    "ExecuteTime": {
     "end_time": "2021-08-09T08:14:18.543222Z",
     "start_time": "2021-08-09T08:14:18.514665Z"
    }
   },
   "outputs": [
    {
     "data": {
      "text/plain": [
       "16.709844559585495"
      ]
     },
     "execution_count": 119,
     "metadata": {},
     "output_type": "execute_result"
    }
   ],
   "source": [
    "(telco[['PaymentMethod','Churn']].value_counts()[6]/(telco[['PaymentMethod','Churn']].value_counts()[3]+telco[['PaymentMethod','Churn']].value_counts()[6]))*100"
   ]
  },
  {
   "cell_type": "code",
   "execution_count": 120,
   "metadata": {
    "ExecuteTime": {
     "end_time": "2021-08-09T08:14:18.574334Z",
     "start_time": "2021-08-09T08:14:18.545189Z"
    }
   },
   "outputs": [
    {
     "data": {
      "text/plain": [
       "15.243101182654403"
      ]
     },
     "execution_count": 120,
     "metadata": {},
     "output_type": "execute_result"
    }
   ],
   "source": [
    "(telco[['PaymentMethod','Churn']].value_counts()[7]/(telco[['PaymentMethod','Churn']].value_counts()[2]+telco[['PaymentMethod','Churn']].value_counts()[7]))*100"
   ]
  },
  {
   "cell_type": "markdown",
   "metadata": {
    "ExecuteTime": {
     "end_time": "2021-08-08T06:22:00.013428Z",
     "start_time": "2021-08-08T06:21:59.993770Z"
    }
   },
   "source": [
    "* Pengguna yg `PaymentMethod dengan Electronic check` sekitar 33.58% dari data keseluruhan, dan sekitar 45.28% nya adalah pengguna yg Churn.\n",
    "* Pengguna yg `PaymentMethod dengan Mailed check` sekitar 22.89% dari data keseluruhan, dan sekitar 19.11% nya adalah pengguna yg Churn.\n",
    "* Pengguna yg `PaymentMethod dengan Bank transfer (automatic)` sekitar 21.92% dari data keseluruhan, dan sekitar 16.71% nya adalah pengguna yg Churn.\n",
    "* Pengguna yg `PaymentMethod dengan Credit card (automatic)` sekitar 21.61% dari data keseluruhan, dan sekitar 15.24% nya adalah pengguna yg Churn.\n",
    "\n",
    "Dapat dikatakan pengguna lebih menyukai fitur PaymentMethod dengan Electronic check, sedangkan di sisi lain `PaymentMethod dengan Electronic check` **jauh lebih memungkinkan** untuk Churn dibanding pengguna dengan PaymentMethod lainnya."
   ]
  },
  {
   "cell_type": "markdown",
   "metadata": {},
   "source": [
    "## Contract vs PaymentMethod"
   ]
  },
  {
   "cell_type": "code",
   "execution_count": 121,
   "metadata": {
    "ExecuteTime": {
     "end_time": "2021-08-09T08:14:20.152078Z",
     "start_time": "2021-08-09T08:14:18.576194Z"
    },
    "scrolled": true
   },
   "outputs": [
    {
     "data": {
      "image/png": "[encoded data removed]",
      "text/plain": [
       "<Figure size 1008x252 with 4 Axes>"
      ]
     },
     "metadata": {
      "needs_background": "light"
     },
     "output_type": "display_data"
    }
   ],
   "source": [
    "telco['churn_rate'] = np.where(telco['Churn']=='Yes',1,0)\n",
    "grid = sns.FacetGrid(telco, col='PaymentMethod', height=3.5)\n",
    "ax = grid.map(sns.barplot, 'Contract', 'churn_rate', order= ['Month-to-month', 'One year', 'Two year'])"
   ]
  },
  {
   "cell_type": "markdown",
   "metadata": {},
   "source": [
    "Berdasarkan data di atas, dapat diambil kesimpulan bahwa pengguna dengan metode `kontrak Month-to-month` jauh lebih memungkinkan untuk Churn baik itu pengguna dengan metode PaymentMethod menggunakan Electronic check, Mailed check, Bank transfer (automatic), maupun Credit card (automatic)."
   ]
  },
  {
   "cell_type": "markdown",
   "metadata": {
    "ExecuteTime": {
     "end_time": "2021-08-08T06:29:18.025777Z",
     "start_time": "2021-08-08T06:29:18.015776Z"
    }
   },
   "source": [
    "## MonthlyCharges vs Tenure"
   ]
  },
  {
   "cell_type": "code",
   "execution_count": 122,
   "metadata": {
    "ExecuteTime": {
     "end_time": "2021-08-09T08:14:21.243601Z",
     "start_time": "2021-08-09T08:14:20.154669Z"
    },
    "scrolled": true
   },
   "outputs": [
    {
     "data": {
      "image/png": "[encoded data removed]",
      "text/plain": [
       "<Figure size 432x288 with 1 Axes>"
      ]
     },
     "metadata": {
      "needs_background": "light"
     },
     "output_type": "display_data"
    }
   ],
   "source": [
    "sns.scatterplot(data=telco, x='MonthlyCharges', y='tenure', hue='Churn')\n",
    "plt.show()"
   ]
  },
  {
   "cell_type": "markdown",
   "metadata": {},
   "source": [
    "Berdasarkan gambaran persebaran data di atas, dapat dikatakan bahwa mayoritas konsumen yg belum cukup lama sebagai pengguna layanan dengan tagihan bulanan yg besar lebih memungkinkan untuk Churn."
   ]
  },
  {
   "cell_type": "markdown",
   "metadata": {
    "ExecuteTime": {
     "end_time": "2021-08-08T06:29:18.025777Z",
     "start_time": "2021-08-08T06:29:18.015776Z"
    }
   },
   "source": [
    "## TotalCharges vs Tenure"
   ]
  },
  {
   "cell_type": "code",
   "execution_count": 123,
   "metadata": {
    "ExecuteTime": {
     "end_time": "2021-08-09T08:14:22.080080Z",
     "start_time": "2021-08-09T08:14:21.245506Z"
    },
    "scrolled": false
   },
   "outputs": [
    {
     "data": {
      "image/png": "[encoded data removed]",
      "text/plain": [
       "<Figure size 432x288 with 1 Axes>"
      ]
     },
     "metadata": {
      "needs_background": "light"
     },
     "output_type": "display_data"
    }
   ],
   "source": [
    "sns.scatterplot(data=telco, x='TotalCharges', y='tenure', hue='Churn')\n",
    "plt.show()"
   ]
  },
  {
   "cell_type": "markdown",
   "metadata": {
    "ExecuteTime": {
     "end_time": "2021-08-08T06:29:18.025777Z",
     "start_time": "2021-08-08T06:29:18.015776Z"
    }
   },
   "source": [
    "## MonthlyCharges vs TotalCharges"
   ]
  },
  {
   "cell_type": "code",
   "execution_count": 124,
   "metadata": {
    "ExecuteTime": {
     "end_time": "2021-08-09T08:14:22.855674Z",
     "start_time": "2021-08-09T08:14:22.082785Z"
    },
    "scrolled": true
   },
   "outputs": [
    {
     "data": {
      "image/png": "[encoded data removed]",
      "text/plain": [
       "<Figure size 432x288 with 1 Axes>"
      ]
     },
     "metadata": {
      "needs_background": "light"
     },
     "output_type": "display_data"
    }
   ],
   "source": [
    "sns.scatterplot(x='MonthlyCharges', y='TotalCharges', data=telco, hue='Churn')\n",
    "plt.show()"
   ]
  },
  {
   "cell_type": "markdown",
   "metadata": {},
   "source": [
    "Berdasarkan gambaran persebaran data di atas, dapat dikatakan bahwa mayoritas konsumen yg memiliki tagihan bulanan yg besar lebih memungkinkan untuk Churn dibandingkan pengguna yg memiliki total tagihan yg besar."
   ]
  },
  {
   "cell_type": "markdown",
   "metadata": {},
   "source": [
    "# Preprocessing"
   ]
  },
  {
   "cell_type": "code",
   "execution_count": 125,
   "metadata": {
    "ExecuteTime": {
     "end_time": "2021-08-09T08:14:22.951682Z",
     "start_time": "2021-08-09T08:14:22.858676Z"
    }
   },
   "outputs": [
    {
     "data": {
      "text/html": [
       "<div>\n",
       "<style scoped>\n",
       "    .dataframe tbody tr th:only-of-type {\n",
       "        vertical-align: middle;\n",
       "    }\n",
       "\n",
       "    .dataframe tbody tr th {\n",
       "        vertical-align: top;\n",
       "    }\n",
       "\n",
       "    .dataframe thead th {\n",
       "        text-align: right;\n",
       "    }\n",
       "</style>\n",
       "<table border=\"1\" class=\"dataframe\">\n",
       "  <thead>\n",
       "    <tr style=\"text-align: right;\">\n",
       "      <th></th>\n",
       "      <th>gender</th>\n",
       "      <th>Partner</th>\n",
       "      <th>Dependents</th>\n",
       "      <th>PhoneService</th>\n",
       "      <th>MultipleLines</th>\n",
       "      <th>InternetService</th>\n",
       "      <th>OnlineSecurity</th>\n",
       "      <th>OnlineBackup</th>\n",
       "      <th>DeviceProtection</th>\n",
       "      <th>TechSupport</th>\n",
       "      <th>StreamingTV</th>\n",
       "      <th>StreamingMovies</th>\n",
       "      <th>Contract</th>\n",
       "      <th>PaperlessBilling</th>\n",
       "      <th>PaymentMethod</th>\n",
       "      <th>Churn</th>\n",
       "    </tr>\n",
       "  </thead>\n",
       "  <tbody>\n",
       "    <tr>\n",
       "      <th>count</th>\n",
       "      <td>7043</td>\n",
       "      <td>7043</td>\n",
       "      <td>7043</td>\n",
       "      <td>7043</td>\n",
       "      <td>7043</td>\n",
       "      <td>7043</td>\n",
       "      <td>7043</td>\n",
       "      <td>7043</td>\n",
       "      <td>7043</td>\n",
       "      <td>7043</td>\n",
       "      <td>7043</td>\n",
       "      <td>7043</td>\n",
       "      <td>7043</td>\n",
       "      <td>7043</td>\n",
       "      <td>7043</td>\n",
       "      <td>7043</td>\n",
       "    </tr>\n",
       "    <tr>\n",
       "      <th>unique</th>\n",
       "      <td>2</td>\n",
       "      <td>2</td>\n",
       "      <td>2</td>\n",
       "      <td>2</td>\n",
       "      <td>3</td>\n",
       "      <td>3</td>\n",
       "      <td>3</td>\n",
       "      <td>3</td>\n",
       "      <td>3</td>\n",
       "      <td>3</td>\n",
       "      <td>3</td>\n",
       "      <td>3</td>\n",
       "      <td>3</td>\n",
       "      <td>2</td>\n",
       "      <td>4</td>\n",
       "      <td>2</td>\n",
       "    </tr>\n",
       "    <tr>\n",
       "      <th>top</th>\n",
       "      <td>Male</td>\n",
       "      <td>No</td>\n",
       "      <td>No</td>\n",
       "      <td>Yes</td>\n",
       "      <td>No</td>\n",
       "      <td>Fiber optic</td>\n",
       "      <td>No</td>\n",
       "      <td>No</td>\n",
       "      <td>No</td>\n",
       "      <td>No</td>\n",
       "      <td>No</td>\n",
       "      <td>No</td>\n",
       "      <td>Month-to-month</td>\n",
       "      <td>Yes</td>\n",
       "      <td>Electronic check</td>\n",
       "      <td>No</td>\n",
       "    </tr>\n",
       "    <tr>\n",
       "      <th>freq</th>\n",
       "      <td>3555</td>\n",
       "      <td>3641</td>\n",
       "      <td>4933</td>\n",
       "      <td>6361</td>\n",
       "      <td>3390</td>\n",
       "      <td>3096</td>\n",
       "      <td>3498</td>\n",
       "      <td>3088</td>\n",
       "      <td>3095</td>\n",
       "      <td>3473</td>\n",
       "      <td>2810</td>\n",
       "      <td>2785</td>\n",
       "      <td>3875</td>\n",
       "      <td>4171</td>\n",
       "      <td>2365</td>\n",
       "      <td>5174</td>\n",
       "    </tr>\n",
       "  </tbody>\n",
       "</table>\n",
       "</div>"
      ],
      "text/plain": [
       "       gender Partner Dependents PhoneService MultipleLines InternetService  \\\n",
       "count    7043    7043       7043         7043          7043            7043   \n",
       "unique      2       2          2            2             3               3   \n",
       "top      Male      No         No          Yes            No     Fiber optic   \n",
       "freq     3555    3641       4933         6361          3390            3096   \n",
       "\n",
       "       OnlineSecurity OnlineBackup DeviceProtection TechSupport StreamingTV  \\\n",
       "count            7043         7043             7043        7043        7043   \n",
       "unique              3            3                3           3           3   \n",
       "top                No           No               No          No          No   \n",
       "freq             3498         3088             3095        3473        2810   \n",
       "\n",
       "       StreamingMovies        Contract PaperlessBilling     PaymentMethod  \\\n",
       "count             7043            7043             7043              7043   \n",
       "unique               3               3                2                 4   \n",
       "top                 No  Month-to-month              Yes  Electronic check   \n",
       "freq              2785            3875             4171              2365   \n",
       "\n",
       "       Churn  \n",
       "count   7043  \n",
       "unique     2  \n",
       "top       No  \n",
       "freq    5174  "
      ]
     },
     "execution_count": 125,
     "metadata": {},
     "output_type": "execute_result"
    }
   ],
   "source": [
    "telco.describe(include=object)"
   ]
  },
  {
   "cell_type": "code",
   "execution_count": 126,
   "metadata": {
    "ExecuteTime": {
     "end_time": "2021-08-09T08:14:22.966683Z",
     "start_time": "2021-08-09T08:14:22.954684Z"
    }
   },
   "outputs": [
    {
     "data": {
      "text/plain": [
       "Index(['gender', 'SeniorCitizen', 'Partner', 'Dependents', 'tenure',\n",
       "       'PhoneService', 'MultipleLines', 'InternetService', 'OnlineSecurity',\n",
       "       'OnlineBackup', 'DeviceProtection', 'TechSupport', 'StreamingTV',\n",
       "       'StreamingMovies', 'Contract', 'PaperlessBilling', 'PaymentMethod',\n",
       "       'MonthlyCharges', 'TotalCharges', 'Churn', 'churn_rate'],\n",
       "      dtype='object')"
      ]
     },
     "execution_count": 126,
     "metadata": {},
     "output_type": "execute_result"
    }
   ],
   "source": [
    "telco.columns"
   ]
  },
  {
   "cell_type": "markdown",
   "metadata": {},
   "source": [
    "**skema preprocess:**\n",
    "1. one hot encoding : gender, Partner, Dependents, PhoneService, MultipleLines, InternetService, OnlineSecurity, OnlineBackup, DeviceProtection, TechSupport, StreamingTV, StreamingMovies, Contract, PaperlessBilling\n",
    "2. ordinal encoding : PaymentMethod\n",
    "3. passthrough : SeniorCitizen, tenure, MonthlyCharges, TotalCharges\n",
    "4. out : CustomerID (already dropped), churn_rate (yg sebelumnya dibuat pas bikin perbandingan)"
   ]
  },
  {
   "cell_type": "code",
   "execution_count": 127,
   "metadata": {
    "ExecuteTime": {
     "end_time": "2021-08-09T08:14:22.982123Z",
     "start_time": "2021-08-09T08:14:22.968684Z"
    }
   },
   "outputs": [],
   "source": [
    "mapping=[{'col':'PaymentMethod','mapping':{None:0,'Electronic check':1,'Mailed check':2,'Bank transfer (automatic)':3, 'Credit card (automatic)':4}}]\n",
    "ordinal=ce.OrdinalEncoder(mapping=mapping)\n",
    "\n",
    "transformer=ColumnTransformer([\n",
    "    ('one hot', OneHotEncoder(drop='first'), ['gender', 'Partner', 'Dependents', 'PhoneService', 'MultipleLines', 'InternetService', 'OnlineSecurity', 'OnlineBackup', 'DeviceProtection', 'TechSupport', 'StreamingTV', 'StreamingMovies', 'Contract', 'PaperlessBilling']),\n",
    "    ('ordinal', ordinal,['PaymentMethod']),\n",
    "], remainder='passthrough')"
   ]
  },
  {
   "cell_type": "code",
   "execution_count": 128,
   "metadata": {
    "ExecuteTime": {
     "end_time": "2021-08-09T08:14:23.092531Z",
     "start_time": "2021-08-09T08:14:22.984202Z"
    }
   },
   "outputs": [
    {
     "data": {
      "text/plain": [
       "array([[0.0, 1.0, 0.0, ..., 29.85, 'No', 0],\n",
       "       [1.0, 0.0, 0.0, ..., 1889.5, 'No', 0],\n",
       "       [1.0, 0.0, 0.0, ..., 108.15, 'Yes', 1],\n",
       "       ...,\n",
       "       [0.0, 1.0, 1.0, ..., 346.45, 'No', 0],\n",
       "       [1.0, 1.0, 0.0, ..., 306.6, 'Yes', 1],\n",
       "       [1.0, 0.0, 0.0, ..., 6844.5, 'No', 0]], dtype=object)"
      ]
     },
     "execution_count": 128,
     "metadata": {},
     "output_type": "execute_result"
    }
   ],
   "source": [
    "transformer.fit_transform(telco)"
   ]
  },
  {
   "cell_type": "markdown",
   "metadata": {},
   "source": [
    "# Data Splitting"
   ]
  },
  {
   "cell_type": "code",
   "execution_count": 129,
   "metadata": {
    "ExecuteTime": {
     "end_time": "2021-08-09T08:14:23.108533Z",
     "start_time": "2021-08-09T08:14:23.095536Z"
    }
   },
   "outputs": [],
   "source": [
    "x=telco.drop(columns=['Churn','churn_rate'])\n",
    "y=np.where(telco['Churn']=='Yes',1,0)"
   ]
  },
  {
   "cell_type": "code",
   "execution_count": 130,
   "metadata": {
    "ExecuteTime": {
     "end_time": "2021-08-09T08:14:23.156540Z",
     "start_time": "2021-08-09T08:14:23.113959Z"
    }
   },
   "outputs": [],
   "source": [
    "x_train, x_test, y_train, y_test = train_test_split(x,y,stratify=y,random_state=777)"
   ]
  },
  {
   "cell_type": "markdown",
   "metadata": {},
   "source": [
    "# Data Transform"
   ]
  },
  {
   "cell_type": "code",
   "execution_count": 131,
   "metadata": {
    "ExecuteTime": {
     "end_time": "2021-08-09T08:14:23.298553Z",
     "start_time": "2021-08-09T08:14:23.159538Z"
    }
   },
   "outputs": [],
   "source": [
    "x_train_preprocessed=pd.DataFrame(transformer.fit_transform(x_train))\n",
    "x_test_preprocessed=pd.DataFrame(transformer.fit_transform(x_test))"
   ]
  },
  {
   "cell_type": "markdown",
   "metadata": {},
   "source": [
    "# Benchmark Model"
   ]
  },
  {
   "cell_type": "markdown",
   "metadata": {},
   "source": [
    "**konteks:** memprediksi kemungkinan konsumen akan Churn atau tidak\n",
    "\n",
    "* 1 = konsumen lanjut (tidak Churn)\n",
    "* 0 = konsumen stop (Churn) \n",
    "\n",
    "FP = dibilang akan lanjut padahal stop --> mendapat tambahan biaya pengeluaran (operasional, marketing, dsb) yg tidak perlu\n",
    "\n",
    "FN = dibilang akan stop padahal lanjut --> kehilangan sumber pemasukan\n",
    "\n",
    "**jadi akan fokus untuk minimalisir/menekan FN dengan menggunakan Recall**"
   ]
  },
  {
   "cell_type": "markdown",
   "metadata": {},
   "source": [
    "model yg dicoba (yg dicoba ini semua se-default mungkin dan sebisa mungkin yg ngga terlalu memberatkan laptop):\n",
    "* logistic regression\n",
    "* decision tree classifier (dtc)\n",
    "* k-nearest neighbors (knn)\n",
    "* random forest (rf)"
   ]
  },
  {
   "cell_type": "code",
   "execution_count": 132,
   "metadata": {
    "ExecuteTime": {
     "end_time": "2021-08-09T08:14:23.314555Z",
     "start_time": "2021-08-09T08:14:23.301556Z"
    }
   },
   "outputs": [],
   "source": [
    "logreg=LogisticRegression(solver='liblinear', random_state=777)\n",
    "tree=DecisionTreeClassifier(max_depth=5, random_state=777)\n",
    "knn=KNeighborsClassifier()\n",
    "rf=RandomForestClassifier(max_depth=5, max_features=5)\n",
    "# xgb=XGBClassifier(n_estimators=200, learning_rate=0.1,max_depth=3,random_state=10)"
   ]
  },
  {
   "cell_type": "code",
   "execution_count": 133,
   "metadata": {
    "ExecuteTime": {
     "end_time": "2021-08-09T08:14:28.846608Z",
     "start_time": "2021-08-09T08:14:23.317557Z"
    }
   },
   "outputs": [],
   "source": [
    "models=[logreg, knn, tree, rf]\n",
    "mean=[]\n",
    "stdev=[]\n",
    "\n",
    "for i in models:\n",
    "    skfold=StratifiedKFold(n_splits=5)\n",
    "    estimator=Pipeline([\n",
    "        ('preprocess',transformer),\n",
    "        ('model',i)\n",
    "    ])\n",
    "    model_cv=cross_val_score(estimator, x_train, y_train, cv=skfold, scoring='recall')    \n",
    "    \n",
    "    mean.append(model_cv.mean())\n",
    "    stdev.append(model_cv.std())"
   ]
  },
  {
   "cell_type": "code",
   "execution_count": 134,
   "metadata": {
    "ExecuteTime": {
     "end_time": "2021-08-09T08:14:28.878653Z",
     "start_time": "2021-08-09T08:14:28.849610Z"
    },
    "scrolled": false
   },
   "outputs": [
    {
     "data": {
      "text/html": [
       "<div>\n",
       "<style scoped>\n",
       "    .dataframe tbody tr th:only-of-type {\n",
       "        vertical-align: middle;\n",
       "    }\n",
       "\n",
       "    .dataframe tbody tr th {\n",
       "        vertical-align: top;\n",
       "    }\n",
       "\n",
       "    .dataframe thead th {\n",
       "        text-align: right;\n",
       "    }\n",
       "</style>\n",
       "<table border=\"1\" class=\"dataframe\">\n",
       "  <thead>\n",
       "    <tr style=\"text-align: right;\">\n",
       "      <th></th>\n",
       "      <th>Model</th>\n",
       "      <th>mean</th>\n",
       "      <th>stdev</th>\n",
       "    </tr>\n",
       "  </thead>\n",
       "  <tbody>\n",
       "    <tr>\n",
       "      <th>0</th>\n",
       "      <td>logreg</td>\n",
       "      <td>0.542773</td>\n",
       "      <td>0.013404</td>\n",
       "    </tr>\n",
       "    <tr>\n",
       "      <th>1</th>\n",
       "      <td>knn</td>\n",
       "      <td>0.440773</td>\n",
       "      <td>0.038361</td>\n",
       "    </tr>\n",
       "    <tr>\n",
       "      <th>2</th>\n",
       "      <td>tree</td>\n",
       "      <td>0.485709</td>\n",
       "      <td>0.057040</td>\n",
       "    </tr>\n",
       "    <tr>\n",
       "      <th>3</th>\n",
       "      <td>rf</td>\n",
       "      <td>0.434357</td>\n",
       "      <td>0.023598</td>\n",
       "    </tr>\n",
       "  </tbody>\n",
       "</table>\n",
       "</div>"
      ],
      "text/plain": [
       "    Model      mean     stdev\n",
       "0  logreg  0.542773  0.013404\n",
       "1     knn  0.440773  0.038361\n",
       "2    tree  0.485709  0.057040\n",
       "3      rf  0.434357  0.023598"
      ]
     },
     "execution_count": 134,
     "metadata": {},
     "output_type": "execute_result"
    }
   ],
   "source": [
    "pd.DataFrame({\n",
    "    'Model':['logreg','knn','tree','rf'],\n",
    "    'mean':mean,\n",
    "    'stdev':stdev\n",
    "})"
   ]
  },
  {
   "cell_type": "markdown",
   "metadata": {},
   "source": [
    ">Disini `logreg` memiliki nilai _mean_ yg paling tinggi serta nilai _stDev_ yg paling rendah, bisa dikatakan model yg performanya paling baik dan lebih stabil adalah ketika menggunakan metode `logreg`. Untuk selanjutnya akan dilakukan optimasi model logistik pada `logreg`."
   ]
  },
  {
   "cell_type": "markdown",
   "metadata": {},
   "source": [
    "# Model Processing"
   ]
  },
  {
   "cell_type": "code",
   "execution_count": 135,
   "metadata": {
    "ExecuteTime": {
     "end_time": "2021-08-09T08:14:29.066180Z",
     "start_time": "2021-08-09T08:14:28.883991Z"
    }
   },
   "outputs": [
    {
     "data": {
      "text/plain": [
       "Pipeline(steps=[('preprocess',\n",
       "                 ColumnTransformer(remainder='passthrough',\n",
       "                                   transformers=[('one hot',\n",
       "                                                  OneHotEncoder(drop='first'),\n",
       "                                                  ['gender', 'Partner',\n",
       "                                                   'Dependents', 'PhoneService',\n",
       "                                                   'MultipleLines',\n",
       "                                                   'InternetService',\n",
       "                                                   'OnlineSecurity',\n",
       "                                                   'OnlineBackup',\n",
       "                                                   'DeviceProtection',\n",
       "                                                   'TechSupport', 'StreamingTV',\n",
       "                                                   'StreamingMovies',\n",
       "                                                   'Contract',\n",
       "                                                   'PaperlessBilling']),\n",
       "                                                 ('ordinal',\n",
       "                                                  OrdinalEncoder(mapping=[{'col': 'PaymentMethod',\n",
       "                                                                           'mapping': {None: 0,\n",
       "                                                                                       'Bank transfer (automatic)': 3,\n",
       "                                                                                       'Credit card (automatic)': 4,\n",
       "                                                                                       'Electronic check': 1,\n",
       "                                                                                       'Mailed check': 2}}]),\n",
       "                                                  ['PaymentMethod'])])),\n",
       "                ('estimator',\n",
       "                 LogisticRegression(random_state=777, solver='liblinear'))])"
      ]
     },
     "execution_count": 135,
     "metadata": {},
     "output_type": "execute_result"
    }
   ],
   "source": [
    "modelLR=LogisticRegression(solver='liblinear', random_state=777)\n",
    "estimator=Pipeline([\n",
    "    ('preprocess',transformer),\n",
    "    ('estimator', modelLR)\n",
    "])\n",
    "\n",
    "estimator.fit(x_train, y_train)"
   ]
  },
  {
   "cell_type": "code",
   "execution_count": 136,
   "metadata": {
    "ExecuteTime": {
     "end_time": "2021-08-09T08:14:29.129266Z",
     "start_time": "2021-08-09T08:14:29.069179Z"
    }
   },
   "outputs": [
    {
     "name": "stdout",
     "output_type": "stream",
     "text": [
      "              precision    recall  f1-score   support\n",
      "\n",
      "           0       0.84      0.89      0.87      1294\n",
      "           1       0.64      0.52      0.58       467\n",
      "\n",
      "    accuracy                           0.80      1761\n",
      "   macro avg       0.74      0.71      0.72      1761\n",
      "weighted avg       0.79      0.80      0.79      1761\n",
      "\n"
     ]
    }
   ],
   "source": [
    "y_pred=estimator.predict(x_test)\n",
    "print(classification_report(y_test,y_pred))"
   ]
  },
  {
   "cell_type": "markdown",
   "metadata": {},
   "source": [
    "## Model Properties"
   ]
  },
  {
   "cell_type": "code",
   "execution_count": 137,
   "metadata": {
    "ExecuteTime": {
     "end_time": "2021-08-09T08:14:29.144755Z",
     "start_time": "2021-08-09T08:14:29.131267Z"
    }
   },
   "outputs": [
    {
     "data": {
      "text/plain": [
       "[('one hot',\n",
       "  OneHotEncoder(drop='first'),\n",
       "  ['gender',\n",
       "   'Partner',\n",
       "   'Dependents',\n",
       "   'PhoneService',\n",
       "   'MultipleLines',\n",
       "   'InternetService',\n",
       "   'OnlineSecurity',\n",
       "   'OnlineBackup',\n",
       "   'DeviceProtection',\n",
       "   'TechSupport',\n",
       "   'StreamingTV',\n",
       "   'StreamingMovies',\n",
       "   'Contract',\n",
       "   'PaperlessBilling']),\n",
       " ('ordinal',\n",
       "  OrdinalEncoder(cols=['PaymentMethod'],\n",
       "                 mapping=[{'col': 'PaymentMethod',\n",
       "                           'mapping': {None: 0, 'Bank transfer (automatic)': 3,\n",
       "                                       'Credit card (automatic)': 4,\n",
       "                                       'Electronic check': 1,\n",
       "                                       'Mailed check': 2}}]),\n",
       "  ['PaymentMethod']),\n",
       " ('remainder', 'passthrough', [1, 4, 17, 18])]"
      ]
     },
     "execution_count": 137,
     "metadata": {},
     "output_type": "execute_result"
    }
   ],
   "source": [
    "estimator[0].transformers_"
   ]
  },
  {
   "cell_type": "code",
   "execution_count": 138,
   "metadata": {
    "ExecuteTime": {
     "end_time": "2021-08-09T08:14:29.160657Z",
     "start_time": "2021-08-09T08:14:29.148655Z"
    }
   },
   "outputs": [
    {
     "data": {
      "text/plain": [
       "array(['x0_Male', 'x1_Yes', 'x2_Yes', 'x3_Yes', 'x4_No phone service',\n",
       "       'x4_Yes', 'x5_Fiber optic', 'x5_No', 'x6_No internet service',\n",
       "       'x6_Yes', 'x7_No internet service', 'x7_Yes',\n",
       "       'x8_No internet service', 'x8_Yes', 'x9_No internet service',\n",
       "       'x9_Yes', 'x10_No internet service', 'x10_Yes',\n",
       "       'x11_No internet service', 'x11_Yes', 'x12_One year',\n",
       "       'x12_Two year', 'x13_Yes'], dtype=object)"
      ]
     },
     "execution_count": 138,
     "metadata": {},
     "output_type": "execute_result"
    }
   ],
   "source": [
    "estimator[0].transformers_[0][1].get_feature_names()"
   ]
  },
  {
   "cell_type": "code",
   "execution_count": 139,
   "metadata": {
    "ExecuteTime": {
     "end_time": "2021-08-09T08:14:29.191658Z",
     "start_time": "2021-08-09T08:14:29.163661Z"
    }
   },
   "outputs": [
    {
     "data": {
      "text/plain": [
       "['PaymentMethod']"
      ]
     },
     "execution_count": 139,
     "metadata": {},
     "output_type": "execute_result"
    }
   ],
   "source": [
    "estimator[0].transformers_[1][1].get_feature_names()"
   ]
  },
  {
   "cell_type": "code",
   "execution_count": 140,
   "metadata": {
    "ExecuteTime": {
     "end_time": "2021-08-09T08:14:29.207659Z",
     "start_time": "2021-08-09T08:14:29.193717Z"
    }
   },
   "outputs": [
    {
     "data": {
      "text/plain": [
       "['SeniorCitizen', 'tenure', 'MonthlyCharges', 'TotalCharges']"
      ]
     },
     "execution_count": 140,
     "metadata": {},
     "output_type": "execute_result"
    }
   ],
   "source": [
    "num_features=list(x_train.dtypes[x_train.dtypes!=object].index)\n",
    "num_features"
   ]
  },
  {
   "cell_type": "code",
   "execution_count": 141,
   "metadata": {
    "ExecuteTime": {
     "end_time": "2021-08-09T08:14:29.223820Z",
     "start_time": "2021-08-09T08:14:29.209662Z"
    },
    "scrolled": false
   },
   "outputs": [
    {
     "data": {
      "text/plain": [
       "['x0_Male',\n",
       " 'x1_Yes',\n",
       " 'x2_Yes',\n",
       " 'x3_Yes',\n",
       " 'x4_No phone service',\n",
       " 'x4_Yes',\n",
       " 'x5_Fiber optic',\n",
       " 'x5_No',\n",
       " 'x6_No internet service',\n",
       " 'x6_Yes',\n",
       " 'x7_No internet service',\n",
       " 'x7_Yes',\n",
       " 'x8_No internet service',\n",
       " 'x8_Yes',\n",
       " 'x9_No internet service',\n",
       " 'x9_Yes',\n",
       " 'x10_No internet service',\n",
       " 'x10_Yes',\n",
       " 'x11_No internet service',\n",
       " 'x11_Yes',\n",
       " 'x12_One year',\n",
       " 'x12_Two year',\n",
       " 'x13_Yes',\n",
       " 'PaymentMethod',\n",
       " 'SeniorCitizen',\n",
       " 'tenure',\n",
       " 'MonthlyCharges',\n",
       " 'TotalCharges']"
      ]
     },
     "execution_count": 141,
     "metadata": {},
     "output_type": "execute_result"
    }
   ],
   "source": [
    "features=list(list(estimator[0].transformers_[0][1].get_feature_names())+estimator[0].transformers_[1][1].get_feature_names()+num_features)\n",
    "features"
   ]
  },
  {
   "cell_type": "markdown",
   "metadata": {},
   "source": [
    "## Feature Importances"
   ]
  },
  {
   "cell_type": "code",
   "execution_count": 142,
   "metadata": {
    "ExecuteTime": {
     "end_time": "2021-08-09T08:14:29.286822Z",
     "start_time": "2021-08-09T08:14:29.225665Z"
    }
   },
   "outputs": [],
   "source": [
    "modelLR.fit(x_train_preprocessed, y_train)\n",
    "importances = pd.DataFrame(data={\n",
    "    'features': features,\n",
    "    'importance': abs(modelLR.coef_[0])\n",
    "})\n",
    "importances = importances.sort_values(by='importance', ascending=False)"
   ]
  },
  {
   "cell_type": "code",
   "execution_count": 143,
   "metadata": {
    "ExecuteTime": {
     "end_time": "2021-08-09T08:14:29.303119Z",
     "start_time": "2021-08-09T08:14:29.288823Z"
    },
    "scrolled": false
   },
   "outputs": [
    {
     "data": {
      "text/html": [
       "<div>\n",
       "<style scoped>\n",
       "    .dataframe tbody tr th:only-of-type {\n",
       "        vertical-align: middle;\n",
       "    }\n",
       "\n",
       "    .dataframe tbody tr th {\n",
       "        vertical-align: top;\n",
       "    }\n",
       "\n",
       "    .dataframe thead th {\n",
       "        text-align: right;\n",
       "    }\n",
       "</style>\n",
       "<table border=\"1\" class=\"dataframe\">\n",
       "  <thead>\n",
       "    <tr style=\"text-align: right;\">\n",
       "      <th></th>\n",
       "      <th>importance</th>\n",
       "    </tr>\n",
       "  </thead>\n",
       "  <tbody>\n",
       "    <tr>\n",
       "      <th>x12_Two year</th>\n",
       "      <td>0.637371</td>\n",
       "    </tr>\n",
       "    <tr>\n",
       "      <th>x6_Yes</th>\n",
       "      <td>0.614330</td>\n",
       "    </tr>\n",
       "    <tr>\n",
       "      <th>x5_Fiber optic</th>\n",
       "      <td>0.542360</td>\n",
       "    </tr>\n",
       "    <tr>\n",
       "      <th>x9_Yes</th>\n",
       "      <td>0.499903</td>\n",
       "    </tr>\n",
       "    <tr>\n",
       "      <th>x3_Yes</th>\n",
       "      <td>0.380463</td>\n",
       "    </tr>\n",
       "    <tr>\n",
       "      <th>x13_Yes</th>\n",
       "      <td>0.370834</td>\n",
       "    </tr>\n",
       "    <tr>\n",
       "      <th>x12_One year</th>\n",
       "      <td>0.368340</td>\n",
       "    </tr>\n",
       "    <tr>\n",
       "      <th>SeniorCitizen</th>\n",
       "      <td>0.301623</td>\n",
       "    </tr>\n",
       "    <tr>\n",
       "      <th>x4_No phone service</th>\n",
       "      <td>0.291094</td>\n",
       "    </tr>\n",
       "    <tr>\n",
       "      <th>x7_Yes</th>\n",
       "      <td>0.252018</td>\n",
       "    </tr>\n",
       "    <tr>\n",
       "      <th>x2_Yes</th>\n",
       "      <td>0.244098</td>\n",
       "    </tr>\n",
       "    <tr>\n",
       "      <th>x4_Yes</th>\n",
       "      <td>0.195476</td>\n",
       "    </tr>\n",
       "    <tr>\n",
       "      <th>PaymentMethod</th>\n",
       "      <td>0.178679</td>\n",
       "    </tr>\n",
       "    <tr>\n",
       "      <th>x8_Yes</th>\n",
       "      <td>0.137254</td>\n",
       "    </tr>\n",
       "    <tr>\n",
       "      <th>x10_Yes</th>\n",
       "      <td>0.080034</td>\n",
       "    </tr>\n",
       "    <tr>\n",
       "      <th>x11_No internet service</th>\n",
       "      <td>0.078848</td>\n",
       "    </tr>\n",
       "    <tr>\n",
       "      <th>x9_No internet service</th>\n",
       "      <td>0.078848</td>\n",
       "    </tr>\n",
       "    <tr>\n",
       "      <th>x10_No internet service</th>\n",
       "      <td>0.078848</td>\n",
       "    </tr>\n",
       "    <tr>\n",
       "      <th>x7_No internet service</th>\n",
       "      <td>0.078848</td>\n",
       "    </tr>\n",
       "    <tr>\n",
       "      <th>x6_No internet service</th>\n",
       "      <td>0.078848</td>\n",
       "    </tr>\n",
       "    <tr>\n",
       "      <th>x5_No</th>\n",
       "      <td>0.078848</td>\n",
       "    </tr>\n",
       "    <tr>\n",
       "      <th>x8_No internet service</th>\n",
       "      <td>0.078848</td>\n",
       "    </tr>\n",
       "    <tr>\n",
       "      <th>x11_Yes</th>\n",
       "      <td>0.077351</td>\n",
       "    </tr>\n",
       "    <tr>\n",
       "      <th>tenure</th>\n",
       "      <td>0.058726</td>\n",
       "    </tr>\n",
       "    <tr>\n",
       "      <th>x0_Male</th>\n",
       "      <td>0.047187</td>\n",
       "    </tr>\n",
       "    <tr>\n",
       "      <th>x1_Yes</th>\n",
       "      <td>0.040233</td>\n",
       "    </tr>\n",
       "    <tr>\n",
       "      <th>MonthlyCharges</th>\n",
       "      <td>0.009932</td>\n",
       "    </tr>\n",
       "    <tr>\n",
       "      <th>TotalCharges</th>\n",
       "      <td>0.000279</td>\n",
       "    </tr>\n",
       "  </tbody>\n",
       "</table>\n",
       "</div>"
      ],
      "text/plain": [
       "                         importance\n",
       "x12_Two year               0.637371\n",
       "x6_Yes                     0.614330\n",
       "x5_Fiber optic             0.542360\n",
       "x9_Yes                     0.499903\n",
       "x3_Yes                     0.380463\n",
       "x13_Yes                    0.370834\n",
       "x12_One year               0.368340\n",
       "SeniorCitizen              0.301623\n",
       "x4_No phone service        0.291094\n",
       "x7_Yes                     0.252018\n",
       "x2_Yes                     0.244098\n",
       "x4_Yes                     0.195476\n",
       "PaymentMethod              0.178679\n",
       "x8_Yes                     0.137254\n",
       "x10_Yes                    0.080034\n",
       "x11_No internet service    0.078848\n",
       "x9_No internet service     0.078848\n",
       "x10_No internet service    0.078848\n",
       "x7_No internet service     0.078848\n",
       "x6_No internet service     0.078848\n",
       "x5_No                      0.078848\n",
       "x8_No internet service     0.078848\n",
       "x11_Yes                    0.077351\n",
       "tenure                     0.058726\n",
       "x0_Male                    0.047187\n",
       "x1_Yes                     0.040233\n",
       "MonthlyCharges             0.009932\n",
       "TotalCharges               0.000279"
      ]
     },
     "execution_count": 143,
     "metadata": {},
     "output_type": "execute_result"
    }
   ],
   "source": [
    "imp=pd.DataFrame({'importance':abs(modelLR.coef_[0])}, index=list(features))\n",
    "imp.sort_values(by='importance',ascending=False)"
   ]
  },
  {
   "cell_type": "code",
   "execution_count": 144,
   "metadata": {
    "ExecuteTime": {
     "end_time": "2021-08-09T08:14:30.107538Z",
     "start_time": "2021-08-09T08:14:29.306057Z"
    }
   },
   "outputs": [
    {
     "data": {
      "image/png": "[encoded data removed]",
      "text/plain": [
       "<Figure size 1080x720 with 1 Axes>"
      ]
     },
     "metadata": {
      "needs_background": "light"
     },
     "output_type": "display_data"
    }
   ],
   "source": [
    "plt.figure(figsize=(15,10))\n",
    "\n",
    "bars=importances['features']\n",
    "heights=importances['importance']\n",
    "\n",
    "plt.bar(bars, heights)\n",
    "plt.title('Feature Importances obtained from Coefficients', size=20)\n",
    "\n",
    "plt.xticks(size=13,rotation=90)\n",
    "plt.tight_layout()\n",
    "plt.show()"
   ]
  },
  {
   "cell_type": "markdown",
   "metadata": {},
   "source": [
    ">Berdasarkan chart ini, semakin besar nilai koefisiennya baik dalam arah positif maupun negatif (disini sengaja dijadikan nilai absolut untuk lebih mudah interpretasikannya) memiliki arti semakin besar pengaruhnya terhadap hasil prediksi model."
   ]
  },
  {
   "cell_type": "markdown",
   "metadata": {},
   "source": [
    "## Model Tuning"
   ]
  },
  {
   "cell_type": "code",
   "execution_count": 145,
   "metadata": {
    "ExecuteTime": {
     "end_time": "2021-08-09T08:14:30.281806Z",
     "start_time": "2021-08-09T08:14:30.110541Z"
    },
    "scrolled": false
   },
   "outputs": [
    {
     "data": {
      "text/plain": [
       "Pipeline(steps=[('preprocess',\n",
       "                 ColumnTransformer(remainder='passthrough',\n",
       "                                   transformers=[('one hot',\n",
       "                                                  OneHotEncoder(drop='first'),\n",
       "                                                  ['gender', 'Partner',\n",
       "                                                   'Dependents', 'PhoneService',\n",
       "                                                   'MultipleLines',\n",
       "                                                   'InternetService',\n",
       "                                                   'OnlineSecurity',\n",
       "                                                   'OnlineBackup',\n",
       "                                                   'DeviceProtection',\n",
       "                                                   'TechSupport', 'StreamingTV',\n",
       "                                                   'StreamingMovies',\n",
       "                                                   'Contract',\n",
       "                                                   'PaperlessBilling']),\n",
       "                                                 ('ordinal',\n",
       "                                                  OrdinalEncoder(mapping=[{'col': 'PaymentMethod',\n",
       "                                                                           'mapping': {None: 0,\n",
       "                                                                                       'Bank transfer (automatic)': 3,\n",
       "                                                                                       'Credit card (automatic)': 4,\n",
       "                                                                                       'Electronic check': 1,\n",
       "                                                                                       'Mailed check': 2}}]),\n",
       "                                                  ['PaymentMethod'])])),\n",
       "                ('estimator',\n",
       "                 LogisticRegression(random_state=777, solver='liblinear'))])"
      ]
     },
     "execution_count": 145,
     "metadata": {},
     "output_type": "execute_result"
    }
   ],
   "source": [
    "modelLR=LogisticRegression(solver='liblinear', random_state=777)\n",
    "estimator=Pipeline([\n",
    "    ('preprocess',transformer),\n",
    "    ('estimator', modelLR)\n",
    "])\n",
    "\n",
    "estimator.fit(x_train, y_train)"
   ]
  },
  {
   "cell_type": "code",
   "execution_count": 146,
   "metadata": {
    "ExecuteTime": {
     "end_time": "2021-08-09T08:14:30.329351Z",
     "start_time": "2021-08-09T08:14:30.286813Z"
    },
    "scrolled": false
   },
   "outputs": [
    {
     "data": {
      "text/plain": [
       "{'memory': None,\n",
       " 'steps': [('preprocess',\n",
       "   ColumnTransformer(remainder='passthrough',\n",
       "                     transformers=[('one hot', OneHotEncoder(drop='first'),\n",
       "                                    ['gender', 'Partner', 'Dependents',\n",
       "                                     'PhoneService', 'MultipleLines',\n",
       "                                     'InternetService', 'OnlineSecurity',\n",
       "                                     'OnlineBackup', 'DeviceProtection',\n",
       "                                     'TechSupport', 'StreamingTV',\n",
       "                                     'StreamingMovies', 'Contract',\n",
       "                                     'PaperlessBilling']),\n",
       "                                   ('ordinal',\n",
       "                                    OrdinalEncoder(mapping=[{'col': 'PaymentMethod',\n",
       "                                                             'mapping': {None: 0,\n",
       "                                                                         'Bank transfer (automatic)': 3,\n",
       "                                                                         'Credit card (automatic)': 4,\n",
       "                                                                         'Electronic check': 1,\n",
       "                                                                         'Mailed check': 2}}]),\n",
       "                                    ['PaymentMethod'])])),\n",
       "  ('estimator', LogisticRegression(random_state=777, solver='liblinear'))],\n",
       " 'verbose': False,\n",
       " 'preprocess': ColumnTransformer(remainder='passthrough',\n",
       "                   transformers=[('one hot', OneHotEncoder(drop='first'),\n",
       "                                  ['gender', 'Partner', 'Dependents',\n",
       "                                   'PhoneService', 'MultipleLines',\n",
       "                                   'InternetService', 'OnlineSecurity',\n",
       "                                   'OnlineBackup', 'DeviceProtection',\n",
       "                                   'TechSupport', 'StreamingTV',\n",
       "                                   'StreamingMovies', 'Contract',\n",
       "                                   'PaperlessBilling']),\n",
       "                                 ('ordinal',\n",
       "                                  OrdinalEncoder(mapping=[{'col': 'PaymentMethod',\n",
       "                                                           'mapping': {None: 0,\n",
       "                                                                       'Bank transfer (automatic)': 3,\n",
       "                                                                       'Credit card (automatic)': 4,\n",
       "                                                                       'Electronic check': 1,\n",
       "                                                                       'Mailed check': 2}}]),\n",
       "                                  ['PaymentMethod'])]),\n",
       " 'estimator': LogisticRegression(random_state=777, solver='liblinear'),\n",
       " 'preprocess__n_jobs': None,\n",
       " 'preprocess__remainder': 'passthrough',\n",
       " 'preprocess__sparse_threshold': 0.3,\n",
       " 'preprocess__transformer_weights': None,\n",
       " 'preprocess__transformers': [('one hot',\n",
       "   OneHotEncoder(drop='first'),\n",
       "   ['gender',\n",
       "    'Partner',\n",
       "    'Dependents',\n",
       "    'PhoneService',\n",
       "    'MultipleLines',\n",
       "    'InternetService',\n",
       "    'OnlineSecurity',\n",
       "    'OnlineBackup',\n",
       "    'DeviceProtection',\n",
       "    'TechSupport',\n",
       "    'StreamingTV',\n",
       "    'StreamingMovies',\n",
       "    'Contract',\n",
       "    'PaperlessBilling']),\n",
       "  ('ordinal',\n",
       "   OrdinalEncoder(mapping=[{'col': 'PaymentMethod',\n",
       "                            'mapping': {None: 0, 'Bank transfer (automatic)': 3,\n",
       "                                        'Credit card (automatic)': 4,\n",
       "                                        'Electronic check': 1,\n",
       "                                        'Mailed check': 2}}]),\n",
       "   ['PaymentMethod'])],\n",
       " 'preprocess__verbose': False,\n",
       " 'preprocess__one hot': OneHotEncoder(drop='first'),\n",
       " 'preprocess__ordinal': OrdinalEncoder(mapping=[{'col': 'PaymentMethod',\n",
       "                          'mapping': {None: 0, 'Bank transfer (automatic)': 3,\n",
       "                                      'Credit card (automatic)': 4,\n",
       "                                      'Electronic check': 1,\n",
       "                                      'Mailed check': 2}}]),\n",
       " 'preprocess__one hot__categories': 'auto',\n",
       " 'preprocess__one hot__drop': 'first',\n",
       " 'preprocess__one hot__dtype': numpy.float64,\n",
       " 'preprocess__one hot__handle_unknown': 'error',\n",
       " 'preprocess__one hot__sparse': True,\n",
       " 'preprocess__ordinal__cols': None,\n",
       " 'preprocess__ordinal__drop_invariant': False,\n",
       " 'preprocess__ordinal__handle_missing': 'value',\n",
       " 'preprocess__ordinal__handle_unknown': 'value',\n",
       " 'preprocess__ordinal__mapping': [{'col': 'PaymentMethod',\n",
       "   'mapping': {None: 0,\n",
       "    'Electronic check': 1,\n",
       "    'Mailed check': 2,\n",
       "    'Bank transfer (automatic)': 3,\n",
       "    'Credit card (automatic)': 4}}],\n",
       " 'preprocess__ordinal__return_df': True,\n",
       " 'preprocess__ordinal__verbose': 0,\n",
       " 'estimator__C': 1.0,\n",
       " 'estimator__class_weight': None,\n",
       " 'estimator__dual': False,\n",
       " 'estimator__fit_intercept': True,\n",
       " 'estimator__intercept_scaling': 1,\n",
       " 'estimator__l1_ratio': None,\n",
       " 'estimator__max_iter': 100,\n",
       " 'estimator__multi_class': 'auto',\n",
       " 'estimator__n_jobs': None,\n",
       " 'estimator__penalty': 'l2',\n",
       " 'estimator__random_state': 777,\n",
       " 'estimator__solver': 'liblinear',\n",
       " 'estimator__tol': 0.0001,\n",
       " 'estimator__verbose': 0,\n",
       " 'estimator__warm_start': False}"
      ]
     },
     "execution_count": 146,
     "metadata": {},
     "output_type": "execute_result"
    }
   ],
   "source": [
    "estimator.get_params()"
   ]
  },
  {
   "cell_type": "code",
   "execution_count": 147,
   "metadata": {
    "ExecuteTime": {
     "end_time": "2021-08-09T08:14:30.344549Z",
     "start_time": "2021-08-09T08:14:30.335353Z"
    }
   },
   "outputs": [],
   "source": [
    "hyperparam_space={'estimator__C':[100,10,1,0.1,0.001],\n",
    "                  'estimator__solver':['newton-cg', 'lbfgs', 'liblinear', 'sag', 'saga'],\n",
    "                  'estimator__penalty':['l1', 'l2', 'elasticnet', 'none'],\n",
    "                  'estimator__max_iter': [100,500,1000],\n",
    "                  'estimator__class_weight':['dict','balanced']\n",
    "                 }"
   ]
  },
  {
   "cell_type": "code",
   "execution_count": 148,
   "metadata": {
    "ExecuteTime": {
     "end_time": "2021-08-09T08:14:30.375666Z",
     "start_time": "2021-08-09T08:14:30.348352Z"
    }
   },
   "outputs": [],
   "source": [
    "skfold=StratifiedKFold(n_splits=5)\n",
    "grid_search=GridSearchCV(\n",
    "    estimator,\n",
    "    param_grid=hyperparam_space,\n",
    "    cv=skfold,\n",
    "    scoring='recall',\n",
    "    n_jobs=-1\n",
    ")"
   ]
  },
  {
   "cell_type": "code",
   "execution_count": 149,
   "metadata": {
    "ExecuteTime": {
     "end_time": "2021-08-09T08:20:32.185351Z",
     "start_time": "2021-08-09T08:14:30.378665Z"
    },
    "scrolled": false
   },
   "outputs": [
    {
     "name": "stderr",
     "output_type": "stream",
     "text": [
      "C:\\Users\\ZenBook-Tiowiradin\\anaconda3\\lib\\site-packages\\sklearn\\model_selection\\_search.py:922: UserWarning: One or more of the test scores are non-finite: [       nan        nan        nan        nan 0.49928317 0.55133198\n",
      " 0.53849009        nan 0.50784443 0.49928317        nan        nan\n",
      "        nan        nan        nan 0.55133198 0.54561515        nan\n",
      " 0.50784443 0.49928317        nan        nan        nan        nan\n",
      " 0.51569395 0.55133198 0.54134215        nan 0.5278241  0.51569395\n",
      "        nan        nan        nan        nan        nan 0.55133198\n",
      " 0.54204881        nan 0.5278241  0.51569395        nan        nan\n",
      "        nan        nan 0.5278241  0.55133198 0.54134215        nan\n",
      " 0.50998729 0.5278241         nan        nan        nan        nan\n",
      "        nan 0.55133198 0.54204881        nan 0.50998729 0.5278241\n",
      "        nan        nan 0.79812659        nan 0.80312659 0.79598627\n",
      " 0.77387646 0.79598882 0.80454753 0.80312659        nan        nan\n",
      "        nan        nan        nan 0.79598627 0.76745043        nan\n",
      " 0.80454753 0.80312659        nan        nan 0.79812659        nan\n",
      " 0.79669293 0.79598627 0.78813167 0.79598882 0.78956024 0.79669293\n",
      "        nan        nan        nan        nan        nan 0.79598627\n",
      " 0.78098882        nan 0.78956024 0.79669293        nan        nan\n",
      " 0.79812659        nan 0.78956024 0.79598627 0.78813167 0.79598882\n",
      " 0.78741993 0.78956024        nan        nan        nan        nan\n",
      "        nan 0.79598627 0.78098882        nan 0.78741993 0.78956024\n",
      "        nan        nan        nan        nan 0.49928317 0.54919166\n",
      " 0.54061769        nan 0.50784443 0.49928317        nan        nan\n",
      "        nan        nan        nan 0.55133198 0.54561515        nan\n",
      " 0.50784443 0.49928317        nan        nan        nan        nan\n",
      " 0.51569395 0.54919166 0.54775547        nan 0.5278241  0.51569395\n",
      "        nan        nan        nan        nan        nan 0.55133198\n",
      " 0.54204881        nan 0.5278241  0.51569395        nan        nan\n",
      "        nan        nan 0.5278241  0.54919166 0.54775547        nan\n",
      " 0.50998729 0.5278241         nan        nan        nan        nan\n",
      "        nan 0.55133198 0.54204881        nan 0.50998729 0.5278241\n",
      "        nan        nan 0.79741739        nan 0.80312659 0.79670056\n",
      " 0.77816218 0.79456024 0.80454753 0.80312659        nan        nan\n",
      "        nan        nan        nan 0.79598627 0.76745043        nan\n",
      " 0.80454753 0.80312659        nan        nan 0.79741739        nan\n",
      " 0.79669293 0.79670056 0.78958058 0.79456024 0.78956024 0.79669293\n",
      "        nan        nan        nan        nan        nan 0.79598627\n",
      " 0.78098882        nan 0.78956024 0.79669293        nan        nan\n",
      " 0.79741739        nan 0.78956024 0.79670056 0.78958058 0.79456024\n",
      " 0.78741993 0.78956024        nan        nan        nan        nan\n",
      "        nan 0.79598627 0.78098882        nan 0.78741993 0.78956024\n",
      "        nan        nan        nan        nan 0.49928317 0.54562278\n",
      " 0.5391942         nan 0.50784443 0.49928317        nan        nan\n",
      "        nan        nan        nan 0.55133198 0.54561515        nan\n",
      " 0.50784443 0.49928317        nan        nan        nan        nan\n",
      " 0.51569395 0.54562278 0.53920437        nan 0.5278241  0.51569395\n",
      "        nan        nan        nan        nan        nan 0.55133198\n",
      " 0.54204881        nan 0.5278241  0.51569395        nan        nan\n",
      "        nan        nan 0.5278241  0.54562278 0.53920437        nan\n",
      " 0.50998729 0.5278241         nan        nan        nan        nan\n",
      "        nan 0.55133198 0.54204881        nan 0.50998729 0.5278241\n",
      "        nan        nan 0.79812913        nan 0.80312659 0.79741739\n",
      " 0.77601169 0.79456279 0.80454753 0.80312659        nan        nan\n",
      "        nan        nan        nan 0.79598627 0.76745043        nan\n",
      " 0.80454753 0.80312659        nan        nan 0.79812913        nan\n",
      " 0.79669293 0.79741739 0.79527453 0.79456279 0.78956024 0.79669293\n",
      "        nan        nan        nan        nan        nan 0.79598627\n",
      " 0.78098882        nan 0.78956024 0.79669293        nan        nan\n",
      " 0.79812913        nan 0.78956024 0.79741739 0.79527453 0.79456279\n",
      " 0.78741993 0.78956024        nan        nan        nan        nan\n",
      "        nan 0.79598627 0.78098882        nan 0.78741993 0.78956024\n",
      "        nan        nan        nan        nan 0.49928317 0.54134469\n",
      " 0.54133706        nan 0.50784443 0.49928317        nan        nan\n",
      "        nan        nan        nan 0.55133198 0.54561515        nan\n",
      " 0.50784443 0.49928317        nan        nan        nan        nan\n",
      " 0.51569395 0.54134469 0.53919929        nan 0.5278241  0.51569395\n",
      "        nan        nan        nan        nan        nan 0.55133198\n",
      " 0.54204881        nan 0.5278241  0.51569395        nan        nan\n",
      "        nan        nan 0.52639553 0.54134469 0.53919929        nan\n",
      " 0.50998729 0.5278241         nan        nan        nan        nan\n",
      "        nan 0.55133198 0.54204881        nan 0.50998729 0.5278241\n",
      "        nan        nan 0.79599136        nan 0.80312659 0.78743264\n",
      " 0.77887646 0.78671581 0.80454753 0.80312659        nan        nan\n",
      "        nan        nan        nan 0.79598627 0.76745043        nan\n",
      " 0.80454753 0.80312659        nan        nan 0.79599136        nan\n",
      " 0.79669293 0.78743264 0.78742247 0.78671581 0.78956024 0.79669293\n",
      "        nan        nan        nan        nan        nan 0.79598627\n",
      " 0.78098882        nan 0.78956024 0.79669293        nan        nan\n",
      " 0.79599136        nan 0.78956024 0.78743264 0.78742247 0.78671581\n",
      " 0.78741993 0.78956024        nan        nan        nan        nan\n",
      "        nan 0.79598627 0.78098882        nan 0.78741993 0.78956024\n",
      "        nan        nan        nan        nan 0.47716828 0.45719624\n",
      " 0.46503813        nan 0.50784443 0.49928317        nan        nan\n",
      "        nan        nan        nan 0.55133198 0.54561515        nan\n",
      " 0.50784443 0.49928317        nan        nan        nan        nan\n",
      " 0.49785206 0.45719624 0.46005846        nan 0.52639553 0.51497966\n",
      "        nan        nan        nan        nan        nan 0.55133198\n",
      " 0.54204881        nan 0.5278241  0.51569395        nan        nan\n",
      "        nan        nan 0.50213523 0.45719624 0.46005846        nan\n",
      " 0.50856126 0.52639553        nan        nan        nan        nan\n",
      "        nan 0.55133198 0.54204881        nan 0.50998729 0.5278241\n",
      "        nan        nan 0.78813676        nan 0.80455008 0.75318505\n",
      " 0.75532537 0.75603965 0.80454753 0.80312659        nan        nan\n",
      "        nan        nan        nan 0.79598627 0.76745043        nan\n",
      " 0.80454753 0.80312659        nan        nan 0.78813676        nan\n",
      " 0.79669548 0.75318505 0.75532537 0.75603965 0.79027453 0.79669293\n",
      "        nan        nan        nan        nan        nan 0.79598627\n",
      " 0.78098882        nan 0.78956024 0.79669293        nan        nan\n",
      " 0.78813676        nan 0.78884596 0.75318505 0.75532537 0.75603965\n",
      " 0.78813167 0.79027453        nan        nan        nan        nan\n",
      "        nan 0.79598627 0.78098882        nan 0.78741993 0.78956024]\n",
      "  warnings.warn(\n",
      "C:\\Users\\ZenBook-Tiowiradin\\anaconda3\\lib\\site-packages\\sklearn\\linear_model\\_sag.py:328: ConvergenceWarning: The max_iter was reached which means the coef_ did not converge\n",
      "  warnings.warn(\"The max_iter was reached which means \"\n"
     ]
    },
    {
     "data": {
      "text/plain": [
       "GridSearchCV(cv=StratifiedKFold(n_splits=5, random_state=None, shuffle=False),\n",
       "             estimator=Pipeline(steps=[('preprocess',\n",
       "                                        ColumnTransformer(remainder='passthrough',\n",
       "                                                          transformers=[('one '\n",
       "                                                                         'hot',\n",
       "                                                                         OneHotEncoder(drop='first'),\n",
       "                                                                         ['gender',\n",
       "                                                                          'Partner',\n",
       "                                                                          'Dependents',\n",
       "                                                                          'PhoneService',\n",
       "                                                                          'MultipleLines',\n",
       "                                                                          'InternetService',\n",
       "                                                                          'OnlineSecurity',\n",
       "                                                                          'OnlineBackup',\n",
       "                                                                          'DeviceProtection',\n",
       "                                                                          'Tech...\n",
       "                                       ('estimator',\n",
       "                                        LogisticRegression(random_state=777,\n",
       "                                                           solver='liblinear'))]),\n",
       "             n_jobs=-1,\n",
       "             param_grid={'estimator__C': [100, 10, 1, 0.1, 0.001],\n",
       "                         'estimator__class_weight': ['dict', 'balanced'],\n",
       "                         'estimator__max_iter': [100, 500, 1000],\n",
       "                         'estimator__penalty': ['l1', 'l2', 'elasticnet',\n",
       "                                                'none'],\n",
       "                         'estimator__solver': ['newton-cg', 'lbfgs',\n",
       "                                               'liblinear', 'sag', 'saga']},\n",
       "             scoring='recall')"
      ]
     },
     "execution_count": 149,
     "metadata": {},
     "output_type": "execute_result"
    }
   ],
   "source": [
    "grid_search.fit(x_train, y_train)"
   ]
  },
  {
   "cell_type": "code",
   "execution_count": 150,
   "metadata": {
    "ExecuteTime": {
     "end_time": "2021-08-09T08:20:32.217354Z",
     "start_time": "2021-08-09T08:20:32.190351Z"
    }
   },
   "outputs": [
    {
     "name": "stdout",
     "output_type": "stream",
     "text": [
      "best score: 0.8045500762582612\n",
      "best parameters: {'estimator__C': 0.001, 'estimator__class_weight': 'balanced', 'estimator__max_iter': 100, 'estimator__penalty': 'l1', 'estimator__solver': 'saga'}\n"
     ]
    }
   ],
   "source": [
    "print('best score:',grid_search.best_score_)\n",
    "print('best parameters:',grid_search.best_params_)"
   ]
  },
  {
   "cell_type": "markdown",
   "metadata": {},
   "source": [
    "## Before vs After tuning"
   ]
  },
  {
   "cell_type": "markdown",
   "metadata": {},
   "source": [
    "### Before"
   ]
  },
  {
   "cell_type": "code",
   "execution_count": 151,
   "metadata": {
    "ExecuteTime": {
     "end_time": "2021-08-09T08:20:32.233355Z",
     "start_time": "2021-08-09T08:20:32.221353Z"
    }
   },
   "outputs": [],
   "source": [
    "from sklearn.metrics import recall_score"
   ]
  },
  {
   "cell_type": "code",
   "execution_count": 152,
   "metadata": {
    "ExecuteTime": {
     "end_time": "2021-08-09T08:20:32.407408Z",
     "start_time": "2021-08-09T08:20:32.237360Z"
    }
   },
   "outputs": [
    {
     "data": {
      "text/plain": [
       "Pipeline(steps=[('preprocess',\n",
       "                 ColumnTransformer(remainder='passthrough',\n",
       "                                   transformers=[('one hot',\n",
       "                                                  OneHotEncoder(drop='first'),\n",
       "                                                  ['gender', 'Partner',\n",
       "                                                   'Dependents', 'PhoneService',\n",
       "                                                   'MultipleLines',\n",
       "                                                   'InternetService',\n",
       "                                                   'OnlineSecurity',\n",
       "                                                   'OnlineBackup',\n",
       "                                                   'DeviceProtection',\n",
       "                                                   'TechSupport', 'StreamingTV',\n",
       "                                                   'StreamingMovies',\n",
       "                                                   'Contract',\n",
       "                                                   'PaperlessBilling']),\n",
       "                                                 ('ordinal',\n",
       "                                                  OrdinalEncoder(mapping=[{'col': 'PaymentMethod',\n",
       "                                                                           'mapping': {None: 0,\n",
       "                                                                                       'Bank transfer (automatic)': 3,\n",
       "                                                                                       'Credit card (automatic)': 4,\n",
       "                                                                                       'Electronic check': 1,\n",
       "                                                                                       'Mailed check': 2}}]),\n",
       "                                                  ['PaymentMethod'])])),\n",
       "                ('estimator',\n",
       "                 LogisticRegression(random_state=777, solver='liblinear'))])"
      ]
     },
     "execution_count": 152,
     "metadata": {},
     "output_type": "execute_result"
    }
   ],
   "source": [
    "model=LogisticRegression(solver='liblinear', random_state=777)\n",
    "estimator=Pipeline([\n",
    "    ('preprocess',transformer),\n",
    "    ('estimator', model)\n",
    "])\n",
    "\n",
    "estimator.fit(x_train, y_train)"
   ]
  },
  {
   "cell_type": "code",
   "execution_count": 153,
   "metadata": {
    "ExecuteTime": {
     "end_time": "2021-08-09T08:20:32.565468Z",
     "start_time": "2021-08-09T08:20:32.410408Z"
    }
   },
   "outputs": [
    {
     "name": "stdout",
     "output_type": "stream",
     "text": [
      "              precision    recall  f1-score   support\n",
      "\n",
      "           0       0.84      0.89      0.87      1294\n",
      "           1       0.64      0.52      0.58       467\n",
      "\n",
      "    accuracy                           0.80      1761\n",
      "   macro avg       0.74      0.71      0.72      1761\n",
      "weighted avg       0.79      0.80      0.79      1761\n",
      "\n"
     ]
    }
   ],
   "source": [
    "estimator.fit(x_train,y_train)\n",
    "y_predBef=estimator.predict(x_test)\n",
    "print(classification_report(y_test,y_predBef))"
   ]
  },
  {
   "cell_type": "code",
   "execution_count": 154,
   "metadata": {
    "ExecuteTime": {
     "end_time": "2021-08-09T08:20:32.581438Z",
     "start_time": "2021-08-09T08:20:32.567439Z"
    }
   },
   "outputs": [
    {
     "data": {
      "text/plain": [
       "0.5224839400428265"
      ]
     },
     "execution_count": 154,
     "metadata": {},
     "output_type": "execute_result"
    }
   ],
   "source": [
    "recall_score(y_test, y_predBef)"
   ]
  },
  {
   "cell_type": "markdown",
   "metadata": {},
   "source": [
    ">**Sebelum dilakukan tuning**, performa model memiliki nilai sebesar `52.24%`"
   ]
  },
  {
   "cell_type": "markdown",
   "metadata": {},
   "source": [
    "### After"
   ]
  },
  {
   "cell_type": "code",
   "execution_count": 155,
   "metadata": {
    "ExecuteTime": {
     "end_time": "2021-08-09T08:20:33.084023Z",
     "start_time": "2021-08-09T08:20:32.584439Z"
    },
    "scrolled": false
   },
   "outputs": [
    {
     "name": "stderr",
     "output_type": "stream",
     "text": [
      "C:\\Users\\ZenBook-Tiowiradin\\anaconda3\\lib\\site-packages\\sklearn\\linear_model\\_sag.py:328: ConvergenceWarning: The max_iter was reached which means the coef_ did not converge\n",
      "  warnings.warn(\"The max_iter was reached which means \"\n"
     ]
    },
    {
     "data": {
      "text/plain": [
       "Pipeline(steps=[('preprocess',\n",
       "                 ColumnTransformer(remainder='passthrough',\n",
       "                                   transformers=[('one hot',\n",
       "                                                  OneHotEncoder(drop='first'),\n",
       "                                                  ['gender', 'Partner',\n",
       "                                                   'Dependents', 'PhoneService',\n",
       "                                                   'MultipleLines',\n",
       "                                                   'InternetService',\n",
       "                                                   'OnlineSecurity',\n",
       "                                                   'OnlineBackup',\n",
       "                                                   'DeviceProtection',\n",
       "                                                   'TechSupport', 'StreamingTV',\n",
       "                                                   'StreamingMovies',\n",
       "                                                   'Contract',\n",
       "                                                   'PaperlessBilling']),\n",
       "                                                 ('ordinal',\n",
       "                                                  OrdinalEncoder(mapping=[{'col': 'PaymentMethod',\n",
       "                                                                           'mapping': {None: 0,\n",
       "                                                                                       'Bank transfer (automatic)': 3,\n",
       "                                                                                       'Credit card (automatic)': 4,\n",
       "                                                                                       'Electronic check': 1,\n",
       "                                                                                       'Mailed check': 2}}]),\n",
       "                                                  ['PaymentMethod'])])),\n",
       "                ('estimator',\n",
       "                 LogisticRegression(C=0.001, class_weight='balanced',\n",
       "                                    penalty='l1', random_state=777,\n",
       "                                    solver='saga'))])"
      ]
     },
     "execution_count": 155,
     "metadata": {},
     "output_type": "execute_result"
    }
   ],
   "source": [
    "best_model=grid_search.best_estimator_\n",
    "best_model.fit(x_train, y_train)"
   ]
  },
  {
   "cell_type": "code",
   "execution_count": 156,
   "metadata": {
    "ExecuteTime": {
     "end_time": "2021-08-09T08:20:33.131669Z",
     "start_time": "2021-08-09T08:20:33.086816Z"
    }
   },
   "outputs": [],
   "source": [
    "y_predAf=best_model.predict(x_test)"
   ]
  },
  {
   "cell_type": "code",
   "execution_count": 157,
   "metadata": {
    "ExecuteTime": {
     "end_time": "2021-08-09T08:20:33.161675Z",
     "start_time": "2021-08-09T08:20:33.134670Z"
    }
   },
   "outputs": [
    {
     "name": "stdout",
     "output_type": "stream",
     "text": [
      "              precision    recall  f1-score   support\n",
      "\n",
      "           0       0.90      0.59      0.71      1294\n",
      "           1       0.41      0.81      0.55       467\n",
      "\n",
      "    accuracy                           0.65      1761\n",
      "   macro avg       0.66      0.70      0.63      1761\n",
      "weighted avg       0.77      0.65      0.67      1761\n",
      "\n"
     ]
    }
   ],
   "source": [
    "print(classification_report(y_test, y_predAf))"
   ]
  },
  {
   "cell_type": "code",
   "execution_count": 158,
   "metadata": {
    "ExecuteTime": {
     "end_time": "2021-08-09T08:20:33.177672Z",
     "start_time": "2021-08-09T08:20:33.165673Z"
    }
   },
   "outputs": [
    {
     "data": {
      "text/plain": [
       "0.8137044967880086"
      ]
     },
     "execution_count": 158,
     "metadata": {},
     "output_type": "execute_result"
    }
   ],
   "source": [
    "recall_score(y_test, y_predAf)"
   ]
  },
  {
   "cell_type": "markdown",
   "metadata": {
    "ExecuteTime": {
     "end_time": "2021-08-09T02:08:32.110659Z",
     "start_time": "2021-08-09T02:08:32.082126Z"
    }
   },
   "source": [
    "> **Setelah dilakukan tuning**, performa model mengalami peningkatan yg cukup signifikan dari `52.24%` menjadi `81.37%`"
   ]
  },
  {
   "cell_type": "markdown",
   "metadata": {},
   "source": [
    "tapi nilai accuracy menurun dari 80% menjadi 65%"
   ]
  },
  {
   "cell_type": "code",
   "execution_count": null,
   "metadata": {},
   "outputs": [],
   "source": []
  }
 ],
 "metadata": {
  "kernelspec": {
   "display_name": "Python 3",
   "language": "python",
   "name": "python3"
  },
  "language_info": {
   "codemirror_mode": {
    "name": "ipython",
    "version": 3
   },
   "file_extension": ".py",
   "mimetype": "text/x-python",
   "name": "python",
   "nbconvert_exporter": "python",
   "pygments_lexer": "ipython3",
   "version": "3.8.5"
  },
  "toc": {
   "base_numbering": 1,
   "nav_menu": {},
   "number_sections": true,
   "sideBar": true,
   "skip_h1_title": false,
   "title_cell": "Table of Contents",
   "title_sidebar": "Contents",
   "toc_cell": false,
   "toc_position": {
    "height": "calc(100% - 180px)",
    "left": "10px",
    "top": "150px",
    "width": "307.2px"
   },
   "toc_section_display": true,
   "toc_window_display": true
  },
  "varInspector": {
   "cols": {
    "lenName": 16,
    "lenType": 16,
    "lenVar": 40
   },
   "kernels_config": {
    "python": {
     "delete_cmd_postfix": "",
     "delete_cmd_prefix": "del ",
     "library": "var_list.py",
     "varRefreshCmd": "print(var_dic_list())"
    },
    "r": {
     "delete_cmd_postfix": ") ",
     "delete_cmd_prefix": "rm(",
     "library": "var_list.r",
     "varRefreshCmd": "cat(var_dic_list()) "
    }
   },
   "types_to_exclude": [
    "module",
    "function",
    "builtin_function_or_method",
    "instance",
    "_Feature"
   ],
   "window_display": false
  }
 },
 "nbformat": 4,
 "nbformat_minor": 4
}
