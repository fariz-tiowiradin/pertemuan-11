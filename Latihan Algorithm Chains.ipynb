{
 "cells": [
  {
   "cell_type": "markdown",
   "metadata": {},
   "source": [
    "dengan menggunakan data Titanic:\n",
    "* carilah model dan parameter terbaik untuk memprediksi apakah seseorang selamat atau tidak.\n",
    "* konteks: memprediksi kemungkinan seseorang selamat jika kapal yg **akan** dinaikinya karam\n",
    "* model yg dicoba:\n",
    "    - logreg\n",
    "    - dtc\n",
    "    - knn classifier\n",
    "* pilih 1 model terbaik dari hasil cross validation nya, lalu tuning model tsb\n",
    "\n",
    "kumpulkan ke Brigita.gems@gmail.com dengan subject: algorithm chain"
   ]
  },
  {
   "cell_type": "markdown",
   "metadata": {},
   "source": [
    "ini dari awal bgt sampe hyperparameter tuning"
   ]
  },
  {
   "cell_type": "code",
   "execution_count": 1,
   "metadata": {},
   "outputs": [],
   "source": [
    "import pandas as pd\n",
    "import numpy as np\n"
   ]
  },
  {
   "cell_type": "code",
   "execution_count": 2,
   "metadata": {},
   "outputs": [
    {
     "data": {
      "text/html": [
       "<div>\n",
       "<style scoped>\n",
       "    .dataframe tbody tr th:only-of-type {\n",
       "        vertical-align: middle;\n",
       "    }\n",
       "\n",
       "    .dataframe tbody tr th {\n",
       "        vertical-align: top;\n",
       "    }\n",
       "\n",
       "    .dataframe thead th {\n",
       "        text-align: right;\n",
       "    }\n",
       "</style>\n",
       "<table border=\"1\" class=\"dataframe\">\n",
       "  <thead>\n",
       "    <tr style=\"text-align: right;\">\n",
       "      <th></th>\n",
       "      <th>sex</th>\n",
       "      <th>age</th>\n",
       "      <th>parch</th>\n",
       "      <th>fare</th>\n",
       "      <th>class</th>\n",
       "      <th>deck</th>\n",
       "      <th>embark_town</th>\n",
       "      <th>alive</th>\n",
       "      <th>alone</th>\n",
       "    </tr>\n",
       "  </thead>\n",
       "  <tbody>\n",
       "    <tr>\n",
       "      <th>0</th>\n",
       "      <td>male</td>\n",
       "      <td>22.0</td>\n",
       "      <td>0</td>\n",
       "      <td>7.2500</td>\n",
       "      <td>Third</td>\n",
       "      <td>NaN</td>\n",
       "      <td>Southampton</td>\n",
       "      <td>no</td>\n",
       "      <td>False</td>\n",
       "    </tr>\n",
       "    <tr>\n",
       "      <th>1</th>\n",
       "      <td>female</td>\n",
       "      <td>38.0</td>\n",
       "      <td>0</td>\n",
       "      <td>71.2833</td>\n",
       "      <td>First</td>\n",
       "      <td>C</td>\n",
       "      <td>Cherbourg</td>\n",
       "      <td>yes</td>\n",
       "      <td>False</td>\n",
       "    </tr>\n",
       "    <tr>\n",
       "      <th>2</th>\n",
       "      <td>female</td>\n",
       "      <td>26.0</td>\n",
       "      <td>0</td>\n",
       "      <td>7.9250</td>\n",
       "      <td>Third</td>\n",
       "      <td>NaN</td>\n",
       "      <td>Southampton</td>\n",
       "      <td>yes</td>\n",
       "      <td>True</td>\n",
       "    </tr>\n",
       "    <tr>\n",
       "      <th>3</th>\n",
       "      <td>female</td>\n",
       "      <td>35.0</td>\n",
       "      <td>0</td>\n",
       "      <td>53.1000</td>\n",
       "      <td>First</td>\n",
       "      <td>C</td>\n",
       "      <td>Southampton</td>\n",
       "      <td>yes</td>\n",
       "      <td>False</td>\n",
       "    </tr>\n",
       "    <tr>\n",
       "      <th>4</th>\n",
       "      <td>male</td>\n",
       "      <td>35.0</td>\n",
       "      <td>0</td>\n",
       "      <td>8.0500</td>\n",
       "      <td>Third</td>\n",
       "      <td>NaN</td>\n",
       "      <td>Southampton</td>\n",
       "      <td>no</td>\n",
       "      <td>True</td>\n",
       "    </tr>\n",
       "  </tbody>\n",
       "</table>\n",
       "</div>"
      ],
      "text/plain": [
       "      sex   age  parch     fare  class deck  embark_town alive  alone\n",
       "0    male  22.0      0   7.2500  Third  NaN  Southampton    no  False\n",
       "1  female  38.0      0  71.2833  First    C    Cherbourg   yes  False\n",
       "2  female  26.0      0   7.9250  Third  NaN  Southampton   yes   True\n",
       "3  female  35.0      0  53.1000  First    C  Southampton   yes  False\n",
       "4    male  35.0      0   8.0500  Third  NaN  Southampton    no   True"
      ]
     },
     "execution_count": 2,
     "metadata": {},
     "output_type": "execute_result"
    }
   ],
   "source": [
    "titanic=pd.read_csv('titanic.csv')\n",
    "titanic.head()"
   ]
  },
  {
   "cell_type": "code",
   "execution_count": 3,
   "metadata": {},
   "outputs": [],
   "source": [
    "titanic=titanic.drop(columns='deck')"
   ]
  },
  {
   "cell_type": "markdown",
   "metadata": {},
   "source": [
    "# Preprocessing"
   ]
  },
  {
   "cell_type": "code",
   "execution_count": 4,
   "metadata": {},
   "outputs": [],
   "source": [
    "from sklearn.impute import SimpleImputer\n",
    "from sklearn.preprocessing import OneHotEncoder, OrdinalEncoder\n",
    "from sklearn.pipeline import Pipeline\n",
    "import category_encoders as ce\n",
    "from sklearn.compose import ColumnTransformer"
   ]
  },
  {
   "cell_type": "code",
   "execution_count": 5,
   "metadata": {
    "scrolled": false
   },
   "outputs": [
    {
     "data": {
      "text/plain": [
       "sex              0\n",
       "age            177\n",
       "parch            0\n",
       "fare             0\n",
       "class            0\n",
       "embark_town      2\n",
       "alive            0\n",
       "alone            0\n",
       "dtype: int64"
      ]
     },
     "execution_count": 5,
     "metadata": {},
     "output_type": "execute_result"
    }
   ],
   "source": [
    "titanic.isna().sum()"
   ]
  },
  {
   "cell_type": "markdown",
   "metadata": {},
   "source": [
    "    - age : simple imputer median\n",
    "    - missing value embark town : modus\n",
    "    - sex, embark town, alone : OneHot encoding\n",
    "    - class : ordinal"
   ]
  },
  {
   "cell_type": "code",
   "execution_count": 6,
   "metadata": {},
   "outputs": [],
   "source": [
    "pipe=Pipeline([('mod',SimpleImputer(strategy='most_frequent')),\n",
    "               ('OH', OneHotEncoder(drop='first'))\n",
    "              ])\n",
    "\n",
    "mapping=[{'col':'class','mapping':{None:0,'First':1,'Second':2,'Third':3}}]\n",
    "ordinal=ce.OrdinalEncoder(mapping=mapping)\n",
    "\n",
    "transformer=ColumnTransformer([\n",
    "    ('imputer', SimpleImputer(strategy='median'),['age']),\n",
    "    ('One Hot', pipe,['sex','embark_town', 'alone']),\n",
    "    ('ordinal', ordinal,['class']), \n",
    "], remainder='passthrough')\n"
   ]
  },
  {
   "cell_type": "markdown",
   "metadata": {},
   "source": [
    "# Data Splitting"
   ]
  },
  {
   "cell_type": "code",
   "execution_count": 7,
   "metadata": {},
   "outputs": [],
   "source": [
    "from sklearn.model_selection import train_test_split\n",
    "from sklearn.metrics import accuracy_score"
   ]
  },
  {
   "cell_type": "code",
   "execution_count": 8,
   "metadata": {},
   "outputs": [],
   "source": [
    "x = titanic.drop(columns=['alive'])\n",
    "y = np.where(titanic['alive']=='yes',1,0)"
   ]
  },
  {
   "cell_type": "code",
   "execution_count": 9,
   "metadata": {},
   "outputs": [],
   "source": [
    "x_train, x_test, y_train, y_test = train_test_split(x,y,test_size=0.2,stratify=y,random_state = 2020)"
   ]
  },
  {
   "cell_type": "markdown",
   "metadata": {},
   "source": [
    "# Data Transform"
   ]
  },
  {
   "cell_type": "code",
   "execution_count": 10,
   "metadata": {},
   "outputs": [],
   "source": [
    "x_train_preprocessed=pd.DataFrame(transformer.fit_transform(x_train))\n",
    "x_test_preprocessed=pd.DataFrame(transformer.fit_transform(x_test))"
   ]
  },
  {
   "cell_type": "markdown",
   "metadata": {},
   "source": [
    "konteks: memprediksi kemungkinan seseorang selamat jika kapal yg **akan** dinaikinya karam\n",
    "\n",
    "1 = selamat (akan hidup),\n",
    "0 = tidak selamat (akan mati) \n",
    "\n",
    "FP = dibilang akan selamat padahal tidak --> akan tetap naik kapal, jumlah (calon) penumpang yg hidup akan jadi berkurang\n",
    "\n",
    "FN = dibilang akan tidak selamat padahal selamat --> tidak jadi naik kapal, jumlah (calon) penumpang yg tetap hidup setidaknya tidak berkurang\n",
    "\n",
    "jadi minimalisir/menekan FP --> menggunakan Precision"
   ]
  },
  {
   "cell_type": "markdown",
   "metadata": {},
   "source": [
    "# Benchmark Model"
   ]
  },
  {
   "cell_type": "markdown",
   "metadata": {},
   "source": [
    "model yg dicoba:\n",
    "* logreg\n",
    "* dtc\n",
    "* knn classifier"
   ]
  },
  {
   "cell_type": "code",
   "execution_count": 54,
   "metadata": {},
   "outputs": [],
   "source": [
    "from sklearn.linear_model import LogisticRegression\n",
    "from sklearn.neighbors import KNeighborsClassifier\n",
    "from sklearn.tree import DecisionTreeClassifier\n",
    "from sklearn.model_selection import cross_val_score, StratifiedKFold, GridSearchCV\n",
    "from sklearn.metrics import confusion_matrix, recall_score, precision_score, classification_report, f1_score"
   ]
  },
  {
   "cell_type": "code",
   "execution_count": 28,
   "metadata": {},
   "outputs": [],
   "source": [
    "logreg=LogisticRegression(solver='liblinear', random_state=2020)\n",
    "tree=DecisionTreeClassifier(criterion='entropy', max_depth=5, random_state=2020)\n",
    "knn=KNeighborsClassifier(n_neighbors=5, weights='distance')"
   ]
  },
  {
   "cell_type": "code",
   "execution_count": 31,
   "metadata": {},
   "outputs": [],
   "source": [
    "models=[logreg,tree,knn]\n",
    "score=[]\n",
    "mean=[]\n",
    "stdev=[]\n",
    "\n",
    "for i in models:\n",
    "    skfold=StratifiedKFold(n_splits=5)\n",
    "    estimator=Pipeline([\n",
    "        ('preprocess',transformer),\n",
    "        ('model',i)\n",
    "    ])\n",
    "    model_cv=cross_val_score(estimator, x_train, y_train, cv=skfold, scoring='precision')    \n",
    "    \n",
    "    score.append(model_cv)\n",
    "    mean.append(model_cv.mean())\n",
    "    stdev.append(model_cv.std())"
   ]
  },
  {
   "cell_type": "code",
   "execution_count": 33,
   "metadata": {
    "scrolled": true
   },
   "outputs": [
    {
     "data": {
      "text/html": [
       "<div>\n",
       "<style scoped>\n",
       "    .dataframe tbody tr th:only-of-type {\n",
       "        vertical-align: middle;\n",
       "    }\n",
       "\n",
       "    .dataframe tbody tr th {\n",
       "        vertical-align: top;\n",
       "    }\n",
       "\n",
       "    .dataframe thead th {\n",
       "        text-align: right;\n",
       "    }\n",
       "</style>\n",
       "<table border=\"1\" class=\"dataframe\">\n",
       "  <thead>\n",
       "    <tr style=\"text-align: right;\">\n",
       "      <th></th>\n",
       "      <th>Model</th>\n",
       "      <th>score</th>\n",
       "      <th>mean</th>\n",
       "      <th>stdev</th>\n",
       "    </tr>\n",
       "  </thead>\n",
       "  <tbody>\n",
       "    <tr>\n",
       "      <th>0</th>\n",
       "      <td>logreg</td>\n",
       "      <td>[0.6530612244897959, 0.7843137254901961, 0.804...</td>\n",
       "      <td>0.756809</td>\n",
       "      <td>0.061015</td>\n",
       "    </tr>\n",
       "    <tr>\n",
       "      <th>1</th>\n",
       "      <td>tree</td>\n",
       "      <td>[0.7435897435897436, 0.8095238095238095, 0.864...</td>\n",
       "      <td>0.810111</td>\n",
       "      <td>0.041742</td>\n",
       "    </tr>\n",
       "    <tr>\n",
       "      <th>2</th>\n",
       "      <td>knn</td>\n",
       "      <td>[0.5348837209302325, 0.7619047619047619, 0.583...</td>\n",
       "      <td>0.634834</td>\n",
       "      <td>0.076761</td>\n",
       "    </tr>\n",
       "  </tbody>\n",
       "</table>\n",
       "</div>"
      ],
      "text/plain": [
       "    Model                                              score      mean  \\\n",
       "0  logreg  [0.6530612244897959, 0.7843137254901961, 0.804...  0.756809   \n",
       "1    tree  [0.7435897435897436, 0.8095238095238095, 0.864...  0.810111   \n",
       "2     knn  [0.5348837209302325, 0.7619047619047619, 0.583...  0.634834   \n",
       "\n",
       "      stdev  \n",
       "0  0.061015  \n",
       "1  0.041742  \n",
       "2  0.076761  "
      ]
     },
     "execution_count": 33,
     "metadata": {},
     "output_type": "execute_result"
    }
   ],
   "source": [
    "pd.DataFrame({\n",
    "    'Model':['logreg','tree','knn'],\n",
    "    'score':score,\n",
    "    'mean':mean,\n",
    "    'stdev':stdev\n",
    "})"
   ]
  },
  {
   "cell_type": "markdown",
   "metadata": {},
   "source": [
    ">disini `Tree` memiliki nilai _mean_ yg paling tinggi serta nilai _stDev_ yg paling rendah, bisa dikatakan model yg performanya paling dan lebih stabil adalah ketika menggunakan `Tree`. untuk selanjutnya akan dilakukan optimasi model logistik pada `Tree`."
   ]
  },
  {
   "cell_type": "code",
   "execution_count": 74,
   "metadata": {},
   "outputs": [
    {
     "data": {
      "text/plain": [
       "Pipeline(steps=[('preprocess',\n",
       "                 ColumnTransformer(remainder='passthrough',\n",
       "                                   transformers=[('imputer',\n",
       "                                                  SimpleImputer(strategy='median'),\n",
       "                                                  ['age']),\n",
       "                                                 ('One Hot',\n",
       "                                                  Pipeline(steps=[('mod',\n",
       "                                                                   SimpleImputer(strategy='most_frequent')),\n",
       "                                                                  ('OH',\n",
       "                                                                   OneHotEncoder(drop='first'))]),\n",
       "                                                  ['sex', 'embark_town',\n",
       "                                                   'alone']),\n",
       "                                                 ('ordinal',\n",
       "                                                  OrdinalEncoder(mapping=[{'col': 'class',\n",
       "                                                                           'mapping': {None: 0,\n",
       "                                                                                       'First': 1,\n",
       "                                                                                       'Second': 2,\n",
       "                                                                                       'Third': 3}}]),\n",
       "                                                  ['class'])])),\n",
       "                ('model',\n",
       "                 DecisionTreeClassifier(criterion='entropy', max_depth=5,\n",
       "                                        random_state=2020))])"
      ]
     },
     "execution_count": 74,
     "metadata": {},
     "output_type": "execute_result"
    }
   ],
   "source": [
    "tree=DecisionTreeClassifier(criterion='entropy', max_depth=5, random_state=2020)\n",
    "pipeline=Pipeline([\n",
    "        ('preprocess',transformer),\n",
    "        ('model',tree)\n",
    "])\n",
    "\n",
    "estimator.fit(x_train, y_train)"
   ]
  },
  {
   "cell_type": "code",
   "execution_count": 75,
   "metadata": {},
   "outputs": [],
   "source": [
    "y_pred=estimator.predict(x_test)"
   ]
  },
  {
   "cell_type": "code",
   "execution_count": 76,
   "metadata": {},
   "outputs": [
    {
     "name": "stdout",
     "output_type": "stream",
     "text": [
      "              precision    recall  f1-score   support\n",
      "\n",
      "           0       0.76      0.94      0.84       110\n",
      "           1       0.84      0.54      0.65        69\n",
      "\n",
      "    accuracy                           0.78       179\n",
      "   macro avg       0.80      0.74      0.75       179\n",
      "weighted avg       0.79      0.78      0.77       179\n",
      "\n"
     ]
    }
   ],
   "source": [
    "print(classification_report(y_test,y_pred))"
   ]
  },
  {
   "cell_type": "markdown",
   "metadata": {},
   "source": [
    "## tuning"
   ]
  },
  {
   "cell_type": "code",
   "execution_count": 77,
   "metadata": {},
   "outputs": [],
   "source": [
    "tree=DecisionTreeClassifier(criterion='entropy', max_depth=5, random_state=2020)\n",
    "pipeline=Pipeline([\n",
    "        ('preprocess',transformer),\n",
    "        ('model',tree)\n",
    "])"
   ]
  },
  {
   "cell_type": "code",
   "execution_count": 78,
   "metadata": {
    "scrolled": true
   },
   "outputs": [
    {
     "data": {
      "text/plain": [
       "{'memory': None,\n",
       " 'steps': [('preprocess',\n",
       "   ColumnTransformer(remainder='passthrough',\n",
       "                     transformers=[('imputer', SimpleImputer(strategy='median'),\n",
       "                                    ['age']),\n",
       "                                   ('One Hot',\n",
       "                                    Pipeline(steps=[('mod',\n",
       "                                                     SimpleImputer(strategy='most_frequent')),\n",
       "                                                    ('OH',\n",
       "                                                     OneHotEncoder(drop='first'))]),\n",
       "                                    ['sex', 'embark_town', 'alone']),\n",
       "                                   ('ordinal',\n",
       "                                    OrdinalEncoder(mapping=[{'col': 'class',\n",
       "                                                             'mapping': {None: 0,\n",
       "                                                                         'First': 1,\n",
       "                                                                         'Second': 2,\n",
       "                                                                         'Third': 3}}]),\n",
       "                                    ['class'])])),\n",
       "  ('model',\n",
       "   DecisionTreeClassifier(criterion='entropy', max_depth=5, random_state=2020))],\n",
       " 'verbose': False,\n",
       " 'preprocess': ColumnTransformer(remainder='passthrough',\n",
       "                   transformers=[('imputer', SimpleImputer(strategy='median'),\n",
       "                                  ['age']),\n",
       "                                 ('One Hot',\n",
       "                                  Pipeline(steps=[('mod',\n",
       "                                                   SimpleImputer(strategy='most_frequent')),\n",
       "                                                  ('OH',\n",
       "                                                   OneHotEncoder(drop='first'))]),\n",
       "                                  ['sex', 'embark_town', 'alone']),\n",
       "                                 ('ordinal',\n",
       "                                  OrdinalEncoder(mapping=[{'col': 'class',\n",
       "                                                           'mapping': {None: 0,\n",
       "                                                                       'First': 1,\n",
       "                                                                       'Second': 2,\n",
       "                                                                       'Third': 3}}]),\n",
       "                                  ['class'])]),\n",
       " 'model': DecisionTreeClassifier(criterion='entropy', max_depth=5, random_state=2020),\n",
       " 'preprocess__n_jobs': None,\n",
       " 'preprocess__remainder': 'passthrough',\n",
       " 'preprocess__sparse_threshold': 0.3,\n",
       " 'preprocess__transformer_weights': None,\n",
       " 'preprocess__transformers': [('imputer',\n",
       "   SimpleImputer(strategy='median'),\n",
       "   ['age']),\n",
       "  ('One Hot',\n",
       "   Pipeline(steps=[('mod', SimpleImputer(strategy='most_frequent')),\n",
       "                   ('OH', OneHotEncoder(drop='first'))]),\n",
       "   ['sex', 'embark_town', 'alone']),\n",
       "  ('ordinal',\n",
       "   OrdinalEncoder(mapping=[{'col': 'class',\n",
       "                            'mapping': {None: 0, 'First': 1, 'Second': 2,\n",
       "                                        'Third': 3}}]),\n",
       "   ['class'])],\n",
       " 'preprocess__verbose': False,\n",
       " 'preprocess__imputer': SimpleImputer(strategy='median'),\n",
       " 'preprocess__One Hot': Pipeline(steps=[('mod', SimpleImputer(strategy='most_frequent')),\n",
       "                 ('OH', OneHotEncoder(drop='first'))]),\n",
       " 'preprocess__ordinal': OrdinalEncoder(mapping=[{'col': 'class',\n",
       "                          'mapping': {None: 0, 'First': 1, 'Second': 2,\n",
       "                                      'Third': 3}}]),\n",
       " 'preprocess__imputer__add_indicator': False,\n",
       " 'preprocess__imputer__copy': True,\n",
       " 'preprocess__imputer__fill_value': None,\n",
       " 'preprocess__imputer__missing_values': nan,\n",
       " 'preprocess__imputer__strategy': 'median',\n",
       " 'preprocess__imputer__verbose': 0,\n",
       " 'preprocess__One Hot__memory': None,\n",
       " 'preprocess__One Hot__steps': [('mod',\n",
       "   SimpleImputer(strategy='most_frequent')),\n",
       "  ('OH', OneHotEncoder(drop='first'))],\n",
       " 'preprocess__One Hot__verbose': False,\n",
       " 'preprocess__One Hot__mod': SimpleImputer(strategy='most_frequent'),\n",
       " 'preprocess__One Hot__OH': OneHotEncoder(drop='first'),\n",
       " 'preprocess__One Hot__mod__add_indicator': False,\n",
       " 'preprocess__One Hot__mod__copy': True,\n",
       " 'preprocess__One Hot__mod__fill_value': None,\n",
       " 'preprocess__One Hot__mod__missing_values': nan,\n",
       " 'preprocess__One Hot__mod__strategy': 'most_frequent',\n",
       " 'preprocess__One Hot__mod__verbose': 0,\n",
       " 'preprocess__One Hot__OH__categories': 'auto',\n",
       " 'preprocess__One Hot__OH__drop': 'first',\n",
       " 'preprocess__One Hot__OH__dtype': numpy.float64,\n",
       " 'preprocess__One Hot__OH__handle_unknown': 'error',\n",
       " 'preprocess__One Hot__OH__sparse': True,\n",
       " 'preprocess__ordinal__cols': None,\n",
       " 'preprocess__ordinal__drop_invariant': False,\n",
       " 'preprocess__ordinal__handle_missing': 'value',\n",
       " 'preprocess__ordinal__handle_unknown': 'value',\n",
       " 'preprocess__ordinal__mapping': [{'col': 'class',\n",
       "   'mapping': {None: 0, 'First': 1, 'Second': 2, 'Third': 3}}],\n",
       " 'preprocess__ordinal__return_df': True,\n",
       " 'preprocess__ordinal__verbose': 0,\n",
       " 'model__ccp_alpha': 0.0,\n",
       " 'model__class_weight': None,\n",
       " 'model__criterion': 'entropy',\n",
       " 'model__max_depth': 5,\n",
       " 'model__max_features': None,\n",
       " 'model__max_leaf_nodes': None,\n",
       " 'model__min_impurity_decrease': 0.0,\n",
       " 'model__min_impurity_split': None,\n",
       " 'model__min_samples_leaf': 1,\n",
       " 'model__min_samples_split': 2,\n",
       " 'model__min_weight_fraction_leaf': 0.0,\n",
       " 'model__presort': 'deprecated',\n",
       " 'model__random_state': 2020,\n",
       " 'model__splitter': 'best'}"
      ]
     },
     "execution_count": 78,
     "metadata": {},
     "output_type": "execute_result"
    }
   ],
   "source": [
    "estimator.get_params()"
   ]
  },
  {
   "cell_type": "code",
   "execution_count": 100,
   "metadata": {},
   "outputs": [],
   "source": [
    "hyperparam_space={'model__criterion':['gini', 'entropy'],\n",
    "                  'model__max_depth':[3,4,5,6,7],\n",
    "                  'model__max_features':['auto', 'sqrt', 'log2'],\n",
    "                  'model__splitter':['best','random'],\n",
    "                  'model__min_samples_leaf':[1,2,3,4,5],\n",
    "                  'model__min_samples_split':[1,2,3,4,5]\n",
    "                 }"
   ]
  },
  {
   "cell_type": "code",
   "execution_count": 101,
   "metadata": {},
   "outputs": [],
   "source": [
    "skfold=StratifiedKFold(n_splits=5)\n",
    "grid_search=GridSearchCV(\n",
    "    estimator,\n",
    "    param_grid=hyperparam_space,\n",
    "    cv=skfold,\n",
    "    scoring='precision',\n",
    "    n_jobs=-1\n",
    ")"
   ]
  },
  {
   "cell_type": "code",
   "execution_count": 102,
   "metadata": {},
   "outputs": [
    {
     "data": {
      "text/plain": [
       "GridSearchCV(cv=StratifiedKFold(n_splits=5, random_state=None, shuffle=False),\n",
       "             estimator=Pipeline(steps=[('preprocess',\n",
       "                                        ColumnTransformer(remainder='passthrough',\n",
       "                                                          transformers=[('imputer',\n",
       "                                                                         SimpleImputer(strategy='median'),\n",
       "                                                                         ['age']),\n",
       "                                                                        ('One '\n",
       "                                                                         'Hot',\n",
       "                                                                         Pipeline(steps=[('mod',\n",
       "                                                                                          SimpleImputer(strategy='most_frequent')),\n",
       "                                                                                         ('OH',\n",
       "                                                                                          OneHotEncoder(drop='first'))]),\n",
       "                                                                         ['sex',\n",
       "                                                                          'emba...\n",
       "                                       ('model',\n",
       "                                        DecisionTreeClassifier(criterion='entropy',\n",
       "                                                               max_depth=5,\n",
       "                                                               random_state=2020))]),\n",
       "             n_jobs=-1,\n",
       "             param_grid={'model__criterion': ['gini', 'entropy'],\n",
       "                         'model__max_depth': [3, 4, 5, 6, 7],\n",
       "                         'model__max_features': ['auto', 'sqrt', 'log2'],\n",
       "                         'model__min_samples_leaf': [1, 2, 3, 4, 5],\n",
       "                         'model__min_samples_split': [1, 2, 3, 4, 5],\n",
       "                         'model__splitter': ['best', 'random']},\n",
       "             scoring='precision')"
      ]
     },
     "execution_count": 102,
     "metadata": {},
     "output_type": "execute_result"
    }
   ],
   "source": [
    "grid_search.fit(x_train, y_train)"
   ]
  },
  {
   "cell_type": "code",
   "execution_count": 114,
   "metadata": {},
   "outputs": [
    {
     "name": "stdout",
     "output_type": "stream",
     "text": [
      "best score: 0.8930412436225528\n",
      "best parameters: {'model__criterion': 'gini', 'model__max_depth': 3, 'model__max_features': 'log2', 'model__min_samples_leaf': 1, 'model__min_samples_split': 2, 'model__splitter': 'random'}\n"
     ]
    }
   ],
   "source": [
    "print('best score:',grid_search.best_score_)\n",
    "print('best parameters:',grid_search.best_params_)"
   ]
  },
  {
   "cell_type": "markdown",
   "metadata": {},
   "source": [
    "## perbandingan before vs after tuning"
   ]
  },
  {
   "cell_type": "code",
   "execution_count": 130,
   "metadata": {},
   "outputs": [],
   "source": [
    "from sklearn.metrics import precision_score"
   ]
  },
  {
   "cell_type": "markdown",
   "metadata": {},
   "source": [
    "#### before tuning"
   ]
  },
  {
   "cell_type": "code",
   "execution_count": 127,
   "metadata": {
    "scrolled": true
   },
   "outputs": [
    {
     "data": {
      "text/plain": [
       "Pipeline(steps=[('preprocess',\n",
       "                 ColumnTransformer(remainder='passthrough',\n",
       "                                   transformers=[('imputer',\n",
       "                                                  SimpleImputer(strategy='median'),\n",
       "                                                  ['age']),\n",
       "                                                 ('One Hot',\n",
       "                                                  Pipeline(steps=[('mod',\n",
       "                                                                   SimpleImputer(strategy='most_frequent')),\n",
       "                                                                  ('OH',\n",
       "                                                                   OneHotEncoder(drop='first'))]),\n",
       "                                                  ['sex', 'embark_town',\n",
       "                                                   'alone']),\n",
       "                                                 ('ordinal',\n",
       "                                                  OrdinalEncoder(mapping=[{'col': 'class',\n",
       "                                                                           'mapping': {None: 0,\n",
       "                                                                                       'First': 1,\n",
       "                                                                                       'Second': 2,\n",
       "                                                                                       'Third': 3}}]),\n",
       "                                                  ['class'])])),\n",
       "                ('model',\n",
       "                 DecisionTreeClassifier(criterion='entropy', max_depth=5,\n",
       "                                        random_state=2020))])"
      ]
     },
     "execution_count": 127,
     "metadata": {},
     "output_type": "execute_result"
    }
   ],
   "source": [
    "tree=DecisionTreeClassifier(criterion='entropy', max_depth=5, random_state=2020)\n",
    "estimator=Pipeline([\n",
    "        ('preprocess',transformer),\n",
    "        ('model',tree)\n",
    "])\n",
    "estimator.fit(x_train, y_train)"
   ]
  },
  {
   "cell_type": "code",
   "execution_count": 128,
   "metadata": {
    "scrolled": true
   },
   "outputs": [
    {
     "name": "stdout",
     "output_type": "stream",
     "text": [
      "              precision    recall  f1-score   support\n",
      "\n",
      "           0       0.76      0.94      0.84       110\n",
      "           1       0.84      0.54      0.65        69\n",
      "\n",
      "    accuracy                           0.78       179\n",
      "   macro avg       0.80      0.74      0.75       179\n",
      "weighted avg       0.79      0.78      0.77       179\n",
      "\n"
     ]
    }
   ],
   "source": [
    "y_predBef=estimator.predict(x_test)\n",
    "print(classification_report(y_test,y_predBef))"
   ]
  },
  {
   "cell_type": "code",
   "execution_count": 131,
   "metadata": {},
   "outputs": [
    {
     "name": "stdout",
     "output_type": "stream",
     "text": [
      "before tuning: 0.8409090909090909\n"
     ]
    }
   ],
   "source": [
    "before=precision_score(y_test, y_predBef)\n",
    "print('before tuning:',before)"
   ]
  },
  {
   "cell_type": "markdown",
   "metadata": {},
   "source": [
    "#### after tuning"
   ]
  },
  {
   "cell_type": "code",
   "execution_count": 132,
   "metadata": {
    "scrolled": false
   },
   "outputs": [
    {
     "data": {
      "text/plain": [
       "Pipeline(steps=[('preprocess',\n",
       "                 ColumnTransformer(remainder='passthrough',\n",
       "                                   transformers=[('imputer',\n",
       "                                                  SimpleImputer(strategy='median'),\n",
       "                                                  ['age']),\n",
       "                                                 ('One Hot',\n",
       "                                                  Pipeline(steps=[('mod',\n",
       "                                                                   SimpleImputer(strategy='most_frequent')),\n",
       "                                                                  ('OH',\n",
       "                                                                   OneHotEncoder(drop='first'))]),\n",
       "                                                  ['sex', 'embark_town',\n",
       "                                                   'alone']),\n",
       "                                                 ('ordinal',\n",
       "                                                  OrdinalEncoder(mapping=[{'col': 'class',\n",
       "                                                                           'mapping': {None: 0,\n",
       "                                                                                       'First': 1,\n",
       "                                                                                       'Second': 2,\n",
       "                                                                                       'Third': 3}}]),\n",
       "                                                  ['class'])])),\n",
       "                ('model',\n",
       "                 DecisionTreeClassifier(max_depth=3, max_features='log2',\n",
       "                                        random_state=2020,\n",
       "                                        splitter='random'))])"
      ]
     },
     "execution_count": 132,
     "metadata": {},
     "output_type": "execute_result"
    }
   ],
   "source": [
    "best_model=grid_search.best_estimator_\n",
    "best_model.fit(x_train, y_train)"
   ]
  },
  {
   "cell_type": "code",
   "execution_count": 133,
   "metadata": {},
   "outputs": [],
   "source": [
    "y_predAf=best_model.predict(x_test)"
   ]
  },
  {
   "cell_type": "code",
   "execution_count": 134,
   "metadata": {
    "scrolled": true
   },
   "outputs": [
    {
     "name": "stdout",
     "output_type": "stream",
     "text": [
      "              precision    recall  f1-score   support\n",
      "\n",
      "           0       0.74      0.97      0.84       110\n",
      "           1       0.91      0.46      0.62        69\n",
      "\n",
      "    accuracy                           0.78       179\n",
      "   macro avg       0.83      0.72      0.73       179\n",
      "weighted avg       0.81      0.78      0.75       179\n",
      "\n"
     ]
    }
   ],
   "source": [
    "print(classification_report(y_test, y_predAf))"
   ]
  },
  {
   "cell_type": "code",
   "execution_count": 135,
   "metadata": {},
   "outputs": [
    {
     "name": "stdout",
     "output_type": "stream",
     "text": [
      "after tuning: 0.9142857142857143\n"
     ]
    }
   ],
   "source": [
    "after=precision_score(y_test, y_predAf)\n",
    "print('after tuning:',after)"
   ]
  },
  {
   "cell_type": "markdown",
   "metadata": {},
   "source": [
    "### Kesimpulan"
   ]
  },
  {
   "cell_type": "code",
   "execution_count": 136,
   "metadata": {},
   "outputs": [
    {
     "data": {
      "text/html": [
       "<div>\n",
       "<style scoped>\n",
       "    .dataframe tbody tr th:only-of-type {\n",
       "        vertical-align: middle;\n",
       "    }\n",
       "\n",
       "    .dataframe tbody tr th {\n",
       "        vertical-align: top;\n",
       "    }\n",
       "\n",
       "    .dataframe thead th {\n",
       "        text-align: right;\n",
       "    }\n",
       "</style>\n",
       "<table border=\"1\" class=\"dataframe\">\n",
       "  <thead>\n",
       "    <tr style=\"text-align: right;\">\n",
       "      <th></th>\n",
       "      <th>tuning</th>\n",
       "      <th>score</th>\n",
       "    </tr>\n",
       "  </thead>\n",
       "  <tbody>\n",
       "    <tr>\n",
       "      <th>0</th>\n",
       "      <td>before</td>\n",
       "      <td>0.840909</td>\n",
       "    </tr>\n",
       "    <tr>\n",
       "      <th>1</th>\n",
       "      <td>after</td>\n",
       "      <td>0.914286</td>\n",
       "    </tr>\n",
       "  </tbody>\n",
       "</table>\n",
       "</div>"
      ],
      "text/plain": [
       "   tuning     score\n",
       "0  before  0.840909\n",
       "1   after  0.914286"
      ]
     },
     "execution_count": 136,
     "metadata": {},
     "output_type": "execute_result"
    }
   ],
   "source": [
    "pd.DataFrame({\n",
    "    'tuning':['before','after'],\n",
    "    'score':[before,after]\n",
    "})"
   ]
  },
  {
   "cell_type": "markdown",
   "metadata": {},
   "source": [
    "> setelah dilakukan tuning, performa model mengalami peningkatan performa sebesar 7.3377%"
   ]
  },
  {
   "cell_type": "code",
   "execution_count": null,
   "metadata": {},
   "outputs": [],
   "source": []
  }
 ],
 "metadata": {
  "kernelspec": {
   "display_name": "Python 3",
   "language": "python",
   "name": "python3"
  },
  "language_info": {
   "codemirror_mode": {
    "name": "ipython",
    "version": 3
   },
   "file_extension": ".py",
   "mimetype": "text/x-python",
   "name": "python",
   "nbconvert_exporter": "python",
   "pygments_lexer": "ipython3",
   "version": "3.8.5"
  }
 },
 "nbformat": 4,
 "nbformat_minor": 4
}
