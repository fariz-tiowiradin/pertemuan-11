{
 "cells": [
  {
   "cell_type": "markdown",
   "metadata": {},
   "source": [
    "# 1 KNN Classifier"
   ]
  },
  {
   "cell_type": "markdown",
   "metadata": {},
   "source": [
    "Analyze data white_wine.csv\n",
    "- Apply KNN Method (k = 3)\n",
    "- target : quality (quality >6 → Y = 1)\n",
    "- features : density alcohol\n",
    "- Validate the model using accuracy in 20% testing data\n",
    "- Apply scaling and Validate the model using accuracy in 20% testing data\n",
    "- Apply scaling Choose Factor K based on accuracy:\n",
    "- K = (1, 3, 5,.., 29)\n",
    "\n",
    "\n",
    "\n",
    "\n"
   ]
  },
  {
   "cell_type": "code",
   "execution_count": 15,
   "metadata": {},
   "outputs": [],
   "source": [
    "import pandas as pd\n",
    "import seaborn as sns\n",
    "from sklearn.model_selection import train_test_split\n",
    "from sklearn.metrics import accuracy_score\n",
    "import numpy as np"
   ]
  },
  {
   "cell_type": "markdown",
   "metadata": {},
   "source": [
    "## 1.1 Data"
   ]
  },
  {
   "cell_type": "code",
   "execution_count": 4,
   "metadata": {},
   "outputs": [],
   "source": [
    "wine=pd.read_csv('white_wine.csv')"
   ]
  },
  {
   "cell_type": "code",
   "execution_count": 5,
   "metadata": {},
   "outputs": [
    {
     "data": {
      "text/html": [
       "<div>\n",
       "<style scoped>\n",
       "    .dataframe tbody tr th:only-of-type {\n",
       "        vertical-align: middle;\n",
       "    }\n",
       "\n",
       "    .dataframe tbody tr th {\n",
       "        vertical-align: top;\n",
       "    }\n",
       "\n",
       "    .dataframe thead th {\n",
       "        text-align: right;\n",
       "    }\n",
       "</style>\n",
       "<table border=\"1\" class=\"dataframe\">\n",
       "  <thead>\n",
       "    <tr style=\"text-align: right;\">\n",
       "      <th></th>\n",
       "      <th>fixed acidity</th>\n",
       "      <th>volatile acidity</th>\n",
       "      <th>citric acid</th>\n",
       "      <th>residual sugar</th>\n",
       "      <th>chlorides</th>\n",
       "      <th>free sulfur dioxide</th>\n",
       "      <th>total sulfur dioxide</th>\n",
       "      <th>density</th>\n",
       "      <th>pH</th>\n",
       "      <th>sulphates</th>\n",
       "      <th>alcohol</th>\n",
       "      <th>quality</th>\n",
       "    </tr>\n",
       "  </thead>\n",
       "  <tbody>\n",
       "    <tr>\n",
       "      <th>0</th>\n",
       "      <td>7.0</td>\n",
       "      <td>0.27</td>\n",
       "      <td>0.36</td>\n",
       "      <td>20.7</td>\n",
       "      <td>0.045</td>\n",
       "      <td>45.0</td>\n",
       "      <td>170.0</td>\n",
       "      <td>1.0010</td>\n",
       "      <td>3.00</td>\n",
       "      <td>0.45</td>\n",
       "      <td>8.8</td>\n",
       "      <td>6.0</td>\n",
       "    </tr>\n",
       "    <tr>\n",
       "      <th>1</th>\n",
       "      <td>6.3</td>\n",
       "      <td>0.30</td>\n",
       "      <td>0.34</td>\n",
       "      <td>1.6</td>\n",
       "      <td>0.049</td>\n",
       "      <td>14.0</td>\n",
       "      <td>132.0</td>\n",
       "      <td>0.9940</td>\n",
       "      <td>3.30</td>\n",
       "      <td>0.49</td>\n",
       "      <td>9.5</td>\n",
       "      <td>6.0</td>\n",
       "    </tr>\n",
       "    <tr>\n",
       "      <th>2</th>\n",
       "      <td>8.1</td>\n",
       "      <td>0.28</td>\n",
       "      <td>0.40</td>\n",
       "      <td>6.9</td>\n",
       "      <td>0.050</td>\n",
       "      <td>30.0</td>\n",
       "      <td>97.0</td>\n",
       "      <td>0.9951</td>\n",
       "      <td>3.26</td>\n",
       "      <td>0.44</td>\n",
       "      <td>10.1</td>\n",
       "      <td>6.0</td>\n",
       "    </tr>\n",
       "    <tr>\n",
       "      <th>3</th>\n",
       "      <td>7.2</td>\n",
       "      <td>0.23</td>\n",
       "      <td>0.32</td>\n",
       "      <td>8.5</td>\n",
       "      <td>0.058</td>\n",
       "      <td>47.0</td>\n",
       "      <td>186.0</td>\n",
       "      <td>0.9956</td>\n",
       "      <td>3.19</td>\n",
       "      <td>0.40</td>\n",
       "      <td>9.9</td>\n",
       "      <td>6.0</td>\n",
       "    </tr>\n",
       "    <tr>\n",
       "      <th>4</th>\n",
       "      <td>7.2</td>\n",
       "      <td>0.23</td>\n",
       "      <td>0.32</td>\n",
       "      <td>8.5</td>\n",
       "      <td>0.058</td>\n",
       "      <td>47.0</td>\n",
       "      <td>186.0</td>\n",
       "      <td>0.9956</td>\n",
       "      <td>3.19</td>\n",
       "      <td>0.40</td>\n",
       "      <td>9.9</td>\n",
       "      <td>6.0</td>\n",
       "    </tr>\n",
       "    <tr>\n",
       "      <th>...</th>\n",
       "      <td>...</td>\n",
       "      <td>...</td>\n",
       "      <td>...</td>\n",
       "      <td>...</td>\n",
       "      <td>...</td>\n",
       "      <td>...</td>\n",
       "      <td>...</td>\n",
       "      <td>...</td>\n",
       "      <td>...</td>\n",
       "      <td>...</td>\n",
       "      <td>...</td>\n",
       "      <td>...</td>\n",
       "    </tr>\n",
       "    <tr>\n",
       "      <th>515</th>\n",
       "      <td>6.1</td>\n",
       "      <td>0.31</td>\n",
       "      <td>0.26</td>\n",
       "      <td>2.2</td>\n",
       "      <td>0.051</td>\n",
       "      <td>28.0</td>\n",
       "      <td>167.0</td>\n",
       "      <td>0.9926</td>\n",
       "      <td>3.37</td>\n",
       "      <td>0.47</td>\n",
       "      <td>10.4</td>\n",
       "      <td>6.0</td>\n",
       "    </tr>\n",
       "    <tr>\n",
       "      <th>516</th>\n",
       "      <td>6.8</td>\n",
       "      <td>0.18</td>\n",
       "      <td>0.37</td>\n",
       "      <td>1.6</td>\n",
       "      <td>0.055</td>\n",
       "      <td>47.0</td>\n",
       "      <td>154.0</td>\n",
       "      <td>0.9934</td>\n",
       "      <td>3.08</td>\n",
       "      <td>0.45</td>\n",
       "      <td>9.1</td>\n",
       "      <td>5.0</td>\n",
       "    </tr>\n",
       "    <tr>\n",
       "      <th>517</th>\n",
       "      <td>7.4</td>\n",
       "      <td>0.15</td>\n",
       "      <td>0.42</td>\n",
       "      <td>1.7</td>\n",
       "      <td>0.045</td>\n",
       "      <td>49.0</td>\n",
       "      <td>154.0</td>\n",
       "      <td>0.9920</td>\n",
       "      <td>3.00</td>\n",
       "      <td>0.60</td>\n",
       "      <td>10.4</td>\n",
       "      <td>6.0</td>\n",
       "    </tr>\n",
       "    <tr>\n",
       "      <th>518</th>\n",
       "      <td>5.9</td>\n",
       "      <td>0.13</td>\n",
       "      <td>0.28</td>\n",
       "      <td>1.9</td>\n",
       "      <td>0.050</td>\n",
       "      <td>20.0</td>\n",
       "      <td>78.0</td>\n",
       "      <td>0.9918</td>\n",
       "      <td>3.43</td>\n",
       "      <td>0.64</td>\n",
       "      <td>10.8</td>\n",
       "      <td>6.0</td>\n",
       "    </tr>\n",
       "    <tr>\n",
       "      <th>519</th>\n",
       "      <td>7.2</td>\n",
       "      <td>0.34</td>\n",
       "      <td>0.34</td>\n",
       "      <td>12.6</td>\n",
       "      <td>0.048</td>\n",
       "      <td>7.0</td>\n",
       "      <td>41.0</td>\n",
       "      <td>0.9940</td>\n",
       "      <td>NaN</td>\n",
       "      <td>NaN</td>\n",
       "      <td>NaN</td>\n",
       "      <td>NaN</td>\n",
       "    </tr>\n",
       "  </tbody>\n",
       "</table>\n",
       "<p>520 rows × 12 columns</p>\n",
       "</div>"
      ],
      "text/plain": [
       "     fixed acidity  volatile acidity  citric acid  residual sugar  chlorides  \\\n",
       "0              7.0              0.27         0.36            20.7      0.045   \n",
       "1              6.3              0.30         0.34             1.6      0.049   \n",
       "2              8.1              0.28         0.40             6.9      0.050   \n",
       "3              7.2              0.23         0.32             8.5      0.058   \n",
       "4              7.2              0.23         0.32             8.5      0.058   \n",
       "..             ...               ...          ...             ...        ...   \n",
       "515            6.1              0.31         0.26             2.2      0.051   \n",
       "516            6.8              0.18         0.37             1.6      0.055   \n",
       "517            7.4              0.15         0.42             1.7      0.045   \n",
       "518            5.9              0.13         0.28             1.9      0.050   \n",
       "519            7.2              0.34         0.34            12.6      0.048   \n",
       "\n",
       "     free sulfur dioxide  total sulfur dioxide  density    pH  sulphates  \\\n",
       "0                   45.0                 170.0   1.0010  3.00       0.45   \n",
       "1                   14.0                 132.0   0.9940  3.30       0.49   \n",
       "2                   30.0                  97.0   0.9951  3.26       0.44   \n",
       "3                   47.0                 186.0   0.9956  3.19       0.40   \n",
       "4                   47.0                 186.0   0.9956  3.19       0.40   \n",
       "..                   ...                   ...      ...   ...        ...   \n",
       "515                 28.0                 167.0   0.9926  3.37       0.47   \n",
       "516                 47.0                 154.0   0.9934  3.08       0.45   \n",
       "517                 49.0                 154.0   0.9920  3.00       0.60   \n",
       "518                 20.0                  78.0   0.9918  3.43       0.64   \n",
       "519                  7.0                  41.0   0.9940   NaN        NaN   \n",
       "\n",
       "     alcohol  quality  \n",
       "0        8.8      6.0  \n",
       "1        9.5      6.0  \n",
       "2       10.1      6.0  \n",
       "3        9.9      6.0  \n",
       "4        9.9      6.0  \n",
       "..       ...      ...  \n",
       "515     10.4      6.0  \n",
       "516      9.1      5.0  \n",
       "517     10.4      6.0  \n",
       "518     10.8      6.0  \n",
       "519      NaN      NaN  \n",
       "\n",
       "[520 rows x 12 columns]"
      ]
     },
     "execution_count": 5,
     "metadata": {},
     "output_type": "execute_result"
    }
   ],
   "source": [
    "wine"
   ]
  },
  {
   "cell_type": "code",
   "execution_count": 6,
   "metadata": {},
   "outputs": [],
   "source": [
    "wine['label']=np.where(wine['quality']>6,1,0)"
   ]
  },
  {
   "cell_type": "code",
   "execution_count": 7,
   "metadata": {},
   "outputs": [
    {
     "data": {
      "text/html": [
       "<div>\n",
       "<style scoped>\n",
       "    .dataframe tbody tr th:only-of-type {\n",
       "        vertical-align: middle;\n",
       "    }\n",
       "\n",
       "    .dataframe tbody tr th {\n",
       "        vertical-align: top;\n",
       "    }\n",
       "\n",
       "    .dataframe thead th {\n",
       "        text-align: right;\n",
       "    }\n",
       "</style>\n",
       "<table border=\"1\" class=\"dataframe\">\n",
       "  <thead>\n",
       "    <tr style=\"text-align: right;\">\n",
       "      <th></th>\n",
       "      <th>fixed acidity</th>\n",
       "      <th>volatile acidity</th>\n",
       "      <th>citric acid</th>\n",
       "      <th>residual sugar</th>\n",
       "      <th>chlorides</th>\n",
       "      <th>free sulfur dioxide</th>\n",
       "      <th>total sulfur dioxide</th>\n",
       "      <th>density</th>\n",
       "      <th>pH</th>\n",
       "      <th>sulphates</th>\n",
       "      <th>alcohol</th>\n",
       "      <th>quality</th>\n",
       "      <th>label</th>\n",
       "    </tr>\n",
       "  </thead>\n",
       "  <tbody>\n",
       "    <tr>\n",
       "      <th>0</th>\n",
       "      <td>7.0</td>\n",
       "      <td>0.27</td>\n",
       "      <td>0.36</td>\n",
       "      <td>20.7</td>\n",
       "      <td>0.045</td>\n",
       "      <td>45.0</td>\n",
       "      <td>170.0</td>\n",
       "      <td>1.0010</td>\n",
       "      <td>3.00</td>\n",
       "      <td>0.45</td>\n",
       "      <td>8.8</td>\n",
       "      <td>6.0</td>\n",
       "      <td>0</td>\n",
       "    </tr>\n",
       "    <tr>\n",
       "      <th>1</th>\n",
       "      <td>6.3</td>\n",
       "      <td>0.30</td>\n",
       "      <td>0.34</td>\n",
       "      <td>1.6</td>\n",
       "      <td>0.049</td>\n",
       "      <td>14.0</td>\n",
       "      <td>132.0</td>\n",
       "      <td>0.9940</td>\n",
       "      <td>3.30</td>\n",
       "      <td>0.49</td>\n",
       "      <td>9.5</td>\n",
       "      <td>6.0</td>\n",
       "      <td>0</td>\n",
       "    </tr>\n",
       "    <tr>\n",
       "      <th>2</th>\n",
       "      <td>8.1</td>\n",
       "      <td>0.28</td>\n",
       "      <td>0.40</td>\n",
       "      <td>6.9</td>\n",
       "      <td>0.050</td>\n",
       "      <td>30.0</td>\n",
       "      <td>97.0</td>\n",
       "      <td>0.9951</td>\n",
       "      <td>3.26</td>\n",
       "      <td>0.44</td>\n",
       "      <td>10.1</td>\n",
       "      <td>6.0</td>\n",
       "      <td>0</td>\n",
       "    </tr>\n",
       "    <tr>\n",
       "      <th>3</th>\n",
       "      <td>7.2</td>\n",
       "      <td>0.23</td>\n",
       "      <td>0.32</td>\n",
       "      <td>8.5</td>\n",
       "      <td>0.058</td>\n",
       "      <td>47.0</td>\n",
       "      <td>186.0</td>\n",
       "      <td>0.9956</td>\n",
       "      <td>3.19</td>\n",
       "      <td>0.40</td>\n",
       "      <td>9.9</td>\n",
       "      <td>6.0</td>\n",
       "      <td>0</td>\n",
       "    </tr>\n",
       "    <tr>\n",
       "      <th>4</th>\n",
       "      <td>7.2</td>\n",
       "      <td>0.23</td>\n",
       "      <td>0.32</td>\n",
       "      <td>8.5</td>\n",
       "      <td>0.058</td>\n",
       "      <td>47.0</td>\n",
       "      <td>186.0</td>\n",
       "      <td>0.9956</td>\n",
       "      <td>3.19</td>\n",
       "      <td>0.40</td>\n",
       "      <td>9.9</td>\n",
       "      <td>6.0</td>\n",
       "      <td>0</td>\n",
       "    </tr>\n",
       "    <tr>\n",
       "      <th>...</th>\n",
       "      <td>...</td>\n",
       "      <td>...</td>\n",
       "      <td>...</td>\n",
       "      <td>...</td>\n",
       "      <td>...</td>\n",
       "      <td>...</td>\n",
       "      <td>...</td>\n",
       "      <td>...</td>\n",
       "      <td>...</td>\n",
       "      <td>...</td>\n",
       "      <td>...</td>\n",
       "      <td>...</td>\n",
       "      <td>...</td>\n",
       "    </tr>\n",
       "    <tr>\n",
       "      <th>515</th>\n",
       "      <td>6.1</td>\n",
       "      <td>0.31</td>\n",
       "      <td>0.26</td>\n",
       "      <td>2.2</td>\n",
       "      <td>0.051</td>\n",
       "      <td>28.0</td>\n",
       "      <td>167.0</td>\n",
       "      <td>0.9926</td>\n",
       "      <td>3.37</td>\n",
       "      <td>0.47</td>\n",
       "      <td>10.4</td>\n",
       "      <td>6.0</td>\n",
       "      <td>0</td>\n",
       "    </tr>\n",
       "    <tr>\n",
       "      <th>516</th>\n",
       "      <td>6.8</td>\n",
       "      <td>0.18</td>\n",
       "      <td>0.37</td>\n",
       "      <td>1.6</td>\n",
       "      <td>0.055</td>\n",
       "      <td>47.0</td>\n",
       "      <td>154.0</td>\n",
       "      <td>0.9934</td>\n",
       "      <td>3.08</td>\n",
       "      <td>0.45</td>\n",
       "      <td>9.1</td>\n",
       "      <td>5.0</td>\n",
       "      <td>0</td>\n",
       "    </tr>\n",
       "    <tr>\n",
       "      <th>517</th>\n",
       "      <td>7.4</td>\n",
       "      <td>0.15</td>\n",
       "      <td>0.42</td>\n",
       "      <td>1.7</td>\n",
       "      <td>0.045</td>\n",
       "      <td>49.0</td>\n",
       "      <td>154.0</td>\n",
       "      <td>0.9920</td>\n",
       "      <td>3.00</td>\n",
       "      <td>0.60</td>\n",
       "      <td>10.4</td>\n",
       "      <td>6.0</td>\n",
       "      <td>0</td>\n",
       "    </tr>\n",
       "    <tr>\n",
       "      <th>518</th>\n",
       "      <td>5.9</td>\n",
       "      <td>0.13</td>\n",
       "      <td>0.28</td>\n",
       "      <td>1.9</td>\n",
       "      <td>0.050</td>\n",
       "      <td>20.0</td>\n",
       "      <td>78.0</td>\n",
       "      <td>0.9918</td>\n",
       "      <td>3.43</td>\n",
       "      <td>0.64</td>\n",
       "      <td>10.8</td>\n",
       "      <td>6.0</td>\n",
       "      <td>0</td>\n",
       "    </tr>\n",
       "    <tr>\n",
       "      <th>519</th>\n",
       "      <td>7.2</td>\n",
       "      <td>0.34</td>\n",
       "      <td>0.34</td>\n",
       "      <td>12.6</td>\n",
       "      <td>0.048</td>\n",
       "      <td>7.0</td>\n",
       "      <td>41.0</td>\n",
       "      <td>0.9940</td>\n",
       "      <td>NaN</td>\n",
       "      <td>NaN</td>\n",
       "      <td>NaN</td>\n",
       "      <td>NaN</td>\n",
       "      <td>0</td>\n",
       "    </tr>\n",
       "  </tbody>\n",
       "</table>\n",
       "<p>520 rows × 13 columns</p>\n",
       "</div>"
      ],
      "text/plain": [
       "     fixed acidity  volatile acidity  citric acid  residual sugar  chlorides  \\\n",
       "0              7.0              0.27         0.36            20.7      0.045   \n",
       "1              6.3              0.30         0.34             1.6      0.049   \n",
       "2              8.1              0.28         0.40             6.9      0.050   \n",
       "3              7.2              0.23         0.32             8.5      0.058   \n",
       "4              7.2              0.23         0.32             8.5      0.058   \n",
       "..             ...               ...          ...             ...        ...   \n",
       "515            6.1              0.31         0.26             2.2      0.051   \n",
       "516            6.8              0.18         0.37             1.6      0.055   \n",
       "517            7.4              0.15         0.42             1.7      0.045   \n",
       "518            5.9              0.13         0.28             1.9      0.050   \n",
       "519            7.2              0.34         0.34            12.6      0.048   \n",
       "\n",
       "     free sulfur dioxide  total sulfur dioxide  density    pH  sulphates  \\\n",
       "0                   45.0                 170.0   1.0010  3.00       0.45   \n",
       "1                   14.0                 132.0   0.9940  3.30       0.49   \n",
       "2                   30.0                  97.0   0.9951  3.26       0.44   \n",
       "3                   47.0                 186.0   0.9956  3.19       0.40   \n",
       "4                   47.0                 186.0   0.9956  3.19       0.40   \n",
       "..                   ...                   ...      ...   ...        ...   \n",
       "515                 28.0                 167.0   0.9926  3.37       0.47   \n",
       "516                 47.0                 154.0   0.9934  3.08       0.45   \n",
       "517                 49.0                 154.0   0.9920  3.00       0.60   \n",
       "518                 20.0                  78.0   0.9918  3.43       0.64   \n",
       "519                  7.0                  41.0   0.9940   NaN        NaN   \n",
       "\n",
       "     alcohol  quality  label  \n",
       "0        8.8      6.0      0  \n",
       "1        9.5      6.0      0  \n",
       "2       10.1      6.0      0  \n",
       "3        9.9      6.0      0  \n",
       "4        9.9      6.0      0  \n",
       "..       ...      ...    ...  \n",
       "515     10.4      6.0      0  \n",
       "516      9.1      5.0      0  \n",
       "517     10.4      6.0      0  \n",
       "518     10.8      6.0      0  \n",
       "519      NaN      NaN      0  \n",
       "\n",
       "[520 rows x 13 columns]"
      ]
     },
     "execution_count": 7,
     "metadata": {},
     "output_type": "execute_result"
    }
   ],
   "source": [
    "wine"
   ]
  },
  {
   "cell_type": "markdown",
   "metadata": {},
   "source": [
    "## 1.2 EDA"
   ]
  },
  {
   "cell_type": "code",
   "execution_count": 8,
   "metadata": {},
   "outputs": [
    {
     "data": {
      "text/plain": [
       "<AxesSubplot:xlabel='density', ylabel='alcohol'>"
      ]
     },
     "execution_count": 8,
     "metadata": {},
     "output_type": "execute_result"
    },
    {
     "data": {
      "image/png": "[encoded data removed]",
      "text/plain": [
       "<Figure size 432x288 with 1 Axes>"
      ]
     },
     "metadata": {
      "needs_background": "light"
     },
     "output_type": "display_data"
    }
   ],
   "source": [
    "sns.scatterplot(data=wine,x='density', y='alcohol', hue='label')"
   ]
  },
  {
   "cell_type": "code",
   "execution_count": 9,
   "metadata": {},
   "outputs": [
    {
     "data": {
      "text/plain": [
       "fixed acidity           0\n",
       "volatile acidity        0\n",
       "citric acid             0\n",
       "residual sugar          0\n",
       "chlorides               0\n",
       "free sulfur dioxide     0\n",
       "total sulfur dioxide    0\n",
       "density                 0\n",
       "pH                      1\n",
       "sulphates               1\n",
       "alcohol                 1\n",
       "quality                 1\n",
       "label                   0\n",
       "dtype: int64"
      ]
     },
     "execution_count": 9,
     "metadata": {},
     "output_type": "execute_result"
    }
   ],
   "source": [
    "wine.isna().sum()"
   ]
  },
  {
   "cell_type": "code",
   "execution_count": 10,
   "metadata": {},
   "outputs": [],
   "source": [
    "wine['alcohol']=wine['alcohol'].fillna(wine['alcohol'].mean())"
   ]
  },
  {
   "cell_type": "markdown",
   "metadata": {},
   "source": [
    "## 1.3 Splitting Data"
   ]
  },
  {
   "cell_type": "code",
   "execution_count": 11,
   "metadata": {},
   "outputs": [],
   "source": [
    "x=wine[['alcohol','density']]\n",
    "y=wine['label']"
   ]
  },
  {
   "cell_type": "code",
   "execution_count": 12,
   "metadata": {},
   "outputs": [],
   "source": [
    "x_train, x_test, y_train, y_test = train_test_split(\n",
    "    x,\n",
    "    y,\n",
    "    stratify=y,\n",
    "    test_size=0.2,\n",
    "    random_state=2020\n",
    ")"
   ]
  },
  {
   "cell_type": "markdown",
   "metadata": {},
   "source": [
    "## 1.4.1 without scalling"
   ]
  },
  {
   "cell_type": "code",
   "execution_count": 13,
   "metadata": {},
   "outputs": [],
   "source": [
    "from sklearn.neighbors import KNeighborsClassifier"
   ]
  },
  {
   "cell_type": "code",
   "execution_count": 14,
   "metadata": {},
   "outputs": [],
   "source": [
    "knn = KNeighborsClassifier(n_neighbors=3) # define model, defaultnya 5 \n",
    "knn.fit(x_train, y_train) # fitting / traing\n",
    "y_predict=knn.predict(x_test) # prediksi"
   ]
  },
  {
   "cell_type": "code",
   "execution_count": 16,
   "metadata": {},
   "outputs": [
    {
     "name": "stdout",
     "output_type": "stream",
     "text": [
      "Akurasi model KNN di dataset test adalah: 0.9038461538461539\n"
     ]
    }
   ],
   "source": [
    "print('Akurasi model KNN di dataset test adalah:', accuracy_score(y_test, y_predict))"
   ]
  },
  {
   "cell_type": "markdown",
   "metadata": {},
   "source": [
    "## 1.4.2 with scalling"
   ]
  },
  {
   "cell_type": "code",
   "execution_count": 18,
   "metadata": {},
   "outputs": [],
   "source": [
    "from sklearn.preprocessing import MinMaxScaler"
   ]
  },
  {
   "cell_type": "code",
   "execution_count": 19,
   "metadata": {},
   "outputs": [],
   "source": [
    "scaler=MinMaxScaler() # define transformer\n",
    "scaler.fit(x_train) # fitting / training\n",
    "x_train_scaled=scaler.transform(x_train)\n",
    "x_test_scaled=scaler.transform(x_test)"
   ]
  },
  {
   "cell_type": "code",
   "execution_count": 20,
   "metadata": {
    "collapsed": true
   },
   "outputs": [
    {
     "data": {
      "text/html": [
       "<div>\n",
       "<style scoped>\n",
       "    .dataframe tbody tr th:only-of-type {\n",
       "        vertical-align: middle;\n",
       "    }\n",
       "\n",
       "    .dataframe tbody tr th {\n",
       "        vertical-align: top;\n",
       "    }\n",
       "\n",
       "    .dataframe thead th {\n",
       "        text-align: right;\n",
       "    }\n",
       "</style>\n",
       "<table border=\"1\" class=\"dataframe\">\n",
       "  <thead>\n",
       "    <tr style=\"text-align: right;\">\n",
       "      <th></th>\n",
       "      <th>alcohol</th>\n",
       "      <th>density</th>\n",
       "    </tr>\n",
       "  </thead>\n",
       "  <tbody>\n",
       "    <tr>\n",
       "      <th>325</th>\n",
       "      <td>10.5</td>\n",
       "      <td>0.9946</td>\n",
       "    </tr>\n",
       "    <tr>\n",
       "      <th>273</th>\n",
       "      <td>9.0</td>\n",
       "      <td>0.9949</td>\n",
       "    </tr>\n",
       "    <tr>\n",
       "      <th>287</th>\n",
       "      <td>9.0</td>\n",
       "      <td>1.0029</td>\n",
       "    </tr>\n",
       "    <tr>\n",
       "      <th>342</th>\n",
       "      <td>9.1</td>\n",
       "      <td>0.9962</td>\n",
       "    </tr>\n",
       "    <tr>\n",
       "      <th>323</th>\n",
       "      <td>10.4</td>\n",
       "      <td>0.9946</td>\n",
       "    </tr>\n",
       "    <tr>\n",
       "      <th>...</th>\n",
       "      <td>...</td>\n",
       "      <td>...</td>\n",
       "    </tr>\n",
       "    <tr>\n",
       "      <th>382</th>\n",
       "      <td>9.2</td>\n",
       "      <td>0.9969</td>\n",
       "    </tr>\n",
       "    <tr>\n",
       "      <th>426</th>\n",
       "      <td>10.4</td>\n",
       "      <td>0.9954</td>\n",
       "    </tr>\n",
       "    <tr>\n",
       "      <th>489</th>\n",
       "      <td>8.9</td>\n",
       "      <td>0.9962</td>\n",
       "    </tr>\n",
       "    <tr>\n",
       "      <th>311</th>\n",
       "      <td>12.5</td>\n",
       "      <td>0.9968</td>\n",
       "    </tr>\n",
       "    <tr>\n",
       "      <th>255</th>\n",
       "      <td>9.6</td>\n",
       "      <td>0.9985</td>\n",
       "    </tr>\n",
       "  </tbody>\n",
       "</table>\n",
       "<p>416 rows × 2 columns</p>\n",
       "</div>"
      ],
      "text/plain": [
       "     alcohol  density\n",
       "325     10.5   0.9946\n",
       "273      9.0   0.9949\n",
       "287      9.0   1.0029\n",
       "342      9.1   0.9962\n",
       "323     10.4   0.9946\n",
       "..       ...      ...\n",
       "382      9.2   0.9969\n",
       "426     10.4   0.9954\n",
       "489      8.9   0.9962\n",
       "311     12.5   0.9968\n",
       "255      9.6   0.9985\n",
       "\n",
       "[416 rows x 2 columns]"
      ]
     },
     "execution_count": 20,
     "metadata": {},
     "output_type": "execute_result"
    }
   ],
   "source": [
    "x_train"
   ]
  },
  {
   "cell_type": "code",
   "execution_count": 21,
   "metadata": {
    "collapsed": true
   },
   "outputs": [
    {
     "data": {
      "text/plain": [
       "array([[0.45454545, 0.34586466],\n",
       "       [0.11363636, 0.36842105],\n",
       "       [0.11363636, 0.96992481],\n",
       "       [0.13636364, 0.46616541],\n",
       "       [0.43181818, 0.34586466],\n",
       "       [0.15909091, 0.63909774],\n",
       "       [0.56818182, 0.12781955],\n",
       "       [0.34090909, 0.45112782],\n",
       "       [0.09090909, 0.46616541],\n",
       "       [0.52272727, 0.15037594],\n",
       "       [0.09090909, 0.54135338],\n",
       "       [0.29545455, 0.61654135],\n",
       "       [0.43181818, 0.15037594],\n",
       "       [0.20454545, 0.54135338],\n",
       "       [0.45454545, 0.59398496],\n",
       "       [0.09090909, 0.54135338],\n",
       "       [0.45454545, 0.13533835],\n",
       "       [0.45454545, 0.30075188],\n",
       "       [0.22727273, 0.4887218 ],\n",
       "       [0.45454545, 0.28571429],\n",
       "       [0.97727273, 0.03759398],\n",
       "       [0.88636364, 0.36090226],\n",
       "       [0.61363636, 0.42105263],\n",
       "       [0.18181818, 0.63157895],\n",
       "       [0.06818182, 0.63157895],\n",
       "       [0.18181818, 0.54135338],\n",
       "       [0.79545455, 0.05263158],\n",
       "       [0.18181818, 0.58646617],\n",
       "       [0.13636364, 0.53383459],\n",
       "       [0.31818182, 0.36842105],\n",
       "       [0.22727273, 0.4962406 ],\n",
       "       [0.27272727, 0.22556391],\n",
       "       [0.47727273, 0.11278195],\n",
       "       [0.18181818, 0.62406015],\n",
       "       [0.47727273, 0.20300752],\n",
       "       [0.25      , 0.69172932],\n",
       "       [0.27272727, 0.54135338],\n",
       "       [0.38636364, 0.18045113],\n",
       "       [0.15909091, 0.30075188],\n",
       "       [0.15909091, 0.61654135],\n",
       "       [0.11363636, 0.29323308],\n",
       "       [0.20454545, 0.55639098],\n",
       "       [0.75      , 0.08270677],\n",
       "       [0.93181818, 0.37593985],\n",
       "       [0.34090909, 0.30827068],\n",
       "       [0.36363636, 0.38345865],\n",
       "       [0.29545455, 0.80451128],\n",
       "       [0.54545455, 0.41353383],\n",
       "       [0.13636364, 0.53383459],\n",
       "       [0.34090909, 0.38345865],\n",
       "       [0.40909091, 0.17293233],\n",
       "       [0.18181818, 0.61654135],\n",
       "       [0.54545455, 0.18045113],\n",
       "       [0.95454545, 0.36090226],\n",
       "       [0.20454545, 0.2406015 ],\n",
       "       [0.63636364, 0.10526316],\n",
       "       [0.13636364, 0.27067669],\n",
       "       [0.90909091, 0.09774436],\n",
       "       [0.47727273, 0.30075188],\n",
       "       [0.59090909, 0.46616541],\n",
       "       [0.20454545, 0.57142857],\n",
       "       [0.11363636, 0.42857143],\n",
       "       [0.25      , 0.58646617],\n",
       "       [0.38636364, 0.5112782 ],\n",
       "       [0.47727273, 0.60902256],\n",
       "       [0.34090909, 0.55639098],\n",
       "       [0.5       , 0.57142857],\n",
       "       [0.25      , 0.60150376],\n",
       "       [0.93181818, 0.13533835],\n",
       "       [0.43181818, 0.40601504],\n",
       "       [0.54545455, 0.08270677],\n",
       "       [0.13636364, 0.31578947],\n",
       "       [0.34090909, 0.2556391 ],\n",
       "       [0.56818182, 0.28571429],\n",
       "       [0.22727273, 0.22556391],\n",
       "       [0.15909091, 0.51879699],\n",
       "       [0.20454545, 0.66917293],\n",
       "       [0.45454545, 0.21804511],\n",
       "       [0.43181818, 0.15037594],\n",
       "       [0.90909091, 0.03007519],\n",
       "       [0.31818182, 0.5112782 ],\n",
       "       [0.11363636, 0.96992481],\n",
       "       [0.11363636, 0.59398496],\n",
       "       [0.15909091, 0.4887218 ],\n",
       "       [0.11363636, 0.42105263],\n",
       "       [0.18181818, 0.54135338],\n",
       "       [0.22727273, 0.30075188],\n",
       "       [0.56818182, 0.57894737],\n",
       "       [0.47727273, 0.26315789],\n",
       "       [0.31818182, 0.63157895],\n",
       "       [0.18181818, 1.        ],\n",
       "       [0.20454545, 0.28571429],\n",
       "       [0.13636364, 0.2556391 ],\n",
       "       [0.31818182, 0.37593985],\n",
       "       [0.43181818, 0.21052632],\n",
       "       [0.11363636, 0.85714286],\n",
       "       [0.93181818, 0.07518797],\n",
       "       [0.86363636, 0.42105263],\n",
       "       [0.56818182, 0.09022556],\n",
       "       [0.04545455, 0.73684211],\n",
       "       [0.25      , 0.31578947],\n",
       "       [0.36363636, 0.15789474],\n",
       "       [0.70454545, 0.30827068],\n",
       "       [0.02272727, 0.57142857],\n",
       "       [0.15909091, 0.27067669],\n",
       "       [0.11363636, 0.58646617],\n",
       "       [0.25      , 0.54135338],\n",
       "       [0.95454545, 0.42105263],\n",
       "       [0.34090909, 0.15037594],\n",
       "       [0.93181818, 0.39849624],\n",
       "       [0.22727273, 0.30075188],\n",
       "       [0.27272727, 0.81203008],\n",
       "       [0.04545455, 0.23308271],\n",
       "       [0.68181818, 0.5112782 ],\n",
       "       [0.20454545, 0.45864662],\n",
       "       [0.88636364, 0.42105263],\n",
       "       [0.27272727, 0.35338346],\n",
       "       [0.13636364, 0.56390977],\n",
       "       [0.04545455, 0.56390977],\n",
       "       [0.65909091, 0.05263158],\n",
       "       [0.43181818, 0.51879699],\n",
       "       [0.25      , 0.56390977],\n",
       "       [0.34090909, 0.36090226],\n",
       "       [0.29545455, 0.29323308],\n",
       "       [0.13636364, 0.30827068],\n",
       "       [0.20454545, 0.30075188],\n",
       "       [0.18181818, 0.2406015 ],\n",
       "       [0.43181818, 0.40601504],\n",
       "       [0.34090909, 0.27819549],\n",
       "       [0.34090909, 0.60150376],\n",
       "       [0.11363636, 0.7443609 ],\n",
       "       [0.38636364, 0.67669173],\n",
       "       [0.31818182, 0.42105263],\n",
       "       [0.52272727, 0.15037594],\n",
       "       [0.18181818, 0.56390977],\n",
       "       [0.31818182, 0.36842105],\n",
       "       [0.27272727, 0.33082707],\n",
       "       [0.20454545, 0.20300752],\n",
       "       [0.72727273, 0.12781955],\n",
       "       [0.34090909, 0.57142857],\n",
       "       [0.25      , 0.36842105],\n",
       "       [0.93181818, 0.37593985],\n",
       "       [0.36363636, 0.2556391 ],\n",
       "       [0.38636364, 0.2556391 ],\n",
       "       [0.25      , 0.70676692],\n",
       "       [0.29545455, 0.37593985],\n",
       "       [0.18181818, 0.54135338],\n",
       "       [0.11363636, 0.59398496],\n",
       "       [0.38636364, 0.23308271],\n",
       "       [0.27272727, 0.28571429],\n",
       "       [0.27272727, 0.30075188],\n",
       "       [0.18181818, 0.5112782 ],\n",
       "       [0.93181818, 0.34586466],\n",
       "       [0.11363636, 0.36842105],\n",
       "       [0.04545455, 0.56390977],\n",
       "       [0.65909091, 0.03007519],\n",
       "       [0.11363636, 0.59398496],\n",
       "       [0.61363636, 0.11278195],\n",
       "       [0.65909091, 0.12781955],\n",
       "       [0.13636364, 0.51879699],\n",
       "       [0.15909091, 0.61654135],\n",
       "       [0.43181818, 0.57894737],\n",
       "       [0.52272727, 0.10526316],\n",
       "       [0.84090909, 0.        ],\n",
       "       [0.04545455, 0.57142857],\n",
       "       [0.15909091, 0.27067669],\n",
       "       [0.31818182, 0.42105263],\n",
       "       [0.93181818, 0.36842105],\n",
       "       [0.81818182, 0.33082707],\n",
       "       [0.3680592 , 0.30075188],\n",
       "       [0.43181818, 0.33834586],\n",
       "       [0.84090909, 0.52631579],\n",
       "       [0.5       , 0.57142857],\n",
       "       [0.52272727, 0.10526316],\n",
       "       [0.56818182, 0.06015038],\n",
       "       [0.        , 0.5112782 ],\n",
       "       [0.29545455, 0.40601504],\n",
       "       [0.56818182, 0.28571429],\n",
       "       [0.13636364, 0.5112782 ],\n",
       "       [0.59090909, 0.46616541],\n",
       "       [0.45454545, 0.55639098],\n",
       "       [0.11363636, 0.38345865],\n",
       "       [0.45454545, 0.15037594],\n",
       "       [0.75      , 0.09022556],\n",
       "       [0.40909091, 0.20300752],\n",
       "       [0.40909091, 0.15037594],\n",
       "       [0.22727273, 0.46616541],\n",
       "       [0.56818182, 0.46616541],\n",
       "       [0.95454545, 0.04511278],\n",
       "       [0.93181818, 0.37593985],\n",
       "       [0.09090909, 0.60150376],\n",
       "       [0.38636364, 0.42857143],\n",
       "       [0.45454545, 0.28571429],\n",
       "       [0.13636364, 0.22556391],\n",
       "       [0.22727273, 0.43609023],\n",
       "       [0.52272727, 0.15037594],\n",
       "       [0.34090909, 0.60902256],\n",
       "       [0.29545455, 0.40601504],\n",
       "       [0.20454545, 0.2406015 ],\n",
       "       [0.27272727, 0.31578947],\n",
       "       [0.06818182, 0.59398496],\n",
       "       [0.52272727, 0.17293233],\n",
       "       [0.18181818, 0.27819549],\n",
       "       [0.47727273, 0.12030075],\n",
       "       [0.77272727, 0.52631579],\n",
       "       [0.45454545, 0.60150376],\n",
       "       [0.65909091, 0.39849624],\n",
       "       [0.11363636, 0.7518797 ],\n",
       "       [0.43181818, 0.33082707],\n",
       "       [0.45454545, 0.20300752],\n",
       "       [0.13636364, 0.27067669],\n",
       "       [0.54545455, 0.03759398],\n",
       "       [0.34090909, 0.52631579],\n",
       "       [0.79545455, 0.5037594 ],\n",
       "       [0.15909091, 0.61654135],\n",
       "       [0.38636364, 0.63157895],\n",
       "       [0.13636364, 0.31578947],\n",
       "       [0.52272727, 0.13533835],\n",
       "       [0.72727273, 0.09774436],\n",
       "       [0.22727273, 0.41353383],\n",
       "       [0.25      , 0.54887218],\n",
       "       [0.15909091, 0.48120301],\n",
       "       [0.68181818, 0.5037594 ],\n",
       "       [0.68181818, 0.4962406 ],\n",
       "       [0.06818182, 0.45864662],\n",
       "       [0.22727273, 0.54135338],\n",
       "       [0.75      , 0.04511278],\n",
       "       [0.34090909, 0.66165414],\n",
       "       [0.65909091, 0.12781955],\n",
       "       [0.04545455, 0.82706767],\n",
       "       [0.22727273, 0.4962406 ],\n",
       "       [0.06818182, 0.82706767],\n",
       "       [0.22727273, 0.2556391 ],\n",
       "       [0.04545455, 0.73684211],\n",
       "       [0.25      , 0.60150376],\n",
       "       [0.38636364, 0.46616541],\n",
       "       [0.68181818, 0.62406015],\n",
       "       [0.20454545, 0.45864662],\n",
       "       [0.95454545, 0.36090226],\n",
       "       [0.47727273, 0.23308271],\n",
       "       [0.45454545, 0.27067669],\n",
       "       [0.90909091, 0.        ],\n",
       "       [0.34090909, 0.22556391],\n",
       "       [0.52272727, 0.42105263],\n",
       "       [0.22727273, 0.54887218],\n",
       "       [0.06818182, 0.57142857],\n",
       "       [0.45454545, 0.30075188],\n",
       "       [0.63636364, 0.12781955],\n",
       "       [0.36363636, 0.13533835],\n",
       "       [0.75      , 0.17293233],\n",
       "       [0.06818182, 0.82706767],\n",
       "       [0.97727273, 0.31578947],\n",
       "       [0.38636364, 0.28571429],\n",
       "       [0.31818182, 0.37593985],\n",
       "       [0.09090909, 0.45864662],\n",
       "       [0.65909091, 0.54887218],\n",
       "       [0.06818182, 0.71428571],\n",
       "       [0.13636364, 0.60150376],\n",
       "       [0.56818182, 0.56390977],\n",
       "       [0.34090909, 0.34586466],\n",
       "       [0.29545455, 0.21052632],\n",
       "       [0.27272727, 0.33082707],\n",
       "       [0.31818182, 0.5112782 ],\n",
       "       [0.34090909, 0.15789474],\n",
       "       [0.40909091, 0.57894737],\n",
       "       [0.22727273, 0.42105263],\n",
       "       [0.25      , 0.57894737],\n",
       "       [0.27272727, 0.37593985],\n",
       "       [0.15909091, 0.55639098],\n",
       "       [0.29545455, 0.30075188],\n",
       "       [0.52272727, 0.5037594 ],\n",
       "       [0.09090909, 0.59398496],\n",
       "       [0.45454545, 0.07518797],\n",
       "       [0.56818182, 0.48120301],\n",
       "       [0.27272727, 0.33082707],\n",
       "       [0.36363636, 0.38345865],\n",
       "       [0.04545455, 0.7518797 ],\n",
       "       [0.43181818, 0.51879699],\n",
       "       [0.43181818, 0.21804511],\n",
       "       [0.25      , 0.31578947],\n",
       "       [0.34090909, 0.55639098],\n",
       "       [0.29545455, 0.26315789],\n",
       "       [0.02272727, 0.38345865],\n",
       "       [0.56818182, 0.29323308],\n",
       "       [0.47727273, 0.12781955],\n",
       "       [0.04545455, 0.55639098],\n",
       "       [0.75      , 0.04511278],\n",
       "       [0.04545455, 0.82706767],\n",
       "       [0.09090909, 0.7518797 ],\n",
       "       [0.11363636, 0.7443609 ],\n",
       "       [0.13636364, 0.39097744],\n",
       "       [0.34090909, 0.48120301],\n",
       "       [0.27272727, 0.58646617],\n",
       "       [0.52272727, 0.17293233],\n",
       "       [0.15909091, 0.48120301],\n",
       "       [0.25      , 0.59398496],\n",
       "       [0.47727273, 0.2406015 ],\n",
       "       [0.20454545, 0.46616541],\n",
       "       [0.88636364, 0.36090226],\n",
       "       [0.29545455, 0.15037594],\n",
       "       [0.        , 0.53383459],\n",
       "       [0.90909091, 0.32330827],\n",
       "       [0.70454545, 0.47368421],\n",
       "       [0.29545455, 0.20300752],\n",
       "       [0.29545455, 0.61654135],\n",
       "       [0.34090909, 0.15037594],\n",
       "       [0.88636364, 0.46616541],\n",
       "       [0.11363636, 0.96992481],\n",
       "       [0.20454545, 0.42105263],\n",
       "       [0.11363636, 0.58646617],\n",
       "       [0.27272727, 0.35338346],\n",
       "       [0.43181818, 0.14285714],\n",
       "       [0.86363636, 0.46616541],\n",
       "       [0.04545455, 0.63909774],\n",
       "       [0.11363636, 0.96992481],\n",
       "       [0.25      , 0.27819549],\n",
       "       [0.11363636, 0.58646617],\n",
       "       [0.31818182, 0.40601504],\n",
       "       [0.22727273, 0.2556391 ],\n",
       "       [0.27272727, 0.39097744],\n",
       "       [0.13636364, 0.56390977],\n",
       "       [0.20454545, 0.20300752],\n",
       "       [0.20454545, 0.69924812],\n",
       "       [0.38636364, 0.20300752],\n",
       "       [0.54545455, 0.41353383],\n",
       "       [0.47727273, 0.23308271],\n",
       "       [0.25      , 0.59398496],\n",
       "       [0.29545455, 0.40601504],\n",
       "       [0.27272727, 0.33834586],\n",
       "       [0.31818182, 0.19548872],\n",
       "       [0.95454545, 0.36090226],\n",
       "       [0.09090909, 0.30827068],\n",
       "       [0.15909091, 0.4887218 ],\n",
       "       [0.34090909, 0.40601504],\n",
       "       [0.34090909, 0.30827068],\n",
       "       [0.34090909, 0.48120301],\n",
       "       [0.47727273, 0.09022556],\n",
       "       [0.54545455, 0.45112782],\n",
       "       [0.20454545, 0.27819549],\n",
       "       [0.36363636, 0.30827068],\n",
       "       [0.13636364, 0.5112782 ],\n",
       "       [0.25      , 0.40601504],\n",
       "       [0.43181818, 0.41353383],\n",
       "       [0.20454545, 0.2556391 ],\n",
       "       [0.29545455, 0.20300752],\n",
       "       [0.18181818, 0.61654135],\n",
       "       [0.90909091, 0.32330827],\n",
       "       [0.13636364, 0.7518797 ],\n",
       "       [0.31818182, 0.63157895],\n",
       "       [0.13636364, 0.2556391 ],\n",
       "       [0.13636364, 0.67669173],\n",
       "       [0.56818182, 0.29323308],\n",
       "       [0.31818182, 0.27819549],\n",
       "       [1.        , 0.31578947],\n",
       "       [0.34090909, 0.15037594],\n",
       "       [0.70454545, 0.10526316],\n",
       "       [0.04545455, 0.56390977],\n",
       "       [0.47727273, 0.20300752],\n",
       "       [0.27272727, 0.2556391 ],\n",
       "       [0.29545455, 0.40601504],\n",
       "       [0.65909091, 0.22556391],\n",
       "       [0.56818182, 0.23308271],\n",
       "       [0.09090909, 0.72180451],\n",
       "       [0.63636364, 0.17293233],\n",
       "       [0.15909091, 0.43609023],\n",
       "       [0.27272727, 0.4962406 ],\n",
       "       [0.27272727, 0.33082707],\n",
       "       [0.65909091, 0.20300752],\n",
       "       [0.15909091, 0.61654135],\n",
       "       [0.09090909, 0.46616541],\n",
       "       [0.04545455, 0.56390977],\n",
       "       [0.34090909, 0.23308271],\n",
       "       [0.61363636, 0.5112782 ],\n",
       "       [0.54545455, 0.55639098],\n",
       "       [0.29545455, 0.20300752],\n",
       "       [0.11363636, 0.56390977],\n",
       "       [0.20454545, 0.52631579],\n",
       "       [0.22727273, 0.57142857],\n",
       "       [0.47727273, 0.14285714],\n",
       "       [0.88636364, 0.10526316],\n",
       "       [0.86363636, 0.44360902],\n",
       "       [0.22727273, 0.52631579],\n",
       "       [0.79545455, 0.36842105],\n",
       "       [0.43181818, 0.40601504],\n",
       "       [0.5       , 0.12030075],\n",
       "       [0.18181818, 1.        ],\n",
       "       [0.13636364, 0.67669173],\n",
       "       [0.22727273, 0.42105263],\n",
       "       [0.43181818, 0.40601504],\n",
       "       [0.20454545, 0.55639098],\n",
       "       [0.90909091, 0.32330827],\n",
       "       [0.13636364, 0.31578947],\n",
       "       [0.06818182, 0.60150376],\n",
       "       [0.5       , 0.30075188],\n",
       "       [0.59090909, 0.10526316],\n",
       "       [0.25      , 0.18045113],\n",
       "       [0.25      , 0.21052632],\n",
       "       [0.34090909, 0.66165414],\n",
       "       [0.31818182, 0.45112782],\n",
       "       [0.38636364, 0.33082707],\n",
       "       [0.09090909, 0.45864662],\n",
       "       [0.56818182, 0.57894737],\n",
       "       [0.02272727, 0.7443609 ],\n",
       "       [0.06818182, 0.57142857],\n",
       "       [0.02272727, 0.7443609 ],\n",
       "       [0.06818182, 0.54135338],\n",
       "       [0.04545455, 0.55639098],\n",
       "       [0.29545455, 0.61654135],\n",
       "       [0.59090909, 0.5112782 ],\n",
       "       [0.90909091, 0.46616541],\n",
       "       [0.11363636, 0.59398496],\n",
       "       [0.15909091, 0.51879699],\n",
       "       [0.43181818, 0.40601504],\n",
       "       [0.09090909, 0.46616541],\n",
       "       [0.90909091, 0.5112782 ],\n",
       "       [0.25      , 0.63909774]])"
      ]
     },
     "execution_count": 21,
     "metadata": {},
     "output_type": "execute_result"
    }
   ],
   "source": [
    "x_train_scaled"
   ]
  },
  {
   "cell_type": "code",
   "execution_count": 22,
   "metadata": {},
   "outputs": [],
   "source": [
    "knn = KNeighborsClassifier(n_neighbors=3) # define model, defaultnya 5 \n",
    "knn.fit(x_train_scaled, y_train) # fitting / traing\n",
    "y_predict=knn.predict(x_test_scaled) # prediksi"
   ]
  },
  {
   "cell_type": "code",
   "execution_count": 23,
   "metadata": {},
   "outputs": [
    {
     "name": "stdout",
     "output_type": "stream",
     "text": [
      "Akurasi model KNN di dataset test adalah: 0.9807692307692307\n"
     ]
    }
   ],
   "source": [
    "print('Akurasi model KNN di dataset test adalah:', accuracy_score(y_test, y_predict))"
   ]
  },
  {
   "cell_type": "markdown",
   "metadata": {},
   "source": [
    "> nilai akurasi meningkat dari 90% menjadi 98% setelah dilakukan scalling"
   ]
  },
  {
   "cell_type": "markdown",
   "metadata": {},
   "source": [
    "## 1.5 Choosing K Factor"
   ]
  },
  {
   "cell_type": "code",
   "execution_count": 24,
   "metadata": {},
   "outputs": [],
   "source": [
    "import matplotlib.pyplot as plt"
   ]
  },
  {
   "cell_type": "code",
   "execution_count": 32,
   "metadata": {},
   "outputs": [],
   "source": [
    "k=range(1,30,2)\n",
    "testing_score=[]\n",
    "training_score=[]\n",
    "score=0\n",
    "\n",
    "for i in k:\n",
    "    knn = KNeighborsClassifier(n_neighbors=i)\n",
    "    knn.fit(x_train_scaled, y_train)\n",
    "    \n",
    "    y_predict_train=knn.predict(x_train_scaled)\n",
    "    training_score.append(accuracy_score(y_train,y_predict_train))\n",
    "    \n",
    "    y_predict_test=knn.predict(x_test_scaled)\n",
    "    acc_score=accuracy_score(y_test,y_predict_test)\n",
    "    testing_score.append(acc_score)\n",
    "    \n",
    "    if score<acc_score:\n",
    "        score=acc_score\n",
    "        best_k=i"
   ]
  },
  {
   "cell_type": "code",
   "execution_count": 33,
   "metadata": {},
   "outputs": [
    {
     "name": "stderr",
     "output_type": "stream",
     "text": [
      "C:\\Users\\ZenBook-Tiowiradin\\anaconda3\\lib\\site-packages\\seaborn\\_decorators.py:36: FutureWarning: Pass the following variables as keyword args: x, y. From version 0.12, the only valid positional argument will be `data`, and passing other arguments without an explicit keyword will result in an error or misinterpretation.\n",
      "  warnings.warn(\n",
      "C:\\Users\\ZenBook-Tiowiradin\\anaconda3\\lib\\site-packages\\seaborn\\_decorators.py:36: FutureWarning: Pass the following variables as keyword args: x, y. From version 0.12, the only valid positional argument will be `data`, and passing other arguments without an explicit keyword will result in an error or misinterpretation.\n",
      "  warnings.warn(\n",
      "C:\\Users\\ZenBook-Tiowiradin\\anaconda3\\lib\\site-packages\\seaborn\\_decorators.py:36: FutureWarning: Pass the following variables as keyword args: x, y. From version 0.12, the only valid positional argument will be `data`, and passing other arguments without an explicit keyword will result in an error or misinterpretation.\n",
      "  warnings.warn(\n",
      "C:\\Users\\ZenBook-Tiowiradin\\anaconda3\\lib\\site-packages\\seaborn\\_decorators.py:36: FutureWarning: Pass the following variables as keyword args: x, y. From version 0.12, the only valid positional argument will be `data`, and passing other arguments without an explicit keyword will result in an error or misinterpretation.\n",
      "  warnings.warn(\n"
     ]
    },
    {
     "data": {
      "image/png": "[encoded data removed]",
      "text/plain": [
       "<Figure size 720x504 with 1 Axes>"
      ]
     },
     "metadata": {
      "needs_background": "light"
     },
     "output_type": "display_data"
    }
   ],
   "source": [
    "plt.figure(figsize=(10,7))\n",
    "sns.lineplot(k,testing_score)\n",
    "sns.scatterplot(k,testing_score)\n",
    "sns.lineplot(k,training_score)\n",
    "sns.scatterplot(k,training_score)\n",
    "plt.legend(['testing accuracy','training accuracy'])\n",
    "plt.xticks(list(k))\n",
    "plt.show()"
   ]
  },
  {
   "cell_type": "code",
   "execution_count": 36,
   "metadata": {},
   "outputs": [
    {
     "name": "stdout",
     "output_type": "stream",
     "text": [
      "best k: 17\n",
      "best score: 0.9903846153846154\n"
     ]
    }
   ],
   "source": [
    "print('best k:', best_k)\n",
    "print('best score:', score)"
   ]
  },
  {
   "cell_type": "markdown",
   "metadata": {},
   "source": [
    ">Jumlah K (n neighbors) terbaik adalah 17, akurasi meningkat dari uji sebelumnya yaitu dari 98% menjadi 99%"
   ]
  },
  {
   "cell_type": "markdown",
   "metadata": {},
   "source": [
    "# 2 Decision Tree Classifier"
   ]
  },
  {
   "cell_type": "markdown",
   "metadata": {},
   "source": [
    "Analyze data white_wine.csv\n",
    "- Apply Decision Tree Classification Method (max_depth = 2)\n",
    "- target : quality (quality > 6 → Y = 1)\n",
    "- features : density alcohol\n",
    "- Validate the model using accuracy in 20% testing data\n",
    "- Apply scaling and Validate the model using accuracy in 20% testing data\n",
    "- Check the performance: is there any difference whether we applied scaling or not ?\n",
    "- Check the tree: is there any difference whether we applied scaling or not ?"
   ]
  },
  {
   "cell_type": "markdown",
   "metadata": {},
   "source": [
    "## 2.1 without scalling"
   ]
  },
  {
   "cell_type": "code",
   "execution_count": 38,
   "metadata": {},
   "outputs": [],
   "source": [
    "from sklearn.tree import DecisionTreeClassifier"
   ]
  },
  {
   "cell_type": "code",
   "execution_count": 49,
   "metadata": {},
   "outputs": [],
   "source": [
    "tree=DecisionTreeClassifier(max_depth=2)\n",
    "tree.fit(x_train,y_train)\n",
    "y_predict=tree.predict(x_test)"
   ]
  },
  {
   "cell_type": "code",
   "execution_count": 50,
   "metadata": {},
   "outputs": [
    {
     "name": "stdout",
     "output_type": "stream",
     "text": [
      "Nilai akurasi model Decision Tree Classifier without scalling: 0.9519230769230769\n"
     ]
    }
   ],
   "source": [
    "print('Nilai akurasi model Decision Tree Classifier without scalling:', accuracy_score(y_test,y_predict))"
   ]
  },
  {
   "cell_type": "code",
   "execution_count": 41,
   "metadata": {},
   "outputs": [],
   "source": [
    "from sklearn.tree import plot_tree"
   ]
  },
  {
   "cell_type": "code",
   "execution_count": 51,
   "metadata": {},
   "outputs": [
    {
     "data": {
      "image/png": "[encoded data removed]",
      "text/plain": [
       "<Figure size 720x504 with 1 Axes>"
      ]
     },
     "metadata": {
      "needs_background": "light"
     },
     "output_type": "display_data"
    }
   ],
   "source": [
    "plt.figure(figsize=(10,7))\n",
    "plot_tree(tree,feature_names=list(x), class_names=['Bad','Good'],filled=True)\n",
    "plt.show()"
   ]
  },
  {
   "cell_type": "code",
   "execution_count": 45,
   "metadata": {},
   "outputs": [
    {
     "data": {
      "text/plain": [
       "<AxesSubplot:xlabel='density', ylabel='alcohol'>"
      ]
     },
     "execution_count": 45,
     "metadata": {},
     "output_type": "execute_result"
    },
    {
     "data": {
      "image/png": "[encoded data removed]",
      "text/plain": [
       "<Figure size 432x288 with 1 Axes>"
      ]
     },
     "metadata": {
      "needs_background": "light"
     },
     "output_type": "display_data"
    }
   ],
   "source": [
    "sns.scatterplot(data=wine,x='density', y='alcohol', hue='label')"
   ]
  },
  {
   "cell_type": "markdown",
   "metadata": {},
   "source": [
    "## 2.2 with scalling"
   ]
  },
  {
   "cell_type": "code",
   "execution_count": 52,
   "metadata": {},
   "outputs": [],
   "source": [
    "tree2=DecisionTreeClassifier(max_depth=2)\n",
    "tree2.fit(x_train_scaled,y_train)\n",
    "y_predict=tree2.predict(x_test_scaled)"
   ]
  },
  {
   "cell_type": "code",
   "execution_count": 48,
   "metadata": {},
   "outputs": [
    {
     "name": "stdout",
     "output_type": "stream",
     "text": [
      "Nilai akurasi model Decision Tree Classifier with scalling: 0.9519230769230769\n"
     ]
    }
   ],
   "source": [
    "print('Nilai akurasi model Decision Tree Classifier with scalling:', accuracy_score(y_test,y_predict))"
   ]
  },
  {
   "cell_type": "code",
   "execution_count": 53,
   "metadata": {},
   "outputs": [
    {
     "data": {
      "image/png": "[encoded data removed]",
      "text/plain": [
       "<Figure size 720x504 with 1 Axes>"
      ]
     },
     "metadata": {
      "needs_background": "light"
     },
     "output_type": "display_data"
    }
   ],
   "source": [
    "plt.figure(figsize=(10,7))\n",
    "plot_tree(tree2,feature_names=list(x), class_names=['Bad','Good'],filled=True)\n",
    "plt.show()"
   ]
  },
  {
   "cell_type": "markdown",
   "metadata": {},
   "source": [
    ">Scalling tidak memberikan pengaruh terhadap performa Decision Tree (menghasilkan nilai akurasi yg sama), tetapi dapat menyulitkan interpretasi pohon keputusan.\n",
    "\n",
    ">Misal, di pohon pertama kita dapat mengetahui bahwa wine dengan konsentrasi alkohol di bawah 10.% dan density di bawah 1.001 akan diprediksi sebagai _bad_ wine. Di pohon keputusan kedua, angka ini menjadi angka hasil scalling yg tidak ada artinya sehingga lebih sulit dimengerti."
   ]
  },
  {
   "cell_type": "markdown",
   "metadata": {},
   "source": []
  },
  {
   "cell_type": "code",
   "execution_count": null,
   "metadata": {},
   "outputs": [],
   "source": []
  }
 ],
 "metadata": {
  "kernelspec": {
   "display_name": "Python 3",
   "language": "python",
   "name": "python3"
  },
  "language_info": {
   "codemirror_mode": {
    "name": "ipython",
    "version": 3
   },
   "file_extension": ".py",
   "mimetype": "text/x-python",
   "name": "python",
   "nbconvert_exporter": "python",
   "pygments_lexer": "ipython3",
   "version": "3.8.5"
  }
 },
 "nbformat": 4,
 "nbformat_minor": 4
}
